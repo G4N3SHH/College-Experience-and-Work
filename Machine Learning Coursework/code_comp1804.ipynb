{
 "cells": [
  {
   "cell_type": "markdown",
   "id": "a0d23c72-6432-4ac6-a39c-fadc2877e390",
   "metadata": {
    "id": "a0d23c72-6432-4ac6-a39c-fadc2877e390"
   },
   "source": [
    "# ML Coursework"
   ]
  },
  {
   "cell_type": "markdown",
   "id": "9f6bc013-c975-4ec8-b840-e6b032aeda8a",
   "metadata": {
    "id": "9f6bc013-c975-4ec8-b840-e6b032aeda8a"
   },
   "source": [
    "### Importing the modules"
   ]
  },
  {
   "cell_type": "code",
   "execution_count": 1,
   "id": "413dca51-d5eb-4be6-9796-8134fec2e6be",
   "metadata": {
    "id": "413dca51-d5eb-4be6-9796-8134fec2e6be"
   },
   "outputs": [],
   "source": [
    "import numpy as np\n",
    "import pandas as pd\n",
    "import matplotlib.pyplot as plt\n",
    "from sklearn.feature_extraction.text import CountVectorizer, TfidfVectorizer"
   ]
  },
  {
   "cell_type": "code",
   "execution_count": 3,
   "id": "5af25b6e-99c5-427d-b54b-e071d47bc5d9",
   "metadata": {
    "id": "5af25b6e-99c5-427d-b54b-e071d47bc5d9"
   },
   "outputs": [],
   "source": [
    "from sklearn.linear_model import SGDClassifier, LogisticRegression\n",
    "from sklearn.preprocessing import StandardScaler, MinMaxScaler, OneHotEncoder\n",
    "from sklearn.pipeline import Pipeline\n",
    "from sklearn.metrics import classification_report\n",
    "from sklearn.metrics import ConfusionMatrixDisplay\n",
    "from sklearn.metrics import accuracy_score, accuracy_score\n",
    "from sklearn.model_selection import GridSearchCV, RandomizedSearchCV, train_test_split\n",
    "from sklearn.svm import LinearSVC\n",
    "from sklearn.neighbors import NearestNeighbors\n",
    "from sklearn.naive_bayes import MultinomialNB\n",
    "from scipy import stats\n",
    "from sklearn.metrics import balanced_accuracy_score, accuracy_score\n",
    "from time import time as tt"
   ]
  },
  {
   "cell_type": "code",
   "execution_count": 4,
   "id": "b712bfda-de96-4d94-9ae3-d87fa48aaf90",
   "metadata": {
    "id": "b712bfda-de96-4d94-9ae3-d87fa48aaf90"
   },
   "outputs": [],
   "source": [
    "%%capture\n",
    "# we use %%capture to suppress the output. Comment the line above if you're working on local machine\n",
    "# install spacy\n",
    "!pip install --upgrade spacy\n",
    "!python -m spacy download en_core_web_sm\n",
    "!python -m spacy download en_core_web_md\n",
    "!pip install clean-text\n"
   ]
  },
  {
   "cell_type": "code",
   "execution_count": 5,
   "id": "301506f0-90ed-42ad-ab76-4c10cec6cfb3",
   "metadata": {
    "colab": {
     "base_uri": "https://localhost:8080/"
    },
    "id": "301506f0-90ed-42ad-ab76-4c10cec6cfb3",
    "outputId": "03450248-558e-4b3f-dacc-7eef51898329"
   },
   "outputs": [
    {
     "name": "stderr",
     "output_type": "stream",
     "text": [
      "Since the GPL-licensed package `unidecode` is not installed, using Python's `unicodedata` package which yields worse results.\n"
     ]
    }
   ],
   "source": [
    "import spacy\n",
    "from cleantext import clean"
   ]
  },
  {
   "cell_type": "markdown",
   "id": "94aced5f-4f65-45ac-9792-e78fdd854f37",
   "metadata": {
    "id": "94aced5f-4f65-45ac-9792-e78fdd854f37"
   },
   "source": [
    "### Performing EDA on the available dataset"
   ]
  },
  {
   "cell_type": "code",
   "execution_count": 5,
   "id": "d85dd2b9-9155-40c2-aa79-a33db69571e6",
   "metadata": {
    "colab": {
     "base_uri": "https://localhost:8080/",
     "height": 539
    },
    "id": "d85dd2b9-9155-40c2-aa79-a33db69571e6",
    "outputId": "c6756712-22f0-4034-b23c-adb7e552045c"
   },
   "outputs": [
    {
     "data": {
      "text/html": [
       "<div>\n",
       "<style scoped>\n",
       "    .dataframe tbody tr th:only-of-type {\n",
       "        vertical-align: middle;\n",
       "    }\n",
       "\n",
       "    .dataframe tbody tr th {\n",
       "        vertical-align: top;\n",
       "    }\n",
       "\n",
       "    .dataframe thead th {\n",
       "        text-align: right;\n",
       "    }\n",
       "</style>\n",
       "<table border=\"1\" class=\"dataframe\">\n",
       "  <thead>\n",
       "    <tr style=\"text-align: right;\">\n",
       "      <th></th>\n",
       "      <th>petition_ID</th>\n",
       "      <th>has_entity</th>\n",
       "      <th>relevant_department</th>\n",
       "      <th>deviation_across_regions</th>\n",
       "      <th>petition_status</th>\n",
       "      <th>petition_topic</th>\n",
       "      <th>petition_importance</th>\n",
       "      <th>petition_text</th>\n",
       "    </tr>\n",
       "  </thead>\n",
       "  <tbody>\n",
       "    <tr>\n",
       "      <th>0</th>\n",
       "      <td>607158</td>\n",
       "      <td>EVENT:NO_DATE:NO_PERSON:NO_</td>\n",
       "      <td>Department for Education</td>\n",
       "      <td>0.000137</td>\n",
       "      <td>unsuccessful</td>\n",
       "      <td>education</td>\n",
       "      <td>not_important</td>\n",
       "      <td>Ban school uniforms in English schools. I want...</td>\n",
       "    </tr>\n",
       "    <tr>\n",
       "      <th>1</th>\n",
       "      <td>590629</td>\n",
       "      <td>EVENT:NO_DATE:YES_PERSON:NO_</td>\n",
       "      <td>Department of Health and Social Care</td>\n",
       "      <td>0.002133</td>\n",
       "      <td>unsuccessful</td>\n",
       "      <td>uk government and devolution</td>\n",
       "      <td>important</td>\n",
       "      <td>Lock NHS pay rises to increases in pay for MPs...</td>\n",
       "    </tr>\n",
       "    <tr>\n",
       "      <th>2</th>\n",
       "      <td>652724</td>\n",
       "      <td>EVENT:NO_DATE:NO_PERSON:NO_</td>\n",
       "      <td>Department of Health and Social Care</td>\n",
       "      <td>0.000272</td>\n",
       "      <td>unsuccessful</td>\n",
       "      <td>health and social care</td>\n",
       "      <td>important</td>\n",
       "      <td>Require dose counters on SABA metered dose inh...</td>\n",
       "    </tr>\n",
       "    <tr>\n",
       "      <th>3</th>\n",
       "      <td>629281</td>\n",
       "      <td>EVENT:NO_DATE:NO_PERSON:NO_</td>\n",
       "      <td>HM Treasury</td>\n",
       "      <td>0.000083</td>\n",
       "      <td>unsuccessful</td>\n",
       "      <td>economy, labour and welfare</td>\n",
       "      <td>not_important</td>\n",
       "      <td>Remove the 20% VAT on private dementia day car...</td>\n",
       "    </tr>\n",
       "    <tr>\n",
       "      <th>4</th>\n",
       "      <td>301747</td>\n",
       "      <td>EVENT:NO_DATE:NO_PERSON:NO_</td>\n",
       "      <td>NaN</td>\n",
       "      <td>NaN</td>\n",
       "      <td>rejected</td>\n",
       "      <td>culture, sport and media</td>\n",
       "      <td>not_important</td>\n",
       "      <td>Make bank holidays a holiday. Make bank holida...</td>\n",
       "    </tr>\n",
       "  </tbody>\n",
       "</table>\n",
       "</div>"
      ],
      "text/plain": [
       "   petition_ID                    has_entity  \\\n",
       "0       607158   EVENT:NO_DATE:NO_PERSON:NO_   \n",
       "1       590629  EVENT:NO_DATE:YES_PERSON:NO_   \n",
       "2       652724   EVENT:NO_DATE:NO_PERSON:NO_   \n",
       "3       629281   EVENT:NO_DATE:NO_PERSON:NO_   \n",
       "4       301747   EVENT:NO_DATE:NO_PERSON:NO_   \n",
       "\n",
       "                    relevant_department  deviation_across_regions  \\\n",
       "0              Department for Education                  0.000137   \n",
       "1  Department of Health and Social Care                  0.002133   \n",
       "2  Department of Health and Social Care                  0.000272   \n",
       "3                           HM Treasury                  0.000083   \n",
       "4                                   NaN                       NaN   \n",
       "\n",
       "  petition_status                petition_topic petition_importance  \\\n",
       "0    unsuccessful                     education       not_important   \n",
       "1    unsuccessful  uk government and devolution           important   \n",
       "2    unsuccessful        health and social care           important   \n",
       "3    unsuccessful   economy, labour and welfare       not_important   \n",
       "4        rejected      culture, sport and media       not_important   \n",
       "\n",
       "                                       petition_text  \n",
       "0  Ban school uniforms in English schools. I want...  \n",
       "1  Lock NHS pay rises to increases in pay for MPs...  \n",
       "2  Require dose counters on SABA metered dose inh...  \n",
       "3  Remove the 20% VAT on private dementia day car...  \n",
       "4  Make bank holidays a holiday. Make bank holida...  "
      ]
     },
     "execution_count": 5,
     "metadata": {},
     "output_type": "execute_result"
    }
   ],
   "source": [
    "# from google.colab import drive\n",
    "# drive.mount('/content/drive')\n",
    "# data = pd.read_csv(\"/content/drive/MyDrive/Colab_Notebooks/comp1804_coursework_dataset_24-25.csv\")\n",
    "data = pd.read_csv(\"comp1804_coursework_dataset_24-25.csv\")\n",
    "data.head()"
   ]
  },
  {
   "cell_type": "code",
   "execution_count": 49,
   "id": "4c658529-8be8-40b2-83b9-2ec078371ca9",
   "metadata": {},
   "outputs": [
    {
     "name": "stdout",
     "output_type": "stream",
     "text": [
      "<class 'pandas.core.frame.DataFrame'>\n",
      "Index: 8520 entries, 0 to 8897\n",
      "Data columns (total 8 columns):\n",
      " #   Column                    Non-Null Count  Dtype  \n",
      "---  ------                    --------------  -----  \n",
      " 0   petition_ID               8520 non-null   int64  \n",
      " 1   has_entity                8520 non-null   object \n",
      " 2   relevant_department       6724 non-null   object \n",
      " 3   deviation_across_regions  6943 non-null   float64\n",
      " 4   petition_status           8520 non-null   object \n",
      " 5   petition_topic            8489 non-null   object \n",
      " 6   petition_importance       20 non-null     object \n",
      " 7   petition_text             8518 non-null   object \n",
      "dtypes: float64(1), int64(1), object(6)\n",
      "memory usage: 599.1+ KB\n"
     ]
    }
   ],
   "source": [
    "data.info()"
   ]
  },
  {
   "cell_type": "code",
   "execution_count": 73,
   "id": "46d6fef6-59ed-48a8-9f02-5e0e03264a1b",
   "metadata": {},
   "outputs": [
    {
     "data": {
      "text/plain": [
       "Index(['environment and animal welfare', 'health and social care',\n",
       "       'economy, labour and welfare', 'education', 'culture, sport and media',\n",
       "       'uk government and devolution', 'london', 'Health And Social Care',\n",
       "       'Environment And Animal Welfare', 'Economy, Labour And Welfare',\n",
       "       'Education', 'Culture, Sport And Media', 'Uk Government And Devolution',\n",
       "       'London'],\n",
       "      dtype='object', name='petition_topic')"
      ]
     },
     "execution_count": 73,
     "metadata": {},
     "output_type": "execute_result"
    }
   ],
   "source": [
    "data[\"petition_topic\"].value_counts().index"
   ]
  },
  {
   "cell_type": "code",
   "execution_count": 84,
   "id": "956da490-f01e-4aef-9e86-752c7e159247",
   "metadata": {
    "editable": true,
    "slideshow": {
     "slide_type": ""
    },
    "tags": []
   },
   "outputs": [
    {
     "data": {
      "image/png": "[encoded data removed]",
      "text/plain": [
       "<Figure size 1500x600 with 1 Axes>"
      ]
     },
     "metadata": {},
     "output_type": "display_data"
    }
   ],
   "source": [
    "plt.figure(figsize=(15, 6))\n",
    "plt.bar(data[\"petition_topic\"].value_counts().index,height=data[\"petition_topic\"].value_counts(), align='center')\n",
    "plt.xticks(data[\"petition_topic\"].value_counts().index, rotation = 90,)\n",
    "plt.xlabel('petition_topic', fontsize=10)\n",
    "plt.ylabel('Count', fontsize=10,rotation=90)\n",
    "plt.show()"
   ]
  },
  {
   "cell_type": "markdown",
   "id": "b91a4798-bd4c-4d76-87a4-be73e88e2457",
   "metadata": {
    "id": "b91a4798-bd4c-4d76-87a4-be73e88e2457"
   },
   "source": [
    "### Split the data into train and test before performing data cleaning on it"
   ]
  },
  {
   "cell_type": "code",
   "execution_count": 6,
   "id": "7a6b695a-9096-4bad-8297-a6b69aa41e50",
   "metadata": {
    "colab": {
     "base_uri": "https://localhost:8080/"
    },
    "id": "7a6b695a-9096-4bad-8297-a6b69aa41e50",
    "outputId": "d00cd7ec-57b5-40c1-c7f5-7f61ac11aa3b"
   },
   "outputs": [
    {
     "name": "stdout",
     "output_type": "stream",
     "text": [
      "There are 378 duplicates rows.\n"
     ]
    }
   ],
   "source": [
    "duplicates_rows = data.duplicated()\n",
    "# The result is True for rows that are a duplicate, False for rows that are not a duplicate\n",
    "\n",
    "print(f'There are {duplicates_rows.sum()} duplicates rows.')\n",
    "\n",
    "# We have no duplicates here,\n",
    "# but if we had them, to remove them we'd only keep the rows that are NOT duplicates\n",
    "data = data[~duplicates_rows]"
   ]
  },
  {
   "cell_type": "code",
   "execution_count": 7,
   "id": "a76559b0-f82f-4339-a93c-980b1780f33d",
   "metadata": {
    "id": "a76559b0-f82f-4339-a93c-980b1780f33d"
   },
   "outputs": [],
   "source": [
    "train_data,test_data = train_test_split(data, test_size=0.15)"
   ]
  },
  {
   "cell_type": "code",
   "execution_count": 8,
   "id": "1ce232e5-62bc-4ec9-92dc-aa49b7789539",
   "metadata": {
    "colab": {
     "base_uri": "https://localhost:8080/"
    },
    "id": "1ce232e5-62bc-4ec9-92dc-aa49b7789539",
    "outputId": "a8fa32f9-a0ef-40b4-f85d-59ae117a2086",
    "scrolled": true
   },
   "outputs": [
    {
     "name": "stdout",
     "output_type": "stream",
     "text": [
      "      petition_ID                    has_entity  \\\n",
      "7295       643417   EVENT:NO_DATE:NO_PERSON:NO_   \n",
      "3265       603349   EVENT:NO_DATE:NO_PERSON:NO_   \n",
      "2197       622551   EVENT:NO_DATE:NO_PERSON:NO_   \n",
      "7211       700916  EVENT:NO_DATE:YES_PERSON:NO_   \n",
      "2112       633096   EVENT:NO_DATE:NO_PERSON:NO_   \n",
      "\n",
      "                                    relevant_department  \\\n",
      "7295       Office of the Leader of the House of Commons   \n",
      "3265               Department of Health and Social Care   \n",
      "2197  Department for Environment, Food and Rural Aff...   \n",
      "7211                                                NaN   \n",
      "2112  Department for Environment, Food and Rural Aff...   \n",
      "\n",
      "      deviation_across_regions petition_status  \\\n",
      "7295                  0.000185    unsuccessful   \n",
      "3265                  0.000092    unsuccessful   \n",
      "2197                  0.000419    unsuccessful   \n",
      "7211                       NaN        rejected   \n",
      "2112                  0.000098    unsuccessful   \n",
      "\n",
      "                      petition_topic petition_importance  \\\n",
      "7295    uk government and devolution                 NaN   \n",
      "3265          health and social care                 NaN   \n",
      "2197  environment and animal welfare                 NaN   \n",
      "7211  environment and animal welfare                 NaN   \n",
      "2112  environment and animal welfare                 NaN   \n",
      "\n",
      "                                          petition_text  \n",
      "7295  Require approval through a referendum before a...  \n",
      "3265  Fund access to free period products for homele...  \n",
      "2197  Ban the release of any untreated raw sewage an...  \n",
      "7211  Allow use of fireworks on only Bonfire Night  ...  \n",
      "2112  Give councils powers to tax takeaway packaging...  \n"
     ]
    }
   ],
   "source": [
    "print(train_data.head(5))"
   ]
  },
  {
   "cell_type": "code",
   "execution_count": 9,
   "id": "e1c07e8c-94bb-4775-b9ad-5a804f86ae6c",
   "metadata": {
    "colab": {
     "base_uri": "https://localhost:8080/"
    },
    "id": "e1c07e8c-94bb-4775-b9ad-5a804f86ae6c",
    "outputId": "cf5aca06-233f-474b-d679-296d26da3ac1",
    "scrolled": true
   },
   "outputs": [
    {
     "name": "stdout",
     "output_type": "stream",
     "text": [
      "      petition_ID                    has_entity  \\\n",
      "2231       307517  EVENT:NO_DATE:YES_PERSON:NO_   \n",
      "1688       607566   EVENT:NO_DATE:NO_PERSON:NO_   \n",
      "8441       553127  EVENT:NO_DATE:NO_PERSON:YES_   \n",
      "7746       302292   EVENT:NO_DATE:NO_PERSON:NO_   \n",
      "8711       308227   EVENT:NO_DATE:NO_PERSON:NO_   \n",
      "\n",
      "                       relevant_department  deviation_across_regions  \\\n",
      "2231                                   NaN                       NaN   \n",
      "1688  Department of Health and Social Care                  0.000211   \n",
      "8441              Department for Transport                  0.000718   \n",
      "7746                                   NaN                       NaN   \n",
      "8711  Department of Health and Social Care                       NaN   \n",
      "\n",
      "     petition_status                  petition_topic petition_importance  \\\n",
      "2231        rejected  environment and animal welfare                 NaN   \n",
      "1688    unsuccessful          health and social care                 NaN   \n",
      "8441    unsuccessful          health and social care                 NaN   \n",
      "7746        rejected                       education                 NaN   \n",
      "8711        rejected          health and social care                 NaN   \n",
      "\n",
      "                                          petition_text  \n",
      "2231  Large retailers to provide proper security in ...  \n",
      "1688  Fund support and research for children sufferi...  \n",
      "8441  Require the DVSA provide waiting areas/toilets...  \n",
      "7746  Teesside University to Close Due to Covid-19. ...  \n",
      "8711  To pay a bursary to all NHS students employed ...  \n"
     ]
    }
   ],
   "source": [
    "print(test_data.head())"
   ]
  },
  {
   "cell_type": "markdown",
   "id": "95a66d8f-5709-4e56-8637-1f0cf0bbcc6a",
   "metadata": {
    "id": "95a66d8f-5709-4e56-8637-1f0cf0bbcc6a"
   },
   "source": [
    "### Perform clean up and EDA on both train and test data"
   ]
  },
  {
   "cell_type": "code",
   "execution_count": 10,
   "id": "840543ea-852a-4b91-9d2b-ef647acecbf7",
   "metadata": {
    "colab": {
     "base_uri": "https://localhost:8080/",
     "height": 554
    },
    "id": "840543ea-852a-4b91-9d2b-ef647acecbf7",
    "outputId": "6e4ce48d-56f9-4c31-d224-21f1dd84f7fd"
   },
   "outputs": [
    {
     "data": {
      "text/plain": [
       "petition_topic\n",
       "environment and animal welfare    1943\n",
       "health and social care            1702\n",
       "economy, labour and welfare       1028\n",
       "education                          990\n",
       "culture, sport and media           855\n",
       "uk government and devolution       611\n",
       "london                              48\n",
       "Health And Social Care              14\n",
       "Environment And Animal Welfare      10\n",
       "Economy, Labour And Welfare          6\n",
       "Culture, Sport And Media             5\n",
       "Uk Government And Devolution         2\n",
       "London                               1\n",
       "Education                            1\n",
       "Name: count, dtype: int64"
      ]
     },
     "execution_count": 10,
     "metadata": {},
     "output_type": "execute_result"
    }
   ],
   "source": [
    "train_data.petition_topic.value_counts()"
   ]
  },
  {
   "cell_type": "markdown",
   "id": "694bdb5a-7219-44b1-8c0d-e5fbdfefdd72",
   "metadata": {
    "id": "694bdb5a-7219-44b1-8c0d-e5fbdfefdd72"
   },
   "source": [
    "A lot of similar petition topics (classes in this case) but differentiated because of case sensitivity, so data cleaning is required so that only\n",
    "7 distinct classes exist in this"
   ]
  },
  {
   "cell_type": "code",
   "execution_count": 11,
   "id": "50407585-aa50-4e7a-9ebd-413eb6875b87",
   "metadata": {
    "id": "50407585-aa50-4e7a-9ebd-413eb6875b87"
   },
   "outputs": [],
   "source": [
    "train_data.loc[train_data.petition_topic=='Health And Social Care','petition_topic'] = 'health and social care'\n",
    "\n",
    "train_data.loc[train_data.petition_topic=='Environment And Animal Welfare','petition_topic'] = 'environment and animal welfare'\n",
    "\n",
    "train_data.loc[train_data.petition_topic=='Economy, Labour And Welfare','petition_topic'] = 'economy, labour and welfare'\n",
    "\n",
    "train_data.loc[train_data.petition_topic=='Education','petition_topic'] = 'education'\n",
    "\n",
    "train_data.loc[train_data.petition_topic=='Culture, Sport And Media','petition_topic'] = 'culture, sport and media'\n",
    "\n",
    "train_data.loc[train_data.petition_topic=='Uk Government And Devolution','petition_topic'] = 'uk government and devolution'\n",
    "\n",
    "train_data.loc[train_data.petition_topic=='London','petition_topic'] = 'london'"
   ]
  },
  {
   "cell_type": "code",
   "execution_count": 12,
   "id": "6e52d8c3-47f3-42ff-9475-2f80e3f23338",
   "metadata": {
    "colab": {
     "base_uri": "https://localhost:8080/",
     "height": 335
    },
    "id": "6e52d8c3-47f3-42ff-9475-2f80e3f23338",
    "outputId": "a39211d7-507a-4ef0-a17e-9f342edc1716"
   },
   "outputs": [
    {
     "data": {
      "text/plain": [
       "petition_topic\n",
       "environment and animal welfare    1953\n",
       "health and social care            1716\n",
       "economy, labour and welfare       1034\n",
       "education                          991\n",
       "culture, sport and media           860\n",
       "uk government and devolution       613\n",
       "london                              49\n",
       "Name: count, dtype: int64"
      ]
     },
     "execution_count": 12,
     "metadata": {},
     "output_type": "execute_result"
    }
   ],
   "source": [
    "train_data.petition_topic.value_counts()"
   ]
  },
  {
   "cell_type": "markdown",
   "id": "1c720bc1-f45f-4dfc-a7dd-c2ef91213eab",
   "metadata": {
    "id": "1c720bc1-f45f-4dfc-a7dd-c2ef91213eab"
   },
   "source": [
    "Similarly on the test data"
   ]
  },
  {
   "cell_type": "code",
   "execution_count": 13,
   "id": "03f97b8c-c12d-4c94-867a-2ee0742c4688",
   "metadata": {
    "colab": {
     "base_uri": "https://localhost:8080/",
     "height": 460
    },
    "id": "03f97b8c-c12d-4c94-867a-2ee0742c4688",
    "outputId": "f39702ee-3ee0-4c16-ba55-d9f15d54d7af"
   },
   "outputs": [
    {
     "data": {
      "text/plain": [
       "petition_topic\n",
       "environment and animal welfare    341\n",
       "health and social care            329\n",
       "education                         163\n",
       "culture, sport and media          157\n",
       "economy, labour and welfare       156\n",
       "uk government and devolution      108\n",
       "london                             11\n",
       "Education                           4\n",
       "Environment And Animal Welfare      3\n",
       "Health And Social Care              1\n",
       "Name: count, dtype: int64"
      ]
     },
     "execution_count": 13,
     "metadata": {},
     "output_type": "execute_result"
    }
   ],
   "source": [
    "test_data.petition_topic.value_counts()"
   ]
  },
  {
   "cell_type": "code",
   "execution_count": 14,
   "id": "4a5d82ef-dd03-464a-81e6-0f6d61f7c6c7",
   "metadata": {
    "id": "4a5d82ef-dd03-464a-81e6-0f6d61f7c6c7"
   },
   "outputs": [],
   "source": [
    "test_data.loc[test_data.petition_topic=='Health And Social Care','petition_topic'] = 'health and social care'\n",
    "\n",
    "test_data.loc[test_data.petition_topic=='Environment And Animal Welfare','petition_topic'] = 'environment and animal welfare'\n",
    "\n",
    "test_data.loc[test_data.petition_topic=='Economy, Labour And Welfare','petition_topic'] = 'economy, labour and welfare'\n",
    "\n",
    "test_data.loc[test_data.petition_topic=='Education','petition_topic'] = 'education'\n",
    "\n",
    "test_data.loc[test_data.petition_topic=='Culture, Sport And Media','petition_topic'] = 'culture, sport and media'\n",
    "\n",
    "test_data.loc[test_data.petition_topic=='Uk Government And Devolution','petition_topic'] = 'uk government and devolution'\n",
    "\n",
    "test_data.loc[test_data.petition_topic=='London','petition_topic'] = 'london'"
   ]
  },
  {
   "cell_type": "code",
   "execution_count": 15,
   "id": "1d200802-e93a-45d5-acd7-4705239e375b",
   "metadata": {
    "colab": {
     "base_uri": "https://localhost:8080/",
     "height": 335
    },
    "id": "1d200802-e93a-45d5-acd7-4705239e375b",
    "outputId": "454b95a9-424e-4961-8ee7-066d59591641"
   },
   "outputs": [
    {
     "data": {
      "text/plain": [
       "petition_topic\n",
       "environment and animal welfare    344\n",
       "health and social care            330\n",
       "education                         167\n",
       "culture, sport and media          157\n",
       "economy, labour and welfare       156\n",
       "uk government and devolution      108\n",
       "london                             11\n",
       "Name: count, dtype: int64"
      ]
     },
     "execution_count": 15,
     "metadata": {},
     "output_type": "execute_result"
    }
   ],
   "source": [
    "test_data.petition_topic.value_counts()"
   ]
  },
  {
   "cell_type": "markdown",
   "id": "bLj6uzPSp5Bn",
   "metadata": {
    "id": "bLj6uzPSp5Bn"
   },
   "source": [
    "There appears to be imbalance in the dataset"
   ]
  },
  {
   "cell_type": "markdown",
   "id": "d45a2c6b-6904-4e49-9da6-a21af03b8643",
   "metadata": {
    "id": "d45a2c6b-6904-4e49-9da6-a21af03b8643"
   },
   "source": [
    "Check for missing data in both train and test datas"
   ]
  },
  {
   "cell_type": "code",
   "execution_count": 16,
   "id": "7f8d6ce8-f907-4bad-b037-7302b9948ef5",
   "metadata": {
    "colab": {
     "base_uri": "https://localhost:8080/"
    },
    "id": "7f8d6ce8-f907-4bad-b037-7302b9948ef5",
    "outputId": "3295433a-f2e1-462f-e46d-df82aa27223a"
   },
   "outputs": [
    {
     "name": "stdout",
     "output_type": "stream",
     "text": [
      "<class 'pandas.core.frame.DataFrame'>\n",
      "Index: 7242 entries, 7295 to 2730\n",
      "Data columns (total 8 columns):\n",
      " #   Column                    Non-Null Count  Dtype  \n",
      "---  ------                    --------------  -----  \n",
      " 0   petition_ID               7242 non-null   int64  \n",
      " 1   has_entity                7242 non-null   object \n",
      " 2   relevant_department       5719 non-null   object \n",
      " 3   deviation_across_regions  5907 non-null   float64\n",
      " 4   petition_status           7242 non-null   object \n",
      " 5   petition_topic            7216 non-null   object \n",
      " 6   petition_importance       19 non-null     object \n",
      " 7   petition_text             7240 non-null   object \n",
      "dtypes: float64(1), int64(1), object(6)\n",
      "memory usage: 509.2+ KB\n"
     ]
    }
   ],
   "source": [
    "train_data.info()"
   ]
  },
  {
   "cell_type": "code",
   "execution_count": 17,
   "id": "7fd4daab-7ec0-4533-9088-b0250699fff3",
   "metadata": {
    "colab": {
     "base_uri": "https://localhost:8080/"
    },
    "id": "7fd4daab-7ec0-4533-9088-b0250699fff3",
    "outputId": "f4ab165c-1133-4ad6-b90d-deb18d874046"
   },
   "outputs": [
    {
     "name": "stdout",
     "output_type": "stream",
     "text": [
      "<class 'pandas.core.frame.DataFrame'>\n",
      "Index: 1278 entries, 2231 to 7562\n",
      "Data columns (total 8 columns):\n",
      " #   Column                    Non-Null Count  Dtype  \n",
      "---  ------                    --------------  -----  \n",
      " 0   petition_ID               1278 non-null   int64  \n",
      " 1   has_entity                1278 non-null   object \n",
      " 2   relevant_department       1005 non-null   object \n",
      " 3   deviation_across_regions  1036 non-null   float64\n",
      " 4   petition_status           1278 non-null   object \n",
      " 5   petition_topic            1273 non-null   object \n",
      " 6   petition_importance       1 non-null      object \n",
      " 7   petition_text             1278 non-null   object \n",
      "dtypes: float64(1), int64(1), object(6)\n",
      "memory usage: 89.9+ KB\n"
     ]
    }
   ],
   "source": [
    "test_data.info()"
   ]
  },
  {
   "cell_type": "code",
   "execution_count": 18,
   "id": "606360ca-447d-4fbc-954a-e97694eab8aa",
   "metadata": {
    "colab": {
     "base_uri": "https://localhost:8080/",
     "height": 1000
    },
    "id": "606360ca-447d-4fbc-954a-e97694eab8aa",
    "outputId": "fa01c5b0-7437-44a6-ad63-58b277aaddb8",
    "scrolled": true
   },
   "outputs": [
    {
     "data": {
      "text/html": [
       "<div>\n",
       "<style scoped>\n",
       "    .dataframe tbody tr th:only-of-type {\n",
       "        vertical-align: middle;\n",
       "    }\n",
       "\n",
       "    .dataframe tbody tr th {\n",
       "        vertical-align: top;\n",
       "    }\n",
       "\n",
       "    .dataframe thead th {\n",
       "        text-align: right;\n",
       "    }\n",
       "</style>\n",
       "<table border=\"1\" class=\"dataframe\">\n",
       "  <thead>\n",
       "    <tr style=\"text-align: right;\">\n",
       "      <th></th>\n",
       "      <th>petition_ID</th>\n",
       "      <th>has_entity</th>\n",
       "      <th>relevant_department</th>\n",
       "      <th>deviation_across_regions</th>\n",
       "      <th>petition_status</th>\n",
       "      <th>petition_topic</th>\n",
       "      <th>petition_importance</th>\n",
       "      <th>petition_text</th>\n",
       "    </tr>\n",
       "  </thead>\n",
       "  <tbody>\n",
       "    <tr>\n",
       "      <th>7295</th>\n",
       "      <td>643417</td>\n",
       "      <td>EVENT:NO_DATE:NO_PERSON:NO_</td>\n",
       "      <td>Office of the Leader of the House of Commons</td>\n",
       "      <td>0.000185</td>\n",
       "      <td>unsuccessful</td>\n",
       "      <td>uk government and devolution</td>\n",
       "      <td>NaN</td>\n",
       "      <td>Require approval through a referendum before a...</td>\n",
       "    </tr>\n",
       "    <tr>\n",
       "      <th>3265</th>\n",
       "      <td>603349</td>\n",
       "      <td>EVENT:NO_DATE:NO_PERSON:NO_</td>\n",
       "      <td>Department of Health and Social Care</td>\n",
       "      <td>0.000092</td>\n",
       "      <td>unsuccessful</td>\n",
       "      <td>health and social care</td>\n",
       "      <td>NaN</td>\n",
       "      <td>Fund access to free period products for homele...</td>\n",
       "    </tr>\n",
       "    <tr>\n",
       "      <th>2197</th>\n",
       "      <td>622551</td>\n",
       "      <td>EVENT:NO_DATE:NO_PERSON:NO_</td>\n",
       "      <td>Department for Environment, Food and Rural Aff...</td>\n",
       "      <td>0.000419</td>\n",
       "      <td>unsuccessful</td>\n",
       "      <td>environment and animal welfare</td>\n",
       "      <td>NaN</td>\n",
       "      <td>Ban the release of any untreated raw sewage an...</td>\n",
       "    </tr>\n",
       "    <tr>\n",
       "      <th>7211</th>\n",
       "      <td>700916</td>\n",
       "      <td>EVENT:NO_DATE:YES_PERSON:NO_</td>\n",
       "      <td>NaN</td>\n",
       "      <td>NaN</td>\n",
       "      <td>rejected</td>\n",
       "      <td>environment and animal welfare</td>\n",
       "      <td>NaN</td>\n",
       "      <td>Allow use of fireworks on only Bonfire Night  ...</td>\n",
       "    </tr>\n",
       "    <tr>\n",
       "      <th>2112</th>\n",
       "      <td>633096</td>\n",
       "      <td>EVENT:NO_DATE:NO_PERSON:NO_</td>\n",
       "      <td>Department for Environment, Food and Rural Aff...</td>\n",
       "      <td>0.000098</td>\n",
       "      <td>unsuccessful</td>\n",
       "      <td>environment and animal welfare</td>\n",
       "      <td>NaN</td>\n",
       "      <td>Give councils powers to tax takeaway packaging...</td>\n",
       "    </tr>\n",
       "    <tr>\n",
       "      <th>1802</th>\n",
       "      <td>625216</td>\n",
       "      <td>EVENT:NO_DATE:NO_PERSON:NO_</td>\n",
       "      <td>Cabinet Office</td>\n",
       "      <td>0.000079</td>\n",
       "      <td>unsuccessful</td>\n",
       "      <td>uk government and devolution</td>\n",
       "      <td>NaN</td>\n",
       "      <td>Form an emergency coalition Government. We cal...</td>\n",
       "    </tr>\n",
       "    <tr>\n",
       "      <th>1646</th>\n",
       "      <td>586582</td>\n",
       "      <td>EVENT:NO_DATE:NO_PERSON:YES_</td>\n",
       "      <td>Department for Transport</td>\n",
       "      <td>0.000378</td>\n",
       "      <td>unsuccessful</td>\n",
       "      <td>environment and animal welfare</td>\n",
       "      <td>NaN</td>\n",
       "      <td>Include vehicle battery and charger manufactur...</td>\n",
       "    </tr>\n",
       "    <tr>\n",
       "      <th>2806</th>\n",
       "      <td>622134</td>\n",
       "      <td>EVENT:NO_DATE:YES_PERSON:NO_</td>\n",
       "      <td>Department for Transport</td>\n",
       "      <td>0.000076</td>\n",
       "      <td>unsuccessful</td>\n",
       "      <td>environment and animal welfare</td>\n",
       "      <td>NaN</td>\n",
       "      <td>Stop charging double vehicle tax for the month...</td>\n",
       "    </tr>\n",
       "    <tr>\n",
       "      <th>3879</th>\n",
       "      <td>641910</td>\n",
       "      <td>EVENT:NO_DATE:NO_PERSON:YES_</td>\n",
       "      <td>Department for Transport</td>\n",
       "      <td>0.000183</td>\n",
       "      <td>unsuccessful</td>\n",
       "      <td>economy, labour and welfare</td>\n",
       "      <td>NaN</td>\n",
       "      <td>Make private hire taxis and hackney cabs zero-...</td>\n",
       "    </tr>\n",
       "    <tr>\n",
       "      <th>2571</th>\n",
       "      <td>553375</td>\n",
       "      <td>EVENT:NO_DATE:YES_PERSON:YES_</td>\n",
       "      <td>Department for Work and Pensions</td>\n",
       "      <td>0.000050</td>\n",
       "      <td>unsuccessful</td>\n",
       "      <td>economy, labour and welfare</td>\n",
       "      <td>NaN</td>\n",
       "      <td>Voluntary early retirement at 60 with reduced ...</td>\n",
       "    </tr>\n",
       "    <tr>\n",
       "      <th>6244</th>\n",
       "      <td>581139</td>\n",
       "      <td>EVENT:NO_DATE:YES_PERSON:YES_</td>\n",
       "      <td>Department for Environment, Food and Rural Aff...</td>\n",
       "      <td>0.000063</td>\n",
       "      <td>unsuccessful</td>\n",
       "      <td>environment and animal welfare</td>\n",
       "      <td>NaN</td>\n",
       "      <td>Ban plastic bags illegal and require the use o...</td>\n",
       "    </tr>\n",
       "    <tr>\n",
       "      <th>8156</th>\n",
       "      <td>316074</td>\n",
       "      <td>EVENT:NO_DATE:NO_PERSON:NO_</td>\n",
       "      <td>Department of Health and Social Care</td>\n",
       "      <td>0.000287</td>\n",
       "      <td>unsuccessful</td>\n",
       "      <td>culture, sport and media</td>\n",
       "      <td>NaN</td>\n",
       "      <td>The Government should directly fund all Air Am...</td>\n",
       "    </tr>\n",
       "    <tr>\n",
       "      <th>8686</th>\n",
       "      <td>593112</td>\n",
       "      <td>EVENT:NO_DATE:YES_PERSON:NO_</td>\n",
       "      <td>Office of the Leader of the House of Commons</td>\n",
       "      <td>0.000152</td>\n",
       "      <td>unsuccessful</td>\n",
       "      <td>uk government and devolution</td>\n",
       "      <td>NaN</td>\n",
       "      <td>Revoke rules against accusing MPs of deliberat...</td>\n",
       "    </tr>\n",
       "    <tr>\n",
       "      <th>1067</th>\n",
       "      <td>334297</td>\n",
       "      <td>EVENT:NO_DATE:NO_PERSON:YES_</td>\n",
       "      <td>Department for Environment, Food and Rural Aff...</td>\n",
       "      <td>0.000118</td>\n",
       "      <td>unsuccessful</td>\n",
       "      <td>environment and animal welfare</td>\n",
       "      <td>NaN</td>\n",
       "      <td>Introduce heavy fixed penalties starting at £1...</td>\n",
       "    </tr>\n",
       "    <tr>\n",
       "      <th>1933</th>\n",
       "      <td>647068</td>\n",
       "      <td>EVENT:NO_DATE:NO_PERSON:NO_</td>\n",
       "      <td>Department for Environment, Food and Rural Aff...</td>\n",
       "      <td>0.000409</td>\n",
       "      <td>unsuccessful</td>\n",
       "      <td>environment and animal welfare</td>\n",
       "      <td>NaN</td>\n",
       "      <td>Restrict the use of disclaimers by police to r...</td>\n",
       "    </tr>\n",
       "    <tr>\n",
       "      <th>4075</th>\n",
       "      <td>621652</td>\n",
       "      <td>EVENT:NO_DATE:NO_PERSON:NO_</td>\n",
       "      <td>Department for Work and Pensions</td>\n",
       "      <td>0.000214</td>\n",
       "      <td>unsuccessful</td>\n",
       "      <td>environment and animal welfare</td>\n",
       "      <td>NaN</td>\n",
       "      <td>Pay full £650 Cost Of Living Payment and £400 ...</td>\n",
       "    </tr>\n",
       "    <tr>\n",
       "      <th>7400</th>\n",
       "      <td>594844</td>\n",
       "      <td>EVENT:NO_DATE:NO_PERSON:NO_</td>\n",
       "      <td>Department for Transport</td>\n",
       "      <td>0.000063</td>\n",
       "      <td>unsuccessful</td>\n",
       "      <td>culture, sport and media</td>\n",
       "      <td>NaN</td>\n",
       "      <td>Make it law for all Taxi/Cab/Uber vehicles to ...</td>\n",
       "    </tr>\n",
       "    <tr>\n",
       "      <th>972</th>\n",
       "      <td>595860</td>\n",
       "      <td>EVENT:NO_DATE:NO_PERSON:NO_</td>\n",
       "      <td>Department for Environment, Food and Rural Aff...</td>\n",
       "      <td>0.001419</td>\n",
       "      <td>unsuccessful</td>\n",
       "      <td>health and social care</td>\n",
       "      <td>NaN</td>\n",
       "      <td>Require labels saying \"may contain\" an allerge...</td>\n",
       "    </tr>\n",
       "    <tr>\n",
       "      <th>5892</th>\n",
       "      <td>596761</td>\n",
       "      <td>EVENT:NO_DATE:NO_PERSON:NO_</td>\n",
       "      <td>Department for Environment, Food and Rural Aff...</td>\n",
       "      <td>0.000238</td>\n",
       "      <td>unsuccessful</td>\n",
       "      <td>environment and animal welfare</td>\n",
       "      <td>NaN</td>\n",
       "      <td>Run a public awareness campaign to reduce ener...</td>\n",
       "    </tr>\n",
       "    <tr>\n",
       "      <th>6618</th>\n",
       "      <td>644390</td>\n",
       "      <td>EVENT:NO_DATE:NO_PERSON:NO_</td>\n",
       "      <td>NaN</td>\n",
       "      <td>0.000032</td>\n",
       "      <td>unsuccessful</td>\n",
       "      <td>culture, sport and media</td>\n",
       "      <td>NaN</td>\n",
       "      <td>Warn all those entering the UK about scams. I ...</td>\n",
       "    </tr>\n",
       "    <tr>\n",
       "      <th>3390</th>\n",
       "      <td>300869</td>\n",
       "      <td>EVENT:NO_DATE:NO_PERSON:NO_</td>\n",
       "      <td>NaN</td>\n",
       "      <td>NaN</td>\n",
       "      <td>rejected</td>\n",
       "      <td>health and social care</td>\n",
       "      <td>NaN</td>\n",
       "      <td>Add images of sugar content on confectionery. ...</td>\n",
       "    </tr>\n",
       "    <tr>\n",
       "      <th>4621</th>\n",
       "      <td>633108</td>\n",
       "      <td>EVENT:NO_DATE:NO_PERSON:NO_</td>\n",
       "      <td>Department for Environment, Food and Rural Aff...</td>\n",
       "      <td>0.007566</td>\n",
       "      <td>successful_response</td>\n",
       "      <td>environment and animal welfare</td>\n",
       "      <td>NaN</td>\n",
       "      <td>Prohibit the Sale, Purchase, Deployment, and U...</td>\n",
       "    </tr>\n",
       "    <tr>\n",
       "      <th>3466</th>\n",
       "      <td>660200</td>\n",
       "      <td>EVENT:NO_DATE:YES_PERSON:YES_</td>\n",
       "      <td>Department of Health and Social Care</td>\n",
       "      <td>0.000043</td>\n",
       "      <td>unsuccessful</td>\n",
       "      <td>health and social care</td>\n",
       "      <td>NaN</td>\n",
       "      <td>Exempt people with severe mental health condit...</td>\n",
       "    </tr>\n",
       "    <tr>\n",
       "      <th>3538</th>\n",
       "      <td>653283</td>\n",
       "      <td>EVENT:NO_DATE:NO_PERSON:NO_</td>\n",
       "      <td>Department for Education</td>\n",
       "      <td>0.000053</td>\n",
       "      <td>unsuccessful</td>\n",
       "      <td>education</td>\n",
       "      <td>NaN</td>\n",
       "      <td>Require LAs to reimburse education costs follo...</td>\n",
       "    </tr>\n",
       "    <tr>\n",
       "      <th>8739</th>\n",
       "      <td>584150</td>\n",
       "      <td>EVENT:NO_DATE:NO_PERSON:NO_</td>\n",
       "      <td>HM Treasury</td>\n",
       "      <td>0.000033</td>\n",
       "      <td>unsuccessful</td>\n",
       "      <td>environment and animal welfare</td>\n",
       "      <td>NaN</td>\n",
       "      <td>Impose high import tariffs on goods not certif...</td>\n",
       "    </tr>\n",
       "    <tr>\n",
       "      <th>8253</th>\n",
       "      <td>700486</td>\n",
       "      <td>EVENT:NO_DATE:NO_PERSON:NO_</td>\n",
       "      <td>NaN</td>\n",
       "      <td>NaN</td>\n",
       "      <td>rejected</td>\n",
       "      <td>economy, labour and welfare</td>\n",
       "      <td>NaN</td>\n",
       "      <td>A victim should not have to suffer financially...</td>\n",
       "    </tr>\n",
       "    <tr>\n",
       "      <th>3811</th>\n",
       "      <td>580670</td>\n",
       "      <td>EVENT:NO_DATE:NO_PERSON:NO_</td>\n",
       "      <td>Department for Environment, Food and Rural Aff...</td>\n",
       "      <td>0.000077</td>\n",
       "      <td>unsuccessful</td>\n",
       "      <td>environment and animal welfare</td>\n",
       "      <td>NaN</td>\n",
       "      <td>Allow consumers to choose between water provid...</td>\n",
       "    </tr>\n",
       "    <tr>\n",
       "      <th>7426</th>\n",
       "      <td>316931</td>\n",
       "      <td>EVENT:NO_DATE:NO_PERSON:NO_</td>\n",
       "      <td>NaN</td>\n",
       "      <td>NaN</td>\n",
       "      <td>rejected</td>\n",
       "      <td>health and social care</td>\n",
       "      <td>NaN</td>\n",
       "      <td>Can there be a joined-up approach with the pha...</td>\n",
       "    </tr>\n",
       "    <tr>\n",
       "      <th>7174</th>\n",
       "      <td>572422</td>\n",
       "      <td>EVENT:NO_DATE:YES_PERSON:NO_</td>\n",
       "      <td>Department for Business, Energy and Industrial...</td>\n",
       "      <td>0.000027</td>\n",
       "      <td>unsuccessful</td>\n",
       "      <td>economy, labour and welfare</td>\n",
       "      <td>NaN</td>\n",
       "      <td>Raise the Universal Credit allowance for over ...</td>\n",
       "    </tr>\n",
       "    <tr>\n",
       "      <th>5348</th>\n",
       "      <td>309299</td>\n",
       "      <td>EVENT:NO_DATE:YES_PERSON:YES_</td>\n",
       "      <td>NaN</td>\n",
       "      <td>NaN</td>\n",
       "      <td>rejected</td>\n",
       "      <td>economy, labour and welfare</td>\n",
       "      <td>NaN</td>\n",
       "      <td>Direct UK insurance companies to pay out to cl...</td>\n",
       "    </tr>\n",
       "    <tr>\n",
       "      <th>5412</th>\n",
       "      <td>303325</td>\n",
       "      <td>EVENT:NO_DATE:YES_PERSON:YES_</td>\n",
       "      <td>NaN</td>\n",
       "      <td>NaN</td>\n",
       "      <td>rejected</td>\n",
       "      <td>environment and animal welfare</td>\n",
       "      <td>NaN</td>\n",
       "      <td>Introduce measures against \"panic buying\" for ...</td>\n",
       "    </tr>\n",
       "    <tr>\n",
       "      <th>5613</th>\n",
       "      <td>602742</td>\n",
       "      <td>EVENT:NO_DATE:NO_PERSON:YES_</td>\n",
       "      <td>Department of Health and Social Care</td>\n",
       "      <td>0.000081</td>\n",
       "      <td>unsuccessful</td>\n",
       "      <td>health and social care</td>\n",
       "      <td>NaN</td>\n",
       "      <td>Exempt carers from managed quarantine unless t...</td>\n",
       "    </tr>\n",
       "    <tr>\n",
       "      <th>4858</th>\n",
       "      <td>700763</td>\n",
       "      <td>EVENT:NO_DATE:YES_PERSON:YES_</td>\n",
       "      <td>NaN</td>\n",
       "      <td>NaN</td>\n",
       "      <td>rejected</td>\n",
       "      <td>environment and animal welfare</td>\n",
       "      <td>NaN</td>\n",
       "      <td>NO to Public Fireworks - End public sales and ...</td>\n",
       "    </tr>\n",
       "    <tr>\n",
       "      <th>801</th>\n",
       "      <td>609304</td>\n",
       "      <td>EVENT:NO_DATE:YES_PERSON:NO_</td>\n",
       "      <td>Department for Business, Energy and Industrial...</td>\n",
       "      <td>0.000037</td>\n",
       "      <td>unsuccessful</td>\n",
       "      <td>culture, sport and media</td>\n",
       "      <td>NaN</td>\n",
       "      <td>Ban trading on Sundays. The Government should ...</td>\n",
       "    </tr>\n",
       "    <tr>\n",
       "      <th>2343</th>\n",
       "      <td>654573</td>\n",
       "      <td>EVENT:NO_DATE:YES_PERSON:NO_</td>\n",
       "      <td>Department for Environment, Food and Rural Aff...</td>\n",
       "      <td>0.000402</td>\n",
       "      <td>unsuccessful</td>\n",
       "      <td>environment and animal welfare</td>\n",
       "      <td>NaN</td>\n",
       "      <td>Do not require XL Bully dogs to be muzzled unt...</td>\n",
       "    </tr>\n",
       "    <tr>\n",
       "      <th>4737</th>\n",
       "      <td>635145</td>\n",
       "      <td>EVENT:NO_DATE:NO_PERSON:NO_</td>\n",
       "      <td>HM Treasury</td>\n",
       "      <td>0.000091</td>\n",
       "      <td>unsuccessful</td>\n",
       "      <td>environment and animal welfare</td>\n",
       "      <td>NaN</td>\n",
       "      <td>Remove VAT on veterinary bills and medication....</td>\n",
       "    </tr>\n",
       "    <tr>\n",
       "      <th>7077</th>\n",
       "      <td>626507</td>\n",
       "      <td>EVENT:NO_DATE:NO_PERSON:NO_</td>\n",
       "      <td>Department for Education</td>\n",
       "      <td>0.000059</td>\n",
       "      <td>unsuccessful</td>\n",
       "      <td>education</td>\n",
       "      <td>NaN</td>\n",
       "      <td>Fund nit nurses in all schools. We want the Go...</td>\n",
       "    </tr>\n",
       "    <tr>\n",
       "      <th>2174</th>\n",
       "      <td>300019</td>\n",
       "      <td>EVENT:NO_DATE:NO_PERSON:NO_</td>\n",
       "      <td>Department of Health and Social Care</td>\n",
       "      <td>0.014283</td>\n",
       "      <td>successful_response</td>\n",
       "      <td>uk government and devolution</td>\n",
       "      <td>NaN</td>\n",
       "      <td>Revoke the Health and Social Care Act 2012 and...</td>\n",
       "    </tr>\n",
       "    <tr>\n",
       "      <th>2191</th>\n",
       "      <td>635979</td>\n",
       "      <td>EVENT:NO_DATE:NO_PERSON:NO_</td>\n",
       "      <td>Department for Education</td>\n",
       "      <td>0.003440</td>\n",
       "      <td>unsuccessful</td>\n",
       "      <td>education</td>\n",
       "      <td>NaN</td>\n",
       "      <td>Fully fund pay awards for school staff. We wan...</td>\n",
       "    </tr>\n",
       "    <tr>\n",
       "      <th>1539</th>\n",
       "      <td>607538</td>\n",
       "      <td>EVENT:NO_DATE:NO_PERSON:NO_</td>\n",
       "      <td>Department of Health and Social Care</td>\n",
       "      <td>0.000038</td>\n",
       "      <td>unsuccessful</td>\n",
       "      <td>health and social care</td>\n",
       "      <td>NaN</td>\n",
       "      <td>Scrap all charges for NHS services in England....</td>\n",
       "    </tr>\n",
       "    <tr>\n",
       "      <th>8272</th>\n",
       "      <td>319079</td>\n",
       "      <td>EVENT:NO_DATE:YES_PERSON:NO_</td>\n",
       "      <td>NaN</td>\n",
       "      <td>NaN</td>\n",
       "      <td>rejected</td>\n",
       "      <td>environment and animal welfare</td>\n",
       "      <td>NaN</td>\n",
       "      <td>Abolish 'Road Tax' as it's popularly termed, a...</td>\n",
       "    </tr>\n",
       "    <tr>\n",
       "      <th>1318</th>\n",
       "      <td>315147</td>\n",
       "      <td>EVENT:NO_DATE:NO_PERSON:NO_</td>\n",
       "      <td>Department of Health and Social Care</td>\n",
       "      <td>0.000080</td>\n",
       "      <td>unsuccessful</td>\n",
       "      <td>health and social care</td>\n",
       "      <td>NaN</td>\n",
       "      <td>Make COVID19 testing available to all key-work...</td>\n",
       "    </tr>\n",
       "    <tr>\n",
       "      <th>8446</th>\n",
       "      <td>596513</td>\n",
       "      <td>EVENT:NO_DATE:YES_PERSON:YES_</td>\n",
       "      <td>Department for Education</td>\n",
       "      <td>0.000063</td>\n",
       "      <td>unsuccessful</td>\n",
       "      <td>education</td>\n",
       "      <td>NaN</td>\n",
       "      <td>Make Critical Thinking and Logical Reasoning c...</td>\n",
       "    </tr>\n",
       "    <tr>\n",
       "      <th>4119</th>\n",
       "      <td>328047</td>\n",
       "      <td>EVENT:NO_DATE:YES_PERSON:YES_</td>\n",
       "      <td>Department of Health and Social Care</td>\n",
       "      <td>0.007394</td>\n",
       "      <td>successful_response</td>\n",
       "      <td>health and social care</td>\n",
       "      <td>NaN</td>\n",
       "      <td>Add Crohn's &amp; Colitis to the Medically Exempt ...</td>\n",
       "    </tr>\n",
       "    <tr>\n",
       "      <th>7425</th>\n",
       "      <td>627354</td>\n",
       "      <td>EVENT:NO_DATE:NO_PERSON:NO_</td>\n",
       "      <td>Department for Digital, Culture, Media and Sport</td>\n",
       "      <td>0.000046</td>\n",
       "      <td>unsuccessful</td>\n",
       "      <td>culture, sport and media</td>\n",
       "      <td>NaN</td>\n",
       "      <td>Introduce fines for social media sites that ho...</td>\n",
       "    </tr>\n",
       "    <tr>\n",
       "      <th>3617</th>\n",
       "      <td>552824</td>\n",
       "      <td>EVENT:NO_DATE:NO_PERSON:NO_</td>\n",
       "      <td>HM Treasury</td>\n",
       "      <td>0.000059</td>\n",
       "      <td>unsuccessful</td>\n",
       "      <td>environment and animal welfare</td>\n",
       "      <td>NaN</td>\n",
       "      <td>Reduced VAT on plastic-free products. Plastic ...</td>\n",
       "    </tr>\n",
       "    <tr>\n",
       "      <th>7297</th>\n",
       "      <td>314964</td>\n",
       "      <td>EVENT:NO_DATE:YES_PERSON:YES_</td>\n",
       "      <td>NaN</td>\n",
       "      <td>NaN</td>\n",
       "      <td>rejected</td>\n",
       "      <td>economy, labour and welfare</td>\n",
       "      <td>NaN</td>\n",
       "      <td>BE mp to donate 10k bonus to MK general for nu...</td>\n",
       "    </tr>\n",
       "    <tr>\n",
       "      <th>4914</th>\n",
       "      <td>701751</td>\n",
       "      <td>EVENT:NO_DATE:NO_PERSON:NO_</td>\n",
       "      <td>Department of Health and Social Care</td>\n",
       "      <td>0.000042</td>\n",
       "      <td>unsuccessful</td>\n",
       "      <td>health and social care</td>\n",
       "      <td>NaN</td>\n",
       "      <td>Fund a national checkup scheme at menopause in...</td>\n",
       "    </tr>\n",
       "    <tr>\n",
       "      <th>918</th>\n",
       "      <td>655190</td>\n",
       "      <td>EVENT:NO_DATE:NO_PERSON:NO_</td>\n",
       "      <td>Department of Health and Social Care</td>\n",
       "      <td>0.000234</td>\n",
       "      <td>unsuccessful</td>\n",
       "      <td>health and social care</td>\n",
       "      <td>NaN</td>\n",
       "      <td>Fund more research into women's health to impr...</td>\n",
       "    </tr>\n",
       "    <tr>\n",
       "      <th>2921</th>\n",
       "      <td>655486</td>\n",
       "      <td>EVENT:NO_DATE:NO_PERSON:NO_</td>\n",
       "      <td>Department for Energy Security and Net Zero</td>\n",
       "      <td>0.000027</td>\n",
       "      <td>unsuccessful</td>\n",
       "      <td>environment and animal welfare</td>\n",
       "      <td>NaN</td>\n",
       "      <td>Make direct payments to energy customers eligi...</td>\n",
       "    </tr>\n",
       "  </tbody>\n",
       "</table>\n",
       "</div>"
      ],
      "text/plain": [
       "      petition_ID                     has_entity  \\\n",
       "7295       643417    EVENT:NO_DATE:NO_PERSON:NO_   \n",
       "3265       603349    EVENT:NO_DATE:NO_PERSON:NO_   \n",
       "2197       622551    EVENT:NO_DATE:NO_PERSON:NO_   \n",
       "7211       700916   EVENT:NO_DATE:YES_PERSON:NO_   \n",
       "2112       633096    EVENT:NO_DATE:NO_PERSON:NO_   \n",
       "1802       625216    EVENT:NO_DATE:NO_PERSON:NO_   \n",
       "1646       586582   EVENT:NO_DATE:NO_PERSON:YES_   \n",
       "2806       622134   EVENT:NO_DATE:YES_PERSON:NO_   \n",
       "3879       641910   EVENT:NO_DATE:NO_PERSON:YES_   \n",
       "2571       553375  EVENT:NO_DATE:YES_PERSON:YES_   \n",
       "6244       581139  EVENT:NO_DATE:YES_PERSON:YES_   \n",
       "8156       316074    EVENT:NO_DATE:NO_PERSON:NO_   \n",
       "8686       593112   EVENT:NO_DATE:YES_PERSON:NO_   \n",
       "1067       334297   EVENT:NO_DATE:NO_PERSON:YES_   \n",
       "1933       647068    EVENT:NO_DATE:NO_PERSON:NO_   \n",
       "4075       621652    EVENT:NO_DATE:NO_PERSON:NO_   \n",
       "7400       594844    EVENT:NO_DATE:NO_PERSON:NO_   \n",
       "972        595860    EVENT:NO_DATE:NO_PERSON:NO_   \n",
       "5892       596761    EVENT:NO_DATE:NO_PERSON:NO_   \n",
       "6618       644390    EVENT:NO_DATE:NO_PERSON:NO_   \n",
       "3390       300869    EVENT:NO_DATE:NO_PERSON:NO_   \n",
       "4621       633108    EVENT:NO_DATE:NO_PERSON:NO_   \n",
       "3466       660200  EVENT:NO_DATE:YES_PERSON:YES_   \n",
       "3538       653283    EVENT:NO_DATE:NO_PERSON:NO_   \n",
       "8739       584150    EVENT:NO_DATE:NO_PERSON:NO_   \n",
       "8253       700486    EVENT:NO_DATE:NO_PERSON:NO_   \n",
       "3811       580670    EVENT:NO_DATE:NO_PERSON:NO_   \n",
       "7426       316931    EVENT:NO_DATE:NO_PERSON:NO_   \n",
       "7174       572422   EVENT:NO_DATE:YES_PERSON:NO_   \n",
       "5348       309299  EVENT:NO_DATE:YES_PERSON:YES_   \n",
       "5412       303325  EVENT:NO_DATE:YES_PERSON:YES_   \n",
       "5613       602742   EVENT:NO_DATE:NO_PERSON:YES_   \n",
       "4858       700763  EVENT:NO_DATE:YES_PERSON:YES_   \n",
       "801        609304   EVENT:NO_DATE:YES_PERSON:NO_   \n",
       "2343       654573   EVENT:NO_DATE:YES_PERSON:NO_   \n",
       "4737       635145    EVENT:NO_DATE:NO_PERSON:NO_   \n",
       "7077       626507    EVENT:NO_DATE:NO_PERSON:NO_   \n",
       "2174       300019    EVENT:NO_DATE:NO_PERSON:NO_   \n",
       "2191       635979    EVENT:NO_DATE:NO_PERSON:NO_   \n",
       "1539       607538    EVENT:NO_DATE:NO_PERSON:NO_   \n",
       "8272       319079   EVENT:NO_DATE:YES_PERSON:NO_   \n",
       "1318       315147    EVENT:NO_DATE:NO_PERSON:NO_   \n",
       "8446       596513  EVENT:NO_DATE:YES_PERSON:YES_   \n",
       "4119       328047  EVENT:NO_DATE:YES_PERSON:YES_   \n",
       "7425       627354    EVENT:NO_DATE:NO_PERSON:NO_   \n",
       "3617       552824    EVENT:NO_DATE:NO_PERSON:NO_   \n",
       "7297       314964  EVENT:NO_DATE:YES_PERSON:YES_   \n",
       "4914       701751    EVENT:NO_DATE:NO_PERSON:NO_   \n",
       "918        655190    EVENT:NO_DATE:NO_PERSON:NO_   \n",
       "2921       655486    EVENT:NO_DATE:NO_PERSON:NO_   \n",
       "\n",
       "                                    relevant_department  \\\n",
       "7295       Office of the Leader of the House of Commons   \n",
       "3265               Department of Health and Social Care   \n",
       "2197  Department for Environment, Food and Rural Aff...   \n",
       "7211                                                NaN   \n",
       "2112  Department for Environment, Food and Rural Aff...   \n",
       "1802                                     Cabinet Office   \n",
       "1646                           Department for Transport   \n",
       "2806                           Department for Transport   \n",
       "3879                           Department for Transport   \n",
       "2571                   Department for Work and Pensions   \n",
       "6244  Department for Environment, Food and Rural Aff...   \n",
       "8156               Department of Health and Social Care   \n",
       "8686       Office of the Leader of the House of Commons   \n",
       "1067  Department for Environment, Food and Rural Aff...   \n",
       "1933  Department for Environment, Food and Rural Aff...   \n",
       "4075                   Department for Work and Pensions   \n",
       "7400                           Department for Transport   \n",
       "972   Department for Environment, Food and Rural Aff...   \n",
       "5892  Department for Environment, Food and Rural Aff...   \n",
       "6618                                                NaN   \n",
       "3390                                                NaN   \n",
       "4621  Department for Environment, Food and Rural Aff...   \n",
       "3466               Department of Health and Social Care   \n",
       "3538                           Department for Education   \n",
       "8739                                        HM Treasury   \n",
       "8253                                                NaN   \n",
       "3811  Department for Environment, Food and Rural Aff...   \n",
       "7426                                                NaN   \n",
       "7174  Department for Business, Energy and Industrial...   \n",
       "5348                                                NaN   \n",
       "5412                                                NaN   \n",
       "5613               Department of Health and Social Care   \n",
       "4858                                                NaN   \n",
       "801   Department for Business, Energy and Industrial...   \n",
       "2343  Department for Environment, Food and Rural Aff...   \n",
       "4737                                        HM Treasury   \n",
       "7077                           Department for Education   \n",
       "2174               Department of Health and Social Care   \n",
       "2191                           Department for Education   \n",
       "1539               Department of Health and Social Care   \n",
       "8272                                                NaN   \n",
       "1318               Department of Health and Social Care   \n",
       "8446                           Department for Education   \n",
       "4119               Department of Health and Social Care   \n",
       "7425   Department for Digital, Culture, Media and Sport   \n",
       "3617                                        HM Treasury   \n",
       "7297                                                NaN   \n",
       "4914               Department of Health and Social Care   \n",
       "918                Department of Health and Social Care   \n",
       "2921        Department for Energy Security and Net Zero   \n",
       "\n",
       "      deviation_across_regions      petition_status  \\\n",
       "7295                  0.000185         unsuccessful   \n",
       "3265                  0.000092         unsuccessful   \n",
       "2197                  0.000419         unsuccessful   \n",
       "7211                       NaN             rejected   \n",
       "2112                  0.000098         unsuccessful   \n",
       "1802                  0.000079         unsuccessful   \n",
       "1646                  0.000378         unsuccessful   \n",
       "2806                  0.000076         unsuccessful   \n",
       "3879                  0.000183         unsuccessful   \n",
       "2571                  0.000050         unsuccessful   \n",
       "6244                  0.000063         unsuccessful   \n",
       "8156                  0.000287         unsuccessful   \n",
       "8686                  0.000152         unsuccessful   \n",
       "1067                  0.000118         unsuccessful   \n",
       "1933                  0.000409         unsuccessful   \n",
       "4075                  0.000214         unsuccessful   \n",
       "7400                  0.000063         unsuccessful   \n",
       "972                   0.001419         unsuccessful   \n",
       "5892                  0.000238         unsuccessful   \n",
       "6618                  0.000032         unsuccessful   \n",
       "3390                       NaN             rejected   \n",
       "4621                  0.007566  successful_response   \n",
       "3466                  0.000043         unsuccessful   \n",
       "3538                  0.000053         unsuccessful   \n",
       "8739                  0.000033         unsuccessful   \n",
       "8253                       NaN             rejected   \n",
       "3811                  0.000077         unsuccessful   \n",
       "7426                       NaN             rejected   \n",
       "7174                  0.000027         unsuccessful   \n",
       "5348                       NaN             rejected   \n",
       "5412                       NaN             rejected   \n",
       "5613                  0.000081         unsuccessful   \n",
       "4858                       NaN             rejected   \n",
       "801                   0.000037         unsuccessful   \n",
       "2343                  0.000402         unsuccessful   \n",
       "4737                  0.000091         unsuccessful   \n",
       "7077                  0.000059         unsuccessful   \n",
       "2174                  0.014283  successful_response   \n",
       "2191                  0.003440         unsuccessful   \n",
       "1539                  0.000038         unsuccessful   \n",
       "8272                       NaN             rejected   \n",
       "1318                  0.000080         unsuccessful   \n",
       "8446                  0.000063         unsuccessful   \n",
       "4119                  0.007394  successful_response   \n",
       "7425                  0.000046         unsuccessful   \n",
       "3617                  0.000059         unsuccessful   \n",
       "7297                       NaN             rejected   \n",
       "4914                  0.000042         unsuccessful   \n",
       "918                   0.000234         unsuccessful   \n",
       "2921                  0.000027         unsuccessful   \n",
       "\n",
       "                      petition_topic petition_importance  \\\n",
       "7295    uk government and devolution                 NaN   \n",
       "3265          health and social care                 NaN   \n",
       "2197  environment and animal welfare                 NaN   \n",
       "7211  environment and animal welfare                 NaN   \n",
       "2112  environment and animal welfare                 NaN   \n",
       "1802    uk government and devolution                 NaN   \n",
       "1646  environment and animal welfare                 NaN   \n",
       "2806  environment and animal welfare                 NaN   \n",
       "3879     economy, labour and welfare                 NaN   \n",
       "2571     economy, labour and welfare                 NaN   \n",
       "6244  environment and animal welfare                 NaN   \n",
       "8156        culture, sport and media                 NaN   \n",
       "8686    uk government and devolution                 NaN   \n",
       "1067  environment and animal welfare                 NaN   \n",
       "1933  environment and animal welfare                 NaN   \n",
       "4075  environment and animal welfare                 NaN   \n",
       "7400        culture, sport and media                 NaN   \n",
       "972           health and social care                 NaN   \n",
       "5892  environment and animal welfare                 NaN   \n",
       "6618        culture, sport and media                 NaN   \n",
       "3390          health and social care                 NaN   \n",
       "4621  environment and animal welfare                 NaN   \n",
       "3466          health and social care                 NaN   \n",
       "3538                       education                 NaN   \n",
       "8739  environment and animal welfare                 NaN   \n",
       "8253     economy, labour and welfare                 NaN   \n",
       "3811  environment and animal welfare                 NaN   \n",
       "7426          health and social care                 NaN   \n",
       "7174     economy, labour and welfare                 NaN   \n",
       "5348     economy, labour and welfare                 NaN   \n",
       "5412  environment and animal welfare                 NaN   \n",
       "5613          health and social care                 NaN   \n",
       "4858  environment and animal welfare                 NaN   \n",
       "801         culture, sport and media                 NaN   \n",
       "2343  environment and animal welfare                 NaN   \n",
       "4737  environment and animal welfare                 NaN   \n",
       "7077                       education                 NaN   \n",
       "2174    uk government and devolution                 NaN   \n",
       "2191                       education                 NaN   \n",
       "1539          health and social care                 NaN   \n",
       "8272  environment and animal welfare                 NaN   \n",
       "1318          health and social care                 NaN   \n",
       "8446                       education                 NaN   \n",
       "4119          health and social care                 NaN   \n",
       "7425        culture, sport and media                 NaN   \n",
       "3617  environment and animal welfare                 NaN   \n",
       "7297     economy, labour and welfare                 NaN   \n",
       "4914          health and social care                 NaN   \n",
       "918           health and social care                 NaN   \n",
       "2921  environment and animal welfare                 NaN   \n",
       "\n",
       "                                          petition_text  \n",
       "7295  Require approval through a referendum before a...  \n",
       "3265  Fund access to free period products for homele...  \n",
       "2197  Ban the release of any untreated raw sewage an...  \n",
       "7211  Allow use of fireworks on only Bonfire Night  ...  \n",
       "2112  Give councils powers to tax takeaway packaging...  \n",
       "1802  Form an emergency coalition Government. We cal...  \n",
       "1646  Include vehicle battery and charger manufactur...  \n",
       "2806  Stop charging double vehicle tax for the month...  \n",
       "3879  Make private hire taxis and hackney cabs zero-...  \n",
       "2571  Voluntary early retirement at 60 with reduced ...  \n",
       "6244  Ban plastic bags illegal and require the use o...  \n",
       "8156  The Government should directly fund all Air Am...  \n",
       "8686  Revoke rules against accusing MPs of deliberat...  \n",
       "1067  Introduce heavy fixed penalties starting at £1...  \n",
       "1933  Restrict the use of disclaimers by police to r...  \n",
       "4075  Pay full £650 Cost Of Living Payment and £400 ...  \n",
       "7400  Make it law for all Taxi/Cab/Uber vehicles to ...  \n",
       "972   Require labels saying \"may contain\" an allerge...  \n",
       "5892  Run a public awareness campaign to reduce ener...  \n",
       "6618  Warn all those entering the UK about scams. I ...  \n",
       "3390  Add images of sugar content on confectionery. ...  \n",
       "4621  Prohibit the Sale, Purchase, Deployment, and U...  \n",
       "3466  Exempt people with severe mental health condit...  \n",
       "3538  Require LAs to reimburse education costs follo...  \n",
       "8739  Impose high import tariffs on goods not certif...  \n",
       "8253  A victim should not have to suffer financially...  \n",
       "3811  Allow consumers to choose between water provid...  \n",
       "7426  Can there be a joined-up approach with the pha...  \n",
       "7174  Raise the Universal Credit allowance for over ...  \n",
       "5348  Direct UK insurance companies to pay out to cl...  \n",
       "5412  Introduce measures against \"panic buying\" for ...  \n",
       "5613  Exempt carers from managed quarantine unless t...  \n",
       "4858  NO to Public Fireworks - End public sales and ...  \n",
       "801   Ban trading on Sundays. The Government should ...  \n",
       "2343  Do not require XL Bully dogs to be muzzled unt...  \n",
       "4737  Remove VAT on veterinary bills and medication....  \n",
       "7077  Fund nit nurses in all schools. We want the Go...  \n",
       "2174  Revoke the Health and Social Care Act 2012 and...  \n",
       "2191  Fully fund pay awards for school staff. We wan...  \n",
       "1539  Scrap all charges for NHS services in England....  \n",
       "8272  Abolish 'Road Tax' as it's popularly termed, a...  \n",
       "1318  Make COVID19 testing available to all key-work...  \n",
       "8446  Make Critical Thinking and Logical Reasoning c...  \n",
       "4119  Add Crohn's & Colitis to the Medically Exempt ...  \n",
       "7425  Introduce fines for social media sites that ho...  \n",
       "3617  Reduced VAT on plastic-free products. Plastic ...  \n",
       "7297  BE mp to donate 10k bonus to MK general for nu...  \n",
       "4914  Fund a national checkup scheme at menopause in...  \n",
       "918   Fund more research into women's health to impr...  \n",
       "2921  Make direct payments to energy customers eligi...  "
      ]
     },
     "execution_count": 18,
     "metadata": {},
     "output_type": "execute_result"
    }
   ],
   "source": [
    "train_data.head(50)"
   ]
  },
  {
   "cell_type": "markdown",
   "id": "bc8eaaa0-07b9-4b4a-b34f-5476ff4d49e8",
   "metadata": {
    "id": "bc8eaaa0-07b9-4b4a-b34f-5476ff4d49e8"
   },
   "source": [
    "### the topic to predict is in the column: “petition_topic”. The input features to use are: “petition_text” and “has_entity”"
   ]
  },
  {
   "cell_type": "code",
   "execution_count": 19,
   "id": "74ae74ba-5fc0-48b6-aad5-543cc25148c1",
   "metadata": {
    "colab": {
     "base_uri": "https://localhost:8080/",
     "height": 178
    },
    "id": "74ae74ba-5fc0-48b6-aad5-543cc25148c1",
    "outputId": "ba957c17-7b68-4801-aed6-f6973916a0f3"
   },
   "outputs": [
    {
     "data": {
      "text/plain": [
       "has_entity         0\n",
       "petition_topic    26\n",
       "petition_text      2\n",
       "dtype: int64"
      ]
     },
     "execution_count": 19,
     "metadata": {},
     "output_type": "execute_result"
    }
   ],
   "source": [
    "train_data[[\"has_entity\",\"petition_topic\",\"petition_text\"]].isna().sum()"
   ]
  },
  {
   "cell_type": "code",
   "execution_count": 20,
   "id": "24fc0951-1d35-4070-9a74-dd4af3e0c8aa",
   "metadata": {
    "colab": {
     "base_uri": "https://localhost:8080/",
     "height": 178
    },
    "id": "24fc0951-1d35-4070-9a74-dd4af3e0c8aa",
    "outputId": "a160f705-5411-42bc-941d-00f3bc10e69b"
   },
   "outputs": [
    {
     "data": {
      "text/plain": [
       "has_entity        0\n",
       "petition_topic    5\n",
       "petition_text     0\n",
       "dtype: int64"
      ]
     },
     "execution_count": 20,
     "metadata": {},
     "output_type": "execute_result"
    }
   ],
   "source": [
    "test_data[[\"has_entity\",\"petition_topic\",\"petition_text\"]].isna().sum()"
   ]
  },
  {
   "cell_type": "markdown",
   "id": "f95b42b8-edcc-4aa9-8095-d2bfee33f746",
   "metadata": {
    "id": "f95b42b8-edcc-4aa9-8095-d2bfee33f746"
   },
   "source": [
    "since the petition_topic is the target variable, I will be droping the missing values whereas the petition_text is missing in only 2 records, I am dropping that too"
   ]
  },
  {
   "cell_type": "code",
   "execution_count": 21,
   "id": "e30c32a8-b06e-446a-a23b-8c35653b30b0",
   "metadata": {
    "id": "e30c32a8-b06e-446a-a23b-8c35653b30b0"
   },
   "outputs": [],
   "source": [
    "train_data = train_data.dropna(subset=[\"petition_topic\"])\n",
    "train_data = train_data.dropna(subset=[\"petition_text\"])"
   ]
  },
  {
   "cell_type": "code",
   "execution_count": 22,
   "id": "1d7f5585-36fb-43f4-8a4f-101bede21f64",
   "metadata": {
    "id": "1d7f5585-36fb-43f4-8a4f-101bede21f64"
   },
   "outputs": [],
   "source": [
    "test_data = test_data.dropna(subset=[\"petition_topic\"])\n",
    "test_data = test_data.dropna(subset=[\"petition_text\"])"
   ]
  },
  {
   "cell_type": "code",
   "execution_count": 23,
   "id": "486c81e3-ccfc-47b3-9971-f7e2b8c3b915",
   "metadata": {
    "colab": {
     "base_uri": "https://localhost:8080/",
     "height": 178
    },
    "id": "486c81e3-ccfc-47b3-9971-f7e2b8c3b915",
    "outputId": "b469f534-d63b-49a2-b345-2aa1c85f45a6"
   },
   "outputs": [
    {
     "data": {
      "text/plain": [
       "has_entity        0\n",
       "petition_topic    0\n",
       "petition_text     0\n",
       "dtype: int64"
      ]
     },
     "execution_count": 23,
     "metadata": {},
     "output_type": "execute_result"
    }
   ],
   "source": [
    "train_data[[\"has_entity\",\"petition_topic\",\"petition_text\"]].isna().sum()"
   ]
  },
  {
   "cell_type": "code",
   "execution_count": 24,
   "id": "59fe91dd-b473-4cdf-b37e-677042446154",
   "metadata": {
    "colab": {
     "base_uri": "https://localhost:8080/",
     "height": 178
    },
    "id": "59fe91dd-b473-4cdf-b37e-677042446154",
    "outputId": "ccc64e8f-d599-4628-aba0-0148bccb0f35"
   },
   "outputs": [
    {
     "data": {
      "text/plain": [
       "has_entity        0\n",
       "petition_topic    0\n",
       "petition_text     0\n",
       "dtype: int64"
      ]
     },
     "execution_count": 24,
     "metadata": {},
     "output_type": "execute_result"
    }
   ],
   "source": [
    "test_data[[\"has_entity\",\"petition_topic\",\"petition_text\"]].isna().sum()"
   ]
  },
  {
   "cell_type": "code",
   "execution_count": 25,
   "id": "d55e1c81-dafd-4175-971b-7d967feb1818",
   "metadata": {
    "colab": {
     "base_uri": "https://localhost:8080/"
    },
    "id": "d55e1c81-dafd-4175-971b-7d967feb1818",
    "outputId": "9ac988fe-0136-4cb4-b756-7c0faa20b0d8"
   },
   "outputs": [
    {
     "name": "stdout",
     "output_type": "stream",
     "text": [
      "<class 'pandas.core.frame.DataFrame'>\n",
      "Index: 7214 entries, 7295 to 2730\n",
      "Data columns (total 8 columns):\n",
      " #   Column                    Non-Null Count  Dtype  \n",
      "---  ------                    --------------  -----  \n",
      " 0   petition_ID               7214 non-null   int64  \n",
      " 1   has_entity                7214 non-null   object \n",
      " 2   relevant_department       5697 non-null   object \n",
      " 3   deviation_across_regions  5885 non-null   float64\n",
      " 4   petition_status           7214 non-null   object \n",
      " 5   petition_topic            7214 non-null   object \n",
      " 6   petition_importance       19 non-null     object \n",
      " 7   petition_text             7214 non-null   object \n",
      "dtypes: float64(1), int64(1), object(6)\n",
      "memory usage: 507.2+ KB\n"
     ]
    }
   ],
   "source": [
    "train_data.info()"
   ]
  },
  {
   "cell_type": "code",
   "execution_count": 26,
   "id": "3aff7ef0-09c1-4e59-af03-fafb2aa9ff71",
   "metadata": {
    "colab": {
     "base_uri": "https://localhost:8080/"
    },
    "id": "3aff7ef0-09c1-4e59-af03-fafb2aa9ff71",
    "outputId": "f5012834-8b52-4923-ce97-e87cade9a2dd"
   },
   "outputs": [
    {
     "name": "stdout",
     "output_type": "stream",
     "text": [
      "<class 'pandas.core.frame.DataFrame'>\n",
      "Index: 1273 entries, 2231 to 7562\n",
      "Data columns (total 8 columns):\n",
      " #   Column                    Non-Null Count  Dtype  \n",
      "---  ------                    --------------  -----  \n",
      " 0   petition_ID               1273 non-null   int64  \n",
      " 1   has_entity                1273 non-null   object \n",
      " 2   relevant_department       1001 non-null   object \n",
      " 3   deviation_across_regions  1031 non-null   float64\n",
      " 4   petition_status           1273 non-null   object \n",
      " 5   petition_topic            1273 non-null   object \n",
      " 6   petition_importance       1 non-null      object \n",
      " 7   petition_text             1273 non-null   object \n",
      "dtypes: float64(1), int64(1), object(6)\n",
      "memory usage: 89.5+ KB\n"
     ]
    }
   ],
   "source": [
    "test_data.info()"
   ]
  },
  {
   "cell_type": "code",
   "execution_count": 27,
   "id": "53cfce20-fd9a-47a1-8ad6-de320957cbfe",
   "metadata": {
    "colab": {
     "base_uri": "https://localhost:8080/",
     "height": 335
    },
    "id": "53cfce20-fd9a-47a1-8ad6-de320957cbfe",
    "outputId": "b9721d5b-e43c-40bc-a859-21fffe061292",
    "scrolled": true
   },
   "outputs": [
    {
     "data": {
      "text/plain": [
       "petition_ID                    0\n",
       "has_entity                     0\n",
       "relevant_department         1517\n",
       "deviation_across_regions    1329\n",
       "petition_status                0\n",
       "petition_topic                 0\n",
       "petition_importance         7195\n",
       "petition_text                  0\n",
       "dtype: int64"
      ]
     },
     "execution_count": 27,
     "metadata": {},
     "output_type": "execute_result"
    }
   ],
   "source": [
    "train_data.isna().sum()"
   ]
  },
  {
   "cell_type": "code",
   "execution_count": 28,
   "id": "03ca2786-5e6b-4228-9ed4-bf676c33af32",
   "metadata": {
    "id": "03ca2786-5e6b-4228-9ed4-bf676c33af32"
   },
   "outputs": [],
   "source": [
    "mod_train_data = train_data.drop(columns=[\"relevant_department\",\"deviation_across_regions\",\"petition_importance\"])\n",
    "mod_test_data= test_data.drop(columns=[\"relevant_department\",\"deviation_across_regions\",\"petition_importance\"])"
   ]
  },
  {
   "cell_type": "markdown",
   "id": "7995e6ec-14b3-4bb9-84ca-e80af8dac114",
   "metadata": {
    "id": "7995e6ec-14b3-4bb9-84ca-e80af8dac114"
   },
   "source": [
    "## Now to clean and tokenize the petition_text column"
   ]
  },
  {
   "cell_type": "code",
   "execution_count": 29,
   "id": "8fe930ee-91b8-4e06-bc0c-21c3a0773aa5",
   "metadata": {
    "colab": {
     "base_uri": "https://localhost:8080/"
    },
    "id": "8fe930ee-91b8-4e06-bc0c-21c3a0773aa5",
    "outputId": "0021ec6f-a3ab-4580-fc82-a6c88ad92586"
   },
   "outputs": [
    {
     "name": "stdout",
     "output_type": "stream",
     "text": [
      "How many texts have the newline character \"\\n\"?\n",
      "train:  2746\n",
      "test:  492\n"
     ]
    }
   ],
   "source": [
    "print('How many texts have the newline character \"\\\\n\"?')\n",
    "\n",
    "print(\"train: \", mod_train_data['petition_text'].str.contains(\"\\n\").sum())\n",
    "print(\"test: \",mod_test_data['petition_text'].str.contains(\"\\n\").sum())"
   ]
  },
  {
   "cell_type": "code",
   "execution_count": 30,
   "id": "26aa2f34-d5c3-49e9-abc2-d5ce1088a8b3",
   "metadata": {
    "id": "26aa2f34-d5c3-49e9-abc2-d5ce1088a8b3"
   },
   "outputs": [
    {
     "name": "stderr",
     "output_type": "stream",
     "text": [
      "Since the GPL-licensed package `unidecode` is not installed, using Python's `unicodedata` package which yields worse results.\n"
     ]
    }
   ],
   "source": [
    "from cleantext import clean\n",
    "\n",
    "def clean_text(x):\n",
    "  \"\"\" Define standard cleaning procedure \"\"\"\n",
    "  return clean(x,\n",
    "    fix_unicode=True,               # fix various unicode errors\n",
    "    lower=True,                     # change all text to lowercase\n",
    "    no_line_breaks=True,           # this removes occurrences of the newline character \"\\n\"\n",
    "    no_punct=False,                 # let's NOT remove punctuations for the time being\n",
    "    no_urls=True,                  # replace all URLs with a special token (below)\n",
    "    replace_with_url=\"\",          # we decide to replace urls with nothing\n",
    "    no_emails=True,                # replace all email addresses with a special token\n",
    "    replace_with_email=\"\",        # we decide to replace emails with nothing\n",
    "    no_phone_numbers=True,         # replace all phone numbers with a special token\n",
    "    replace_with_phone_number=\"\",   # we decide to replace phone numbers with nothing\n",
    "    lang=\"en\"                       # set to 'de' for German special handling\n",
    "    )\n"
   ]
  },
  {
   "cell_type": "code",
   "execution_count": 31,
   "id": "43babfaa-5a52-448a-965c-42eacde78422",
   "metadata": {
    "id": "43babfaa-5a52-448a-965c-42eacde78422"
   },
   "outputs": [],
   "source": [
    "mod_train_data['clean_text']= mod_train_data['petition_text'].apply(clean_text)\n",
    "mod_test_data['clean_text']= mod_test_data['petition_text'].apply(clean_text)"
   ]
  },
  {
   "cell_type": "markdown",
   "id": "c7cf52cb-2939-4300-bfbc-1d283b112297",
   "metadata": {
    "id": "c7cf52cb-2939-4300-bfbc-1d283b112297"
   },
   "source": [
    "#### Lets tokenize the text"
   ]
  },
  {
   "cell_type": "code",
   "execution_count": 32,
   "id": "ea2ac8cd-a63e-44b8-a6e6-7944432df1ee",
   "metadata": {
    "id": "ea2ac8cd-a63e-44b8-a6e6-7944432df1ee"
   },
   "outputs": [],
   "source": [
    "import string\n",
    "EXTRA_PUNCT = string.punctuation\n",
    "\n",
    "# import Spacy\n",
    "import spacy\n",
    "# create the Spacy pipeline\n",
    "nlp = spacy.load('en_core_web_sm')\n",
    "\n",
    "def preprocess_text_with_spacy(text_):\n",
    "  doc_ = nlp(text_)\n",
    "  lemmas_ = [token.lemma_ for token in doc_ if not (token.is_stop or token.is_punct or token.is_digit)]\n",
    "  return [lemma for lemma in lemmas_ if lemma not in EXTRA_PUNCT]\n"
   ]
  },
  {
   "cell_type": "code",
   "execution_count": 33,
   "id": "3ea3cd23-b795-4690-a4e4-a9fc489617f9",
   "metadata": {
    "colab": {
     "base_uri": "https://localhost:8080/"
    },
    "id": "3ea3cd23-b795-4690-a4e4-a9fc489617f9",
    "outputId": "2b0347d0-0d42-4d79-e301-9983bbdda865"
   },
   "outputs": [
    {
     "name": "stdout",
     "output_type": "stream",
     "text": [
      "Time elapsed is 162.20 seconds\n"
     ]
    }
   ],
   "source": [
    "from time import time as tt\n",
    "t0 = tt()\n",
    "mod_train_data['tokenized_text'] = mod_train_data['clean_text'].apply(preprocess_text_with_spacy)\n",
    "print(f'Time elapsed is {(tt()-t0):.2f} seconds')"
   ]
  },
  {
   "cell_type": "code",
   "execution_count": 34,
   "id": "2f004b71-d720-4092-92c9-bd163493080b",
   "metadata": {
    "colab": {
     "base_uri": "https://localhost:8080/"
    },
    "id": "2f004b71-d720-4092-92c9-bd163493080b",
    "outputId": "d8ae4697-4b94-4263-f677-9aa89bf98f42"
   },
   "outputs": [
    {
     "name": "stdout",
     "output_type": "stream",
     "text": [
      "Time elapsed is 29.24 seconds\n"
     ]
    }
   ],
   "source": [
    "from time import time as tt\n",
    "t0 = tt()\n",
    "mod_test_data['tokenized_text'] = mod_test_data['clean_text'].apply(preprocess_text_with_spacy)\n",
    "print(f'Time elapsed is {(tt()-t0):.2f} seconds')"
   ]
  },
  {
   "cell_type": "code",
   "execution_count": 35,
   "id": "ba110af1-a834-4e25-8f47-e4a4f70317de",
   "metadata": {
    "id": "ba110af1-a834-4e25-8f47-e4a4f70317de"
   },
   "outputs": [],
   "source": [
    "mod_train_data['text_length'] = mod_train_data['clean_text'].apply(len)\n",
    "mod_test_data['text_length'] = mod_test_data['clean_text'].apply(len)"
   ]
  },
  {
   "cell_type": "code",
   "execution_count": 36,
   "id": "aF9giWKBv6PG",
   "metadata": {
    "colab": {
     "base_uri": "https://localhost:8080/",
     "height": 414
    },
    "id": "aF9giWKBv6PG",
    "outputId": "555ec27b-b663-4bc2-b699-b01263fd0054"
   },
   "outputs": [
    {
     "data": {
      "text/html": [
       "<div>\n",
       "<style scoped>\n",
       "    .dataframe tbody tr th:only-of-type {\n",
       "        vertical-align: middle;\n",
       "    }\n",
       "\n",
       "    .dataframe tbody tr th {\n",
       "        vertical-align: top;\n",
       "    }\n",
       "\n",
       "    .dataframe thead th {\n",
       "        text-align: right;\n",
       "    }\n",
       "</style>\n",
       "<table border=\"1\" class=\"dataframe\">\n",
       "  <thead>\n",
       "    <tr style=\"text-align: right;\">\n",
       "      <th></th>\n",
       "      <th>petition_ID</th>\n",
       "      <th>has_entity</th>\n",
       "      <th>petition_status</th>\n",
       "      <th>petition_topic</th>\n",
       "      <th>petition_text</th>\n",
       "      <th>clean_text</th>\n",
       "      <th>tokenized_text</th>\n",
       "      <th>text_length</th>\n",
       "    </tr>\n",
       "  </thead>\n",
       "  <tbody>\n",
       "    <tr>\n",
       "      <th>7295</th>\n",
       "      <td>643417</td>\n",
       "      <td>EVENT:NO_DATE:NO_PERSON:NO_</td>\n",
       "      <td>unsuccessful</td>\n",
       "      <td>uk government and devolution</td>\n",
       "      <td>Require approval through a referendum before a...</td>\n",
       "      <td>require approval through a referendum before a...</td>\n",
       "      <td>[require, approval, referendum, legislation, p...</td>\n",
       "      <td>814</td>\n",
       "    </tr>\n",
       "    <tr>\n",
       "      <th>3265</th>\n",
       "      <td>603349</td>\n",
       "      <td>EVENT:NO_DATE:NO_PERSON:NO_</td>\n",
       "      <td>unsuccessful</td>\n",
       "      <td>health and social care</td>\n",
       "      <td>Fund access to free period products for homele...</td>\n",
       "      <td>fund access to free period products for homele...</td>\n",
       "      <td>[fund, access, free, period, product, homeless...</td>\n",
       "      <td>612</td>\n",
       "    </tr>\n",
       "    <tr>\n",
       "      <th>2197</th>\n",
       "      <td>622551</td>\n",
       "      <td>EVENT:NO_DATE:NO_PERSON:NO_</td>\n",
       "      <td>unsuccessful</td>\n",
       "      <td>environment and animal welfare</td>\n",
       "      <td>Ban the release of any untreated raw sewage an...</td>\n",
       "      <td>ban the release of any untreated raw sewage an...</td>\n",
       "      <td>[ban, release, untreated, raw, sewage, separat...</td>\n",
       "      <td>868</td>\n",
       "    </tr>\n",
       "    <tr>\n",
       "      <th>7211</th>\n",
       "      <td>700916</td>\n",
       "      <td>EVENT:NO_DATE:YES_PERSON:NO_</td>\n",
       "      <td>rejected</td>\n",
       "      <td>environment and animal welfare</td>\n",
       "      <td>Allow use of fireworks on only Bonfire Night  ...</td>\n",
       "      <td>allow use of fireworks on only bonfire night o...</td>\n",
       "      <td>[allow, use, firework, bonfire, night, saturda...</td>\n",
       "      <td>446</td>\n",
       "    </tr>\n",
       "    <tr>\n",
       "      <th>2112</th>\n",
       "      <td>633096</td>\n",
       "      <td>EVENT:NO_DATE:NO_PERSON:NO_</td>\n",
       "      <td>unsuccessful</td>\n",
       "      <td>environment and animal welfare</td>\n",
       "      <td>Give councils powers to tax takeaway packaging...</td>\n",
       "      <td>give councils powers to tax takeaway packaging...</td>\n",
       "      <td>[council, power, tax, takeaway, packaging, fun...</td>\n",
       "      <td>676</td>\n",
       "    </tr>\n",
       "  </tbody>\n",
       "</table>\n",
       "</div>"
      ],
      "text/plain": [
       "      petition_ID                    has_entity petition_status  \\\n",
       "7295       643417   EVENT:NO_DATE:NO_PERSON:NO_    unsuccessful   \n",
       "3265       603349   EVENT:NO_DATE:NO_PERSON:NO_    unsuccessful   \n",
       "2197       622551   EVENT:NO_DATE:NO_PERSON:NO_    unsuccessful   \n",
       "7211       700916  EVENT:NO_DATE:YES_PERSON:NO_        rejected   \n",
       "2112       633096   EVENT:NO_DATE:NO_PERSON:NO_    unsuccessful   \n",
       "\n",
       "                      petition_topic  \\\n",
       "7295    uk government and devolution   \n",
       "3265          health and social care   \n",
       "2197  environment and animal welfare   \n",
       "7211  environment and animal welfare   \n",
       "2112  environment and animal welfare   \n",
       "\n",
       "                                          petition_text  \\\n",
       "7295  Require approval through a referendum before a...   \n",
       "3265  Fund access to free period products for homele...   \n",
       "2197  Ban the release of any untreated raw sewage an...   \n",
       "7211  Allow use of fireworks on only Bonfire Night  ...   \n",
       "2112  Give councils powers to tax takeaway packaging...   \n",
       "\n",
       "                                             clean_text  \\\n",
       "7295  require approval through a referendum before a...   \n",
       "3265  fund access to free period products for homele...   \n",
       "2197  ban the release of any untreated raw sewage an...   \n",
       "7211  allow use of fireworks on only bonfire night o...   \n",
       "2112  give councils powers to tax takeaway packaging...   \n",
       "\n",
       "                                         tokenized_text  text_length  \n",
       "7295  [require, approval, referendum, legislation, p...          814  \n",
       "3265  [fund, access, free, period, product, homeless...          612  \n",
       "2197  [ban, release, untreated, raw, sewage, separat...          868  \n",
       "7211  [allow, use, firework, bonfire, night, saturda...          446  \n",
       "2112  [council, power, tax, takeaway, packaging, fun...          676  "
      ]
     },
     "execution_count": 36,
     "metadata": {},
     "output_type": "execute_result"
    }
   ],
   "source": [
    "mod_train_data.head()"
   ]
  },
  {
   "cell_type": "markdown",
   "id": "3918d6c1-f75e-4002-83c3-523dfb194722",
   "metadata": {
    "id": "3918d6c1-f75e-4002-83c3-523dfb194722"
   },
   "source": [
    "Utilizing the compute_avg_lemma_embedding learnt from the class to process and remove all stopwords and punctuations for a more accurate representation of the text, while filtering out unimportant words"
   ]
  },
  {
   "cell_type": "code",
   "execution_count": 37,
   "id": "16dc514d-2231-4a86-ad75-ea2678a56846",
   "metadata": {
    "id": "16dc514d-2231-4a86-ad75-ea2678a56846"
   },
   "outputs": [],
   "source": [
    "# let's create a nice function to tokenize a single text document\n",
    "import string\n",
    "EXTRA_PUNCT = string.punctuation\n",
    "# import Spacy\n",
    "import spacy\n",
    "# create the Spacy pipeline\n",
    "nlp = spacy.load('en_core_web_md')"
   ]
  },
  {
   "cell_type": "code",
   "execution_count": 38,
   "id": "2618d3e9-0e30-49fe-a8b9-141f4342f6b6",
   "metadata": {
    "id": "2618d3e9-0e30-49fe-a8b9-141f4342f6b6"
   },
   "outputs": [],
   "source": [
    "def compute_avg_lemma_embedding(text_):\n",
    "  doc_ = nlp(text_)\n",
    "  avg_embedding = np.zeros_like(doc_.vector)\n",
    "  token_counter = 0\n",
    "  for token in doc_:\n",
    "    if (token.is_stop or token.is_punct or token.is_digit or (token.lemma_ in EXTRA_PUNCT)):\n",
    "        continue\n",
    "    avg_embedding += token.vector\n",
    "    token_counter+=1\n",
    "\n",
    "  if token_counter>0:\n",
    "    avg_embedding = avg_embedding/token_counter\n",
    "  return avg_embedding"
   ]
  },
  {
   "cell_type": "code",
   "execution_count": 39,
   "id": "d331dec4-ea8d-424b-97d3-231d85b7a0c1",
   "metadata": {
    "colab": {
     "base_uri": "https://localhost:8080/"
    },
    "id": "d331dec4-ea8d-424b-97d3-231d85b7a0c1",
    "outputId": "99325b04-ccd2-4ca5-c4b8-eb5503abec25"
   },
   "outputs": [
    {
     "name": "stdout",
     "output_type": "stream",
     "text": [
      "Time elapsed is 178.55 seconds\n"
     ]
    }
   ],
   "source": [
    "from time import time as tt\n",
    "t0 = tt()\n",
    "df_train_emb = mod_train_data['clean_text'].apply(lambda x:  pd.Series(compute_avg_lemma_embedding(x)))\n",
    "# 3. since they have the same index we can join the dataframe with the word embeddings with the old one\n",
    "df_train_new = df_train_emb.join(mod_train_data[['text_length','petition_topic','clean_text']])\n",
    "# the next line is just because scikit-learn doesn't like column names that are not strings\n",
    "df_train_new.columns = df_train_new.columns.astype(str)\n",
    "print(f'Time elapsed is {(tt()-t0):.2f} seconds')\n"
   ]
  },
  {
   "cell_type": "code",
   "execution_count": 40,
   "id": "32364d84-ea6f-445e-8311-3eeda070b613",
   "metadata": {
    "colab": {
     "base_uri": "https://localhost:8080/"
    },
    "id": "32364d84-ea6f-445e-8311-3eeda070b613",
    "outputId": "d49af51e-2d54-435b-e5c6-60a179d76760"
   },
   "outputs": [
    {
     "name": "stdout",
     "output_type": "stream",
     "text": [
      "Time elapsed is 33.52 seconds\n"
     ]
    }
   ],
   "source": [
    "t0 = tt()\n",
    "df_test_emb = mod_test_data['clean_text'].apply(lambda x: pd.Series(compute_avg_lemma_embedding(x)))\n",
    "df_test_new = df_test_emb.join(mod_test_data[['text_length','petition_topic','clean_text']])\n",
    "df_test_new.columns = df_test_new.columns.astype(str)\n",
    "print(f'Time elapsed is {(tt()-t0):.2f} seconds')\n"
   ]
  },
  {
   "cell_type": "code",
   "execution_count": 41,
   "id": "cd22b620-4eee-425e-a941-6d9cf5ee6b0b",
   "metadata": {},
   "outputs": [
    {
     "data": {
      "text/html": [
       "<div>\n",
       "<style scoped>\n",
       "    .dataframe tbody tr th:only-of-type {\n",
       "        vertical-align: middle;\n",
       "    }\n",
       "\n",
       "    .dataframe tbody tr th {\n",
       "        vertical-align: top;\n",
       "    }\n",
       "\n",
       "    .dataframe thead th {\n",
       "        text-align: right;\n",
       "    }\n",
       "</style>\n",
       "<table border=\"1\" class=\"dataframe\">\n",
       "  <thead>\n",
       "    <tr style=\"text-align: right;\">\n",
       "      <th></th>\n",
       "      <th>0</th>\n",
       "      <th>1</th>\n",
       "      <th>2</th>\n",
       "      <th>3</th>\n",
       "      <th>4</th>\n",
       "      <th>5</th>\n",
       "      <th>6</th>\n",
       "      <th>7</th>\n",
       "      <th>8</th>\n",
       "      <th>9</th>\n",
       "      <th>...</th>\n",
       "      <th>293</th>\n",
       "      <th>294</th>\n",
       "      <th>295</th>\n",
       "      <th>296</th>\n",
       "      <th>297</th>\n",
       "      <th>298</th>\n",
       "      <th>299</th>\n",
       "      <th>text_length</th>\n",
       "      <th>petition_topic</th>\n",
       "      <th>clean_text</th>\n",
       "    </tr>\n",
       "  </thead>\n",
       "  <tbody>\n",
       "    <tr>\n",
       "      <th>7295</th>\n",
       "      <td>-0.697678</td>\n",
       "      <td>0.185375</td>\n",
       "      <td>-0.091277</td>\n",
       "      <td>-0.126126</td>\n",
       "      <td>-0.220019</td>\n",
       "      <td>0.012084</td>\n",
       "      <td>0.005238</td>\n",
       "      <td>0.041204</td>\n",
       "      <td>0.001177</td>\n",
       "      <td>2.211210</td>\n",
       "      <td>...</td>\n",
       "      <td>-0.005407</td>\n",
       "      <td>0.091535</td>\n",
       "      <td>0.119786</td>\n",
       "      <td>0.003236</td>\n",
       "      <td>-0.049077</td>\n",
       "      <td>-0.003821</td>\n",
       "      <td>-0.048717</td>\n",
       "      <td>814</td>\n",
       "      <td>uk government and devolution</td>\n",
       "      <td>require approval through a referendum before a...</td>\n",
       "    </tr>\n",
       "    <tr>\n",
       "      <th>3265</th>\n",
       "      <td>-0.699345</td>\n",
       "      <td>0.155080</td>\n",
       "      <td>-0.106308</td>\n",
       "      <td>-0.195413</td>\n",
       "      <td>-0.196017</td>\n",
       "      <td>-0.000001</td>\n",
       "      <td>0.052694</td>\n",
       "      <td>0.036451</td>\n",
       "      <td>-0.013616</td>\n",
       "      <td>1.878929</td>\n",
       "      <td>...</td>\n",
       "      <td>-0.006422</td>\n",
       "      <td>0.027194</td>\n",
       "      <td>0.152057</td>\n",
       "      <td>-0.003623</td>\n",
       "      <td>-0.139456</td>\n",
       "      <td>0.037091</td>\n",
       "      <td>0.134160</td>\n",
       "      <td>612</td>\n",
       "      <td>health and social care</td>\n",
       "      <td>fund access to free period products for homele...</td>\n",
       "    </tr>\n",
       "    <tr>\n",
       "      <th>2197</th>\n",
       "      <td>-0.699077</td>\n",
       "      <td>0.079179</td>\n",
       "      <td>-0.013301</td>\n",
       "      <td>-0.057155</td>\n",
       "      <td>-0.204882</td>\n",
       "      <td>0.166848</td>\n",
       "      <td>-0.027619</td>\n",
       "      <td>-0.047821</td>\n",
       "      <td>-0.169002</td>\n",
       "      <td>1.689985</td>\n",
       "      <td>...</td>\n",
       "      <td>-0.015640</td>\n",
       "      <td>-0.063799</td>\n",
       "      <td>-0.077822</td>\n",
       "      <td>-0.107109</td>\n",
       "      <td>-0.122873</td>\n",
       "      <td>-0.010499</td>\n",
       "      <td>-0.085356</td>\n",
       "      <td>868</td>\n",
       "      <td>environment and animal welfare</td>\n",
       "      <td>ban the release of any untreated raw sewage an...</td>\n",
       "    </tr>\n",
       "    <tr>\n",
       "      <th>7211</th>\n",
       "      <td>-0.695946</td>\n",
       "      <td>0.123124</td>\n",
       "      <td>-0.228428</td>\n",
       "      <td>-0.079207</td>\n",
       "      <td>-0.200550</td>\n",
       "      <td>0.033386</td>\n",
       "      <td>-0.051921</td>\n",
       "      <td>0.010060</td>\n",
       "      <td>0.079538</td>\n",
       "      <td>1.681540</td>\n",
       "      <td>...</td>\n",
       "      <td>0.057730</td>\n",
       "      <td>0.060563</td>\n",
       "      <td>0.191853</td>\n",
       "      <td>-0.064205</td>\n",
       "      <td>-0.116561</td>\n",
       "      <td>-0.037969</td>\n",
       "      <td>0.126331</td>\n",
       "      <td>446</td>\n",
       "      <td>environment and animal welfare</td>\n",
       "      <td>allow use of fireworks on only bonfire night o...</td>\n",
       "    </tr>\n",
       "    <tr>\n",
       "      <th>2112</th>\n",
       "      <td>-0.728280</td>\n",
       "      <td>0.120281</td>\n",
       "      <td>0.093123</td>\n",
       "      <td>-0.193406</td>\n",
       "      <td>-0.054578</td>\n",
       "      <td>0.085661</td>\n",
       "      <td>0.012411</td>\n",
       "      <td>-0.057791</td>\n",
       "      <td>0.166890</td>\n",
       "      <td>1.633869</td>\n",
       "      <td>...</td>\n",
       "      <td>-0.061955</td>\n",
       "      <td>-0.081188</td>\n",
       "      <td>0.074621</td>\n",
       "      <td>0.094284</td>\n",
       "      <td>-0.262580</td>\n",
       "      <td>0.153490</td>\n",
       "      <td>0.098370</td>\n",
       "      <td>676</td>\n",
       "      <td>environment and animal welfare</td>\n",
       "      <td>give councils powers to tax takeaway packaging...</td>\n",
       "    </tr>\n",
       "  </tbody>\n",
       "</table>\n",
       "<p>5 rows × 303 columns</p>\n",
       "</div>"
      ],
      "text/plain": [
       "             0         1         2         3         4         5         6  \\\n",
       "7295 -0.697678  0.185375 -0.091277 -0.126126 -0.220019  0.012084  0.005238   \n",
       "3265 -0.699345  0.155080 -0.106308 -0.195413 -0.196017 -0.000001  0.052694   \n",
       "2197 -0.699077  0.079179 -0.013301 -0.057155 -0.204882  0.166848 -0.027619   \n",
       "7211 -0.695946  0.123124 -0.228428 -0.079207 -0.200550  0.033386 -0.051921   \n",
       "2112 -0.728280  0.120281  0.093123 -0.193406 -0.054578  0.085661  0.012411   \n",
       "\n",
       "             7         8         9  ...       293       294       295  \\\n",
       "7295  0.041204  0.001177  2.211210  ... -0.005407  0.091535  0.119786   \n",
       "3265  0.036451 -0.013616  1.878929  ... -0.006422  0.027194  0.152057   \n",
       "2197 -0.047821 -0.169002  1.689985  ... -0.015640 -0.063799 -0.077822   \n",
       "7211  0.010060  0.079538  1.681540  ...  0.057730  0.060563  0.191853   \n",
       "2112 -0.057791  0.166890  1.633869  ... -0.061955 -0.081188  0.074621   \n",
       "\n",
       "           296       297       298       299  text_length  \\\n",
       "7295  0.003236 -0.049077 -0.003821 -0.048717          814   \n",
       "3265 -0.003623 -0.139456  0.037091  0.134160          612   \n",
       "2197 -0.107109 -0.122873 -0.010499 -0.085356          868   \n",
       "7211 -0.064205 -0.116561 -0.037969  0.126331          446   \n",
       "2112  0.094284 -0.262580  0.153490  0.098370          676   \n",
       "\n",
       "                      petition_topic  \\\n",
       "7295    uk government and devolution   \n",
       "3265          health and social care   \n",
       "2197  environment and animal welfare   \n",
       "7211  environment and animal welfare   \n",
       "2112  environment and animal welfare   \n",
       "\n",
       "                                             clean_text  \n",
       "7295  require approval through a referendum before a...  \n",
       "3265  fund access to free period products for homele...  \n",
       "2197  ban the release of any untreated raw sewage an...  \n",
       "7211  allow use of fireworks on only bonfire night o...  \n",
       "2112  give councils powers to tax takeaway packaging...  \n",
       "\n",
       "[5 rows x 303 columns]"
      ]
     },
     "execution_count": 41,
     "metadata": {},
     "output_type": "execute_result"
    }
   ],
   "source": [
    "df_train_new.head()"
   ]
  },
  {
   "cell_type": "markdown",
   "id": "a3bf9f55-b12e-485d-a7a0-a87209a44209",
   "metadata": {
    "id": "a3bf9f55-b12e-485d-a7a0-a87209a44209"
   },
   "source": [
    "\n",
    "I believe the data in has_entity is similar to the soil type data was already split into numeric types in the table from week 4 lab work or gender from week 3 of the lab work, which was split into numeric values using Encoders, basically that can help in using it as a feature.\n",
    "\n",
    "The has_entity column can be split into has_event, has_date, has_person columns and after that its a true or false event which can be written as 1's and 0's while categorizing data_missing as NULL?\n"
   ]
  },
  {
   "cell_type": "markdown",
   "id": "e2efab82-ac7a-4bb5-92ba-952cbb4abe2d",
   "metadata": {
    "id": "e2efab82-ac7a-4bb5-92ba-952cbb4abe2d"
   },
   "source": [
    "We can also convert the petition_topic into numerical data, which can be done using label encoder, we could use col transformers and get inidivdual columns for each of the classes in the table, but I believe that will be useful for neural networks, we can use a label encoder for MLP"
   ]
  },
  {
   "cell_type": "code",
   "execution_count": 42,
   "id": "22ae818b-6004-4221-85e4-5ac9315ba8ea",
   "metadata": {
    "colab": {
     "base_uri": "https://localhost:8080/"
    },
    "id": "22ae818b-6004-4221-85e4-5ac9315ba8ea",
    "outputId": "9fd073de-a8a7-4c0c-f2fc-5384fefdc6b3"
   },
   "outputs": [
    {
     "name": "stdout",
     "output_type": "stream",
     "text": [
      "7295    6\n",
      "3265    4\n",
      "2197    3\n",
      "7211    3\n",
      "2112    3\n",
      "       ..\n",
      "5792    1\n",
      "7996    3\n",
      "8168    3\n",
      "8863    6\n",
      "2730    3\n",
      "Name: petition_topic, Length: 7214, dtype: int32\n",
      "\n",
      "2231    3\n",
      "1688    4\n",
      "8441    4\n",
      "7746    2\n",
      "8711    4\n",
      "       ..\n",
      "7387    6\n",
      "2960    4\n",
      "2031    4\n",
      "6434    0\n",
      "7562    1\n",
      "Name: petition_topic, Length: 1273, dtype: int32\n"
     ]
    }
   ],
   "source": [
    "from sklearn.preprocessing import LabelEncoder\n",
    "\n",
    "lblEncoder_X = LabelEncoder()\n",
    "\n",
    "lblEncoder_X = lblEncoder_X.fit(df_train_new['petition_topic']) # we can fit and transform all at once\n",
    "df_train_new['petition_topic'] = lblEncoder_X.transform(df_train_new['petition_topic'])\n",
    "\n",
    "print(df_train_new['petition_topic'])\n",
    "print()\n",
    "lblEncoder_Y = LabelEncoder()\n",
    "\n",
    "lblEncoder_Y = lblEncoder_Y.fit(df_test_new['petition_topic']) # we can fit and transform all at once\n",
    "df_test_new['petition_topic'] = lblEncoder_Y.transform(df_test_new['petition_topic'])\n",
    "\n",
    "print(df_test_new['petition_topic'])\n"
   ]
  },
  {
   "cell_type": "code",
   "execution_count": 43,
   "id": "kboUcEe31LTr",
   "metadata": {
    "colab": {
     "base_uri": "https://localhost:8080/",
     "height": 293
    },
    "id": "kboUcEe31LTr",
    "outputId": "4439eaa7-0481-4494-ffa0-f5aaabf24eac"
   },
   "outputs": [
    {
     "data": {
      "text/html": [
       "<div>\n",
       "<style scoped>\n",
       "    .dataframe tbody tr th:only-of-type {\n",
       "        vertical-align: middle;\n",
       "    }\n",
       "\n",
       "    .dataframe tbody tr th {\n",
       "        vertical-align: top;\n",
       "    }\n",
       "\n",
       "    .dataframe thead th {\n",
       "        text-align: right;\n",
       "    }\n",
       "</style>\n",
       "<table border=\"1\" class=\"dataframe\">\n",
       "  <thead>\n",
       "    <tr style=\"text-align: right;\">\n",
       "      <th></th>\n",
       "      <th>0</th>\n",
       "      <th>1</th>\n",
       "      <th>2</th>\n",
       "      <th>3</th>\n",
       "      <th>4</th>\n",
       "      <th>5</th>\n",
       "      <th>6</th>\n",
       "      <th>7</th>\n",
       "      <th>8</th>\n",
       "      <th>9</th>\n",
       "      <th>...</th>\n",
       "      <th>293</th>\n",
       "      <th>294</th>\n",
       "      <th>295</th>\n",
       "      <th>296</th>\n",
       "      <th>297</th>\n",
       "      <th>298</th>\n",
       "      <th>299</th>\n",
       "      <th>text_length</th>\n",
       "      <th>petition_topic</th>\n",
       "      <th>clean_text</th>\n",
       "    </tr>\n",
       "  </thead>\n",
       "  <tbody>\n",
       "    <tr>\n",
       "      <th>7295</th>\n",
       "      <td>-0.697678</td>\n",
       "      <td>0.185375</td>\n",
       "      <td>-0.091277</td>\n",
       "      <td>-0.126126</td>\n",
       "      <td>-0.220019</td>\n",
       "      <td>0.012084</td>\n",
       "      <td>0.005238</td>\n",
       "      <td>0.041204</td>\n",
       "      <td>0.001177</td>\n",
       "      <td>2.211210</td>\n",
       "      <td>...</td>\n",
       "      <td>-0.005407</td>\n",
       "      <td>0.091535</td>\n",
       "      <td>0.119786</td>\n",
       "      <td>0.003236</td>\n",
       "      <td>-0.049077</td>\n",
       "      <td>-0.003821</td>\n",
       "      <td>-0.048717</td>\n",
       "      <td>814</td>\n",
       "      <td>6</td>\n",
       "      <td>require approval through a referendum before a...</td>\n",
       "    </tr>\n",
       "    <tr>\n",
       "      <th>3265</th>\n",
       "      <td>-0.699345</td>\n",
       "      <td>0.155080</td>\n",
       "      <td>-0.106308</td>\n",
       "      <td>-0.195413</td>\n",
       "      <td>-0.196017</td>\n",
       "      <td>-0.000001</td>\n",
       "      <td>0.052694</td>\n",
       "      <td>0.036451</td>\n",
       "      <td>-0.013616</td>\n",
       "      <td>1.878929</td>\n",
       "      <td>...</td>\n",
       "      <td>-0.006422</td>\n",
       "      <td>0.027194</td>\n",
       "      <td>0.152057</td>\n",
       "      <td>-0.003623</td>\n",
       "      <td>-0.139456</td>\n",
       "      <td>0.037091</td>\n",
       "      <td>0.134160</td>\n",
       "      <td>612</td>\n",
       "      <td>4</td>\n",
       "      <td>fund access to free period products for homele...</td>\n",
       "    </tr>\n",
       "    <tr>\n",
       "      <th>2197</th>\n",
       "      <td>-0.699077</td>\n",
       "      <td>0.079179</td>\n",
       "      <td>-0.013301</td>\n",
       "      <td>-0.057155</td>\n",
       "      <td>-0.204882</td>\n",
       "      <td>0.166848</td>\n",
       "      <td>-0.027619</td>\n",
       "      <td>-0.047821</td>\n",
       "      <td>-0.169002</td>\n",
       "      <td>1.689985</td>\n",
       "      <td>...</td>\n",
       "      <td>-0.015640</td>\n",
       "      <td>-0.063799</td>\n",
       "      <td>-0.077822</td>\n",
       "      <td>-0.107109</td>\n",
       "      <td>-0.122873</td>\n",
       "      <td>-0.010499</td>\n",
       "      <td>-0.085356</td>\n",
       "      <td>868</td>\n",
       "      <td>3</td>\n",
       "      <td>ban the release of any untreated raw sewage an...</td>\n",
       "    </tr>\n",
       "    <tr>\n",
       "      <th>7211</th>\n",
       "      <td>-0.695946</td>\n",
       "      <td>0.123124</td>\n",
       "      <td>-0.228428</td>\n",
       "      <td>-0.079207</td>\n",
       "      <td>-0.200550</td>\n",
       "      <td>0.033386</td>\n",
       "      <td>-0.051921</td>\n",
       "      <td>0.010060</td>\n",
       "      <td>0.079538</td>\n",
       "      <td>1.681540</td>\n",
       "      <td>...</td>\n",
       "      <td>0.057730</td>\n",
       "      <td>0.060563</td>\n",
       "      <td>0.191853</td>\n",
       "      <td>-0.064205</td>\n",
       "      <td>-0.116561</td>\n",
       "      <td>-0.037969</td>\n",
       "      <td>0.126331</td>\n",
       "      <td>446</td>\n",
       "      <td>3</td>\n",
       "      <td>allow use of fireworks on only bonfire night o...</td>\n",
       "    </tr>\n",
       "    <tr>\n",
       "      <th>2112</th>\n",
       "      <td>-0.728280</td>\n",
       "      <td>0.120281</td>\n",
       "      <td>0.093123</td>\n",
       "      <td>-0.193406</td>\n",
       "      <td>-0.054578</td>\n",
       "      <td>0.085661</td>\n",
       "      <td>0.012411</td>\n",
       "      <td>-0.057791</td>\n",
       "      <td>0.166890</td>\n",
       "      <td>1.633869</td>\n",
       "      <td>...</td>\n",
       "      <td>-0.061955</td>\n",
       "      <td>-0.081188</td>\n",
       "      <td>0.074621</td>\n",
       "      <td>0.094284</td>\n",
       "      <td>-0.262580</td>\n",
       "      <td>0.153490</td>\n",
       "      <td>0.098370</td>\n",
       "      <td>676</td>\n",
       "      <td>3</td>\n",
       "      <td>give councils powers to tax takeaway packaging...</td>\n",
       "    </tr>\n",
       "  </tbody>\n",
       "</table>\n",
       "<p>5 rows × 303 columns</p>\n",
       "</div>"
      ],
      "text/plain": [
       "             0         1         2         3         4         5         6  \\\n",
       "7295 -0.697678  0.185375 -0.091277 -0.126126 -0.220019  0.012084  0.005238   \n",
       "3265 -0.699345  0.155080 -0.106308 -0.195413 -0.196017 -0.000001  0.052694   \n",
       "2197 -0.699077  0.079179 -0.013301 -0.057155 -0.204882  0.166848 -0.027619   \n",
       "7211 -0.695946  0.123124 -0.228428 -0.079207 -0.200550  0.033386 -0.051921   \n",
       "2112 -0.728280  0.120281  0.093123 -0.193406 -0.054578  0.085661  0.012411   \n",
       "\n",
       "             7         8         9  ...       293       294       295  \\\n",
       "7295  0.041204  0.001177  2.211210  ... -0.005407  0.091535  0.119786   \n",
       "3265  0.036451 -0.013616  1.878929  ... -0.006422  0.027194  0.152057   \n",
       "2197 -0.047821 -0.169002  1.689985  ... -0.015640 -0.063799 -0.077822   \n",
       "7211  0.010060  0.079538  1.681540  ...  0.057730  0.060563  0.191853   \n",
       "2112 -0.057791  0.166890  1.633869  ... -0.061955 -0.081188  0.074621   \n",
       "\n",
       "           296       297       298       299  text_length  petition_topic  \\\n",
       "7295  0.003236 -0.049077 -0.003821 -0.048717          814               6   \n",
       "3265 -0.003623 -0.139456  0.037091  0.134160          612               4   \n",
       "2197 -0.107109 -0.122873 -0.010499 -0.085356          868               3   \n",
       "7211 -0.064205 -0.116561 -0.037969  0.126331          446               3   \n",
       "2112  0.094284 -0.262580  0.153490  0.098370          676               3   \n",
       "\n",
       "                                             clean_text  \n",
       "7295  require approval through a referendum before a...  \n",
       "3265  fund access to free period products for homele...  \n",
       "2197  ban the release of any untreated raw sewage an...  \n",
       "7211  allow use of fireworks on only bonfire night o...  \n",
       "2112  give councils powers to tax takeaway packaging...  \n",
       "\n",
       "[5 rows x 303 columns]"
      ]
     },
     "execution_count": 43,
     "metadata": {},
     "output_type": "execute_result"
    }
   ],
   "source": [
    "df_train_new.head()"
   ]
  },
  {
   "cell_type": "code",
   "execution_count": 44,
   "id": "NQjARZXAQFk0",
   "metadata": {
    "id": "NQjARZXAQFk0"
   },
   "outputs": [],
   "source": [
    "df_train_check = df_train_new.copy()\n",
    "df_test_check = df_test_new.copy()"
   ]
  },
  {
   "cell_type": "code",
   "execution_count": 45,
   "id": "1cee6b76-0693-4615-adcb-838cde51d835",
   "metadata": {},
   "outputs": [
    {
     "data": {
      "text/html": [
       "<div>\n",
       "<style scoped>\n",
       "    .dataframe tbody tr th:only-of-type {\n",
       "        vertical-align: middle;\n",
       "    }\n",
       "\n",
       "    .dataframe tbody tr th {\n",
       "        vertical-align: top;\n",
       "    }\n",
       "\n",
       "    .dataframe thead th {\n",
       "        text-align: right;\n",
       "    }\n",
       "</style>\n",
       "<table border=\"1\" class=\"dataframe\">\n",
       "  <thead>\n",
       "    <tr style=\"text-align: right;\">\n",
       "      <th></th>\n",
       "      <th>0</th>\n",
       "      <th>1</th>\n",
       "      <th>2</th>\n",
       "      <th>3</th>\n",
       "      <th>4</th>\n",
       "      <th>5</th>\n",
       "      <th>6</th>\n",
       "      <th>7</th>\n",
       "      <th>8</th>\n",
       "      <th>9</th>\n",
       "      <th>...</th>\n",
       "      <th>293</th>\n",
       "      <th>294</th>\n",
       "      <th>295</th>\n",
       "      <th>296</th>\n",
       "      <th>297</th>\n",
       "      <th>298</th>\n",
       "      <th>299</th>\n",
       "      <th>text_length</th>\n",
       "      <th>petition_topic</th>\n",
       "      <th>clean_text</th>\n",
       "    </tr>\n",
       "  </thead>\n",
       "  <tbody>\n",
       "    <tr>\n",
       "      <th>7295</th>\n",
       "      <td>-0.697678</td>\n",
       "      <td>0.185375</td>\n",
       "      <td>-0.091277</td>\n",
       "      <td>-0.126126</td>\n",
       "      <td>-0.220019</td>\n",
       "      <td>0.012084</td>\n",
       "      <td>0.005238</td>\n",
       "      <td>0.041204</td>\n",
       "      <td>0.001177</td>\n",
       "      <td>2.211210</td>\n",
       "      <td>...</td>\n",
       "      <td>-0.005407</td>\n",
       "      <td>0.091535</td>\n",
       "      <td>0.119786</td>\n",
       "      <td>0.003236</td>\n",
       "      <td>-0.049077</td>\n",
       "      <td>-0.003821</td>\n",
       "      <td>-0.048717</td>\n",
       "      <td>814</td>\n",
       "      <td>6</td>\n",
       "      <td>require approval through a referendum before a...</td>\n",
       "    </tr>\n",
       "    <tr>\n",
       "      <th>3265</th>\n",
       "      <td>-0.699345</td>\n",
       "      <td>0.155080</td>\n",
       "      <td>-0.106308</td>\n",
       "      <td>-0.195413</td>\n",
       "      <td>-0.196017</td>\n",
       "      <td>-0.000001</td>\n",
       "      <td>0.052694</td>\n",
       "      <td>0.036451</td>\n",
       "      <td>-0.013616</td>\n",
       "      <td>1.878929</td>\n",
       "      <td>...</td>\n",
       "      <td>-0.006422</td>\n",
       "      <td>0.027194</td>\n",
       "      <td>0.152057</td>\n",
       "      <td>-0.003623</td>\n",
       "      <td>-0.139456</td>\n",
       "      <td>0.037091</td>\n",
       "      <td>0.134160</td>\n",
       "      <td>612</td>\n",
       "      <td>4</td>\n",
       "      <td>fund access to free period products for homele...</td>\n",
       "    </tr>\n",
       "    <tr>\n",
       "      <th>2197</th>\n",
       "      <td>-0.699077</td>\n",
       "      <td>0.079179</td>\n",
       "      <td>-0.013301</td>\n",
       "      <td>-0.057155</td>\n",
       "      <td>-0.204882</td>\n",
       "      <td>0.166848</td>\n",
       "      <td>-0.027619</td>\n",
       "      <td>-0.047821</td>\n",
       "      <td>-0.169002</td>\n",
       "      <td>1.689985</td>\n",
       "      <td>...</td>\n",
       "      <td>-0.015640</td>\n",
       "      <td>-0.063799</td>\n",
       "      <td>-0.077822</td>\n",
       "      <td>-0.107109</td>\n",
       "      <td>-0.122873</td>\n",
       "      <td>-0.010499</td>\n",
       "      <td>-0.085356</td>\n",
       "      <td>868</td>\n",
       "      <td>3</td>\n",
       "      <td>ban the release of any untreated raw sewage an...</td>\n",
       "    </tr>\n",
       "    <tr>\n",
       "      <th>7211</th>\n",
       "      <td>-0.695946</td>\n",
       "      <td>0.123124</td>\n",
       "      <td>-0.228428</td>\n",
       "      <td>-0.079207</td>\n",
       "      <td>-0.200550</td>\n",
       "      <td>0.033386</td>\n",
       "      <td>-0.051921</td>\n",
       "      <td>0.010060</td>\n",
       "      <td>0.079538</td>\n",
       "      <td>1.681540</td>\n",
       "      <td>...</td>\n",
       "      <td>0.057730</td>\n",
       "      <td>0.060563</td>\n",
       "      <td>0.191853</td>\n",
       "      <td>-0.064205</td>\n",
       "      <td>-0.116561</td>\n",
       "      <td>-0.037969</td>\n",
       "      <td>0.126331</td>\n",
       "      <td>446</td>\n",
       "      <td>3</td>\n",
       "      <td>allow use of fireworks on only bonfire night o...</td>\n",
       "    </tr>\n",
       "    <tr>\n",
       "      <th>2112</th>\n",
       "      <td>-0.728280</td>\n",
       "      <td>0.120281</td>\n",
       "      <td>0.093123</td>\n",
       "      <td>-0.193406</td>\n",
       "      <td>-0.054578</td>\n",
       "      <td>0.085661</td>\n",
       "      <td>0.012411</td>\n",
       "      <td>-0.057791</td>\n",
       "      <td>0.166890</td>\n",
       "      <td>1.633869</td>\n",
       "      <td>...</td>\n",
       "      <td>-0.061955</td>\n",
       "      <td>-0.081188</td>\n",
       "      <td>0.074621</td>\n",
       "      <td>0.094284</td>\n",
       "      <td>-0.262580</td>\n",
       "      <td>0.153490</td>\n",
       "      <td>0.098370</td>\n",
       "      <td>676</td>\n",
       "      <td>3</td>\n",
       "      <td>give councils powers to tax takeaway packaging...</td>\n",
       "    </tr>\n",
       "  </tbody>\n",
       "</table>\n",
       "<p>5 rows × 303 columns</p>\n",
       "</div>"
      ],
      "text/plain": [
       "             0         1         2         3         4         5         6  \\\n",
       "7295 -0.697678  0.185375 -0.091277 -0.126126 -0.220019  0.012084  0.005238   \n",
       "3265 -0.699345  0.155080 -0.106308 -0.195413 -0.196017 -0.000001  0.052694   \n",
       "2197 -0.699077  0.079179 -0.013301 -0.057155 -0.204882  0.166848 -0.027619   \n",
       "7211 -0.695946  0.123124 -0.228428 -0.079207 -0.200550  0.033386 -0.051921   \n",
       "2112 -0.728280  0.120281  0.093123 -0.193406 -0.054578  0.085661  0.012411   \n",
       "\n",
       "             7         8         9  ...       293       294       295  \\\n",
       "7295  0.041204  0.001177  2.211210  ... -0.005407  0.091535  0.119786   \n",
       "3265  0.036451 -0.013616  1.878929  ... -0.006422  0.027194  0.152057   \n",
       "2197 -0.047821 -0.169002  1.689985  ... -0.015640 -0.063799 -0.077822   \n",
       "7211  0.010060  0.079538  1.681540  ...  0.057730  0.060563  0.191853   \n",
       "2112 -0.057791  0.166890  1.633869  ... -0.061955 -0.081188  0.074621   \n",
       "\n",
       "           296       297       298       299  text_length  petition_topic  \\\n",
       "7295  0.003236 -0.049077 -0.003821 -0.048717          814               6   \n",
       "3265 -0.003623 -0.139456  0.037091  0.134160          612               4   \n",
       "2197 -0.107109 -0.122873 -0.010499 -0.085356          868               3   \n",
       "7211 -0.064205 -0.116561 -0.037969  0.126331          446               3   \n",
       "2112  0.094284 -0.262580  0.153490  0.098370          676               3   \n",
       "\n",
       "                                             clean_text  \n",
       "7295  require approval through a referendum before a...  \n",
       "3265  fund access to free period products for homele...  \n",
       "2197  ban the release of any untreated raw sewage an...  \n",
       "7211  allow use of fireworks on only bonfire night o...  \n",
       "2112  give councils powers to tax takeaway packaging...  \n",
       "\n",
       "[5 rows x 303 columns]"
      ]
     },
     "execution_count": 45,
     "metadata": {},
     "output_type": "execute_result"
    }
   ],
   "source": [
    "df_train_check.head()"
   ]
  },
  {
   "cell_type": "markdown",
   "id": "6ae43cdd-13d7-42e8-8419-514c206b9e6c",
   "metadata": {
    "id": "6ae43cdd-13d7-42e8-8419-514c206b9e6c"
   },
   "source": [
    "### Next step creation of a pipeline"
   ]
  },
  {
   "cell_type": "code",
   "execution_count": 46,
   "id": "556e1a23-ce53-4ff4-95f1-bc4fd4cf22df",
   "metadata": {
    "id": "556e1a23-ce53-4ff4-95f1-bc4fd4cf22df"
   },
   "outputs": [],
   "source": [
    "# extract the target\n",
    "y_train = df_train_check[\"petition_topic\"]\n",
    "y_test = df_test_check[\"petition_topic\"]\n",
    "\n",
    "petition_categories = [\"environment and animal welfare\",\"health and social care\",\"economy, labour and welfare\",\"education\",\"culture, sport and media\",\"uk government and devolution\",\"london\"]"
   ]
  },
  {
   "cell_type": "markdown",
   "id": "f1b7f75f-87cd-47d6-8ba2-cb7abf8a4da2",
   "metadata": {},
   "source": [
    "Drop the clean text as the word embedding already exists"
   ]
  },
  {
   "cell_type": "code",
   "execution_count": 47,
   "id": "8f762fc2-1b87-4184-bc18-416e94617a47",
   "metadata": {},
   "outputs": [
    {
     "name": "stderr",
     "output_type": "stream",
     "text": [
      "C:\\Users\\Ganesh\\anaconda3\\envs\\Pandas_Playground_Updated\\Lib\\site-packages\\sklearn\\neural_network\\_multilayer_perceptron.py:691: ConvergenceWarning: Stochastic Optimizer: Maximum iterations (400) reached and the optimization hasn't converged yet.\n",
      "  warnings.warn(\n",
      "C:\\Users\\Ganesh\\anaconda3\\envs\\Pandas_Playground_Updated\\Lib\\site-packages\\sklearn\\neural_network\\_multilayer_perceptron.py:691: ConvergenceWarning: Stochastic Optimizer: Maximum iterations (400) reached and the optimization hasn't converged yet.\n",
      "  warnings.warn(\n",
      "C:\\Users\\Ganesh\\anaconda3\\envs\\Pandas_Playground_Updated\\Lib\\site-packages\\sklearn\\neural_network\\_multilayer_perceptron.py:691: ConvergenceWarning: Stochastic Optimizer: Maximum iterations (400) reached and the optimization hasn't converged yet.\n",
      "  warnings.warn(\n",
      "C:\\Users\\Ganesh\\anaconda3\\envs\\Pandas_Playground_Updated\\Lib\\site-packages\\sklearn\\neural_network\\_multilayer_perceptron.py:691: ConvergenceWarning: Stochastic Optimizer: Maximum iterations (400) reached and the optimization hasn't converged yet.\n",
      "  warnings.warn(\n",
      "C:\\Users\\Ganesh\\anaconda3\\envs\\Pandas_Playground_Updated\\Lib\\site-packages\\sklearn\\neural_network\\_multilayer_perceptron.py:691: ConvergenceWarning: Stochastic Optimizer: Maximum iterations (400) reached and the optimization hasn't converged yet.\n",
      "  warnings.warn(\n",
      "C:\\Users\\Ganesh\\anaconda3\\envs\\Pandas_Playground_Updated\\Lib\\site-packages\\sklearn\\neural_network\\_multilayer_perceptron.py:691: ConvergenceWarning: Stochastic Optimizer: Maximum iterations (400) reached and the optimization hasn't converged yet.\n",
      "  warnings.warn(\n",
      "C:\\Users\\Ganesh\\anaconda3\\envs\\Pandas_Playground_Updated\\Lib\\site-packages\\sklearn\\neural_network\\_multilayer_perceptron.py:691: ConvergenceWarning: Stochastic Optimizer: Maximum iterations (400) reached and the optimization hasn't converged yet.\n",
      "  warnings.warn(\n"
     ]
    },
    {
     "name": "stdout",
     "output_type": "stream",
     "text": [
      "Time taken to train gridsearch: 1806.24 seconds.\n",
      "                                precision    recall  f1-score   support\n",
      "\n",
      "environment and animal welfare       0.59      0.83      0.69       157\n",
      "        health and social care       0.69      0.66      0.67       156\n",
      "   economy, labour and welfare       0.79      0.83      0.81       167\n",
      "                     education       0.86      0.88      0.87       344\n",
      "      culture, sport and media       0.86      0.69      0.77       330\n",
      "  uk government and devolution       0.00      0.00      0.00        11\n",
      "                        london       0.78      0.79      0.78       108\n",
      "\n",
      "                      accuracy                           0.78      1273\n",
      "                     macro avg       0.65      0.67      0.66      1273\n",
      "                  weighted avg       0.78      0.78      0.77      1273\n",
      "\n"
     ]
    },
    {
     "data": {
      "image/png": "[encoded data removed]",
      "text/plain": [
       "<Figure size 640x480 with 2 Axes>"
      ]
     },
     "metadata": {},
     "output_type": "display_data"
    }
   ],
   "source": [
    "from sklearn.compose import ColumnTransformer\n",
    "from sklearn.neural_network import MLPClassifier\n",
    "\n",
    "ct = ColumnTransformer(\n",
    "    transformers= [\n",
    "        (\n",
    "            \"minmax\",\n",
    "            MinMaxScaler(),\n",
    "            [str(i) for i in range(300)], #applied to all columns with the embeddings\n",
    "        ),\n",
    "        (\n",
    "            \"scaling\", # --> name of the transformation\n",
    "            StandardScaler(), # --> main function to apply\n",
    "            [\"text_length\"], #-->columns to apply it to (we can give more than one column at once!)\n",
    "        )\n",
    "    ],\n",
    "    remainder=\"passthrough\", #--> what to do with the non-transformed columns. passthrough=keep them\n",
    "    verbose_feature_names_out=False #--> this keeps columns names simple.\n",
    ")\n",
    "\n",
    "clf_ = Pipeline(\n",
    "        steps =[('scaling', ct),\n",
    "              ('clf', MLPClassifier()),\n",
    "      ]\n",
    "    )\n",
    "\n",
    "# let's define the parameters to try\n",
    "hparameters = {'clf__hidden_layer_sizes': ((20,20),(10,10),(30,30)),\n",
    "              'clf__alpha': (0.0001, 0.001,0.01),\n",
    "               'clf__max_iter': (400,600,1000),\n",
    "             }\n",
    "\n",
    "clf_search = GridSearchCV(clf_, hparameters, scoring= \"accuracy\", cv= 5, error_score='raise')\n",
    "\n",
    "# Fit all the possible hyper-parameters combinations using cross-validation: it may take some time\n",
    "# original data\n",
    "# let's also time it\n",
    "t0 = tt()\n",
    "_ =clf_search.fit(df_train_check.drop(columns=['petition_topic','clean_text']), y_train)\n",
    "print(f'Time taken to train gridsearch: {tt()-t0:.2f} seconds.')\n",
    "\n",
    "# Get the best estimator for further analysis of the results using the test set\n",
    "best_clf = clf_search.best_estimator_\n",
    "\n",
    "# Compute predictions and evaluation metrics using the best estimator\n",
    "# original data\n",
    "y_pred = best_clf.predict(df_test_check.drop(columns=['petition_topic',\"clean_text\"]))\n",
    "print(classification_report(y_test, y_pred, target_names = petition_categories))\n",
    "\n",
    "cm= ConfusionMatrixDisplay.from_estimator(best_clf, df_test_check.drop(columns=['petition_topic',\"clean_text\"]), y_test)\n"
   ]
  },
  {
   "cell_type": "code",
   "execution_count": 48,
   "id": "50b3f405-ded8-41c0-97e0-ca7a8c66d486",
   "metadata": {
    "id": "50b3f405-ded8-41c0-97e0-ca7a8c66d486"
   },
   "outputs": [
    {
     "name": "stdout",
     "output_type": "stream",
     "text": [
      "0.7913768030272884 {'clf__alpha': 0.0001, 'clf__hidden_layer_sizes': (30, 30), 'clf__max_iter': 1000}\n"
     ]
    }
   ],
   "source": [
    "print(clf_search.best_score_, clf_search.best_params_)"
   ]
  },
  {
   "cell_type": "markdown",
   "id": "8333ca09-e946-4024-8c29-8697f19ae34a",
   "metadata": {
    "id": "8333ca09-e946-4024-8c29-8697f19ae34a"
   },
   "source": [
    "The accuracy is low compared to what was asked, so I have to modify the parameters"
   ]
  },
  {
   "cell_type": "markdown",
   "id": "850d3e1f-4926-45c3-834d-81e25cf962de",
   "metadata": {
    "id": "850d3e1f-4926-45c3-834d-81e25cf962de"
   },
   "source": [
    "### Trying something different with the has_entity column by directly label encoding the value."
   ]
  },
  {
   "cell_type": "code",
   "execution_count": null,
   "id": "23804bf9-53a8-4734-bcaf-de2b200b057b",
   "metadata": {
    "id": "23804bf9-53a8-4734-bcaf-de2b200b057b",
    "outputId": "bc97c1a1-defa-4864-8eb0-b21c354a6648"
   },
   "outputs": [
    {
     "data": {
      "text/plain": [
       "array(['EVENT:NO_DATE:NO_PERSON:NO_', 'EVENT:NO_DATE:YES_PERSON:NO_',\n",
       "       'EVENT:NO_DATE:NO_PERSON:YES_', 'EVENT:NO_DATE:YES_PERSON:YES_',\n",
       "       'EVENT:YES_DATE:YES_PERSON:NO_', 'EVENT:YES_DATE:YES_PERSON:YES_',\n",
       "       'data missing', 'EVENT:YES_DATE:NO_PERSON:YES_',\n",
       "       'EVENT:YES_DATE:NO_PERSON:NO_'], dtype=object)"
      ]
     },
     "execution_count": 143,
     "metadata": {},
     "output_type": "execute_result"
    }
   ],
   "source": [
    "mod_train_data['has_entity'].unique()"
   ]
  },
  {
   "cell_type": "code",
   "execution_count": null,
   "id": "f2387564-5ecf-4cb5-b4e7-7e0a12350f84",
   "metadata": {
    "id": "f2387564-5ecf-4cb5-b4e7-7e0a12350f84"
   },
   "outputs": [],
   "source": [
    "df_train_new_check = df_train_new.copy()\n",
    "df_test_new_check = df_test_new.copy()"
   ]
  },
  {
   "cell_type": "code",
   "execution_count": null,
   "id": "8c0ed2f6-b8c6-4af1-a6ff-c1452df5f575",
   "metadata": {
    "id": "8c0ed2f6-b8c6-4af1-a6ff-c1452df5f575",
    "outputId": "a91f6e75-3cdc-45dd-911a-71290786ec73"
   },
   "outputs": [
    {
     "data": {
      "text/html": [
       "<div>\n",
       "<style scoped>\n",
       "    .dataframe tbody tr th:only-of-type {\n",
       "        vertical-align: middle;\n",
       "    }\n",
       "\n",
       "    .dataframe tbody tr th {\n",
       "        vertical-align: top;\n",
       "    }\n",
       "\n",
       "    .dataframe thead th {\n",
       "        text-align: right;\n",
       "    }\n",
       "</style>\n",
       "<table border=\"1\" class=\"dataframe\">\n",
       "  <thead>\n",
       "    <tr style=\"text-align: right;\">\n",
       "      <th></th>\n",
       "      <th>0</th>\n",
       "      <th>1</th>\n",
       "      <th>2</th>\n",
       "      <th>3</th>\n",
       "      <th>4</th>\n",
       "      <th>5</th>\n",
       "      <th>6</th>\n",
       "      <th>7</th>\n",
       "      <th>8</th>\n",
       "      <th>9</th>\n",
       "      <th>...</th>\n",
       "      <th>292</th>\n",
       "      <th>293</th>\n",
       "      <th>294</th>\n",
       "      <th>295</th>\n",
       "      <th>296</th>\n",
       "      <th>297</th>\n",
       "      <th>298</th>\n",
       "      <th>299</th>\n",
       "      <th>text_length</th>\n",
       "      <th>petition_topic</th>\n",
       "    </tr>\n",
       "  </thead>\n",
       "  <tbody>\n",
       "    <tr>\n",
       "      <th>5240</th>\n",
       "      <td>-0.756906</td>\n",
       "      <td>0.199952</td>\n",
       "      <td>-0.168911</td>\n",
       "      <td>-0.045260</td>\n",
       "      <td>-0.255803</td>\n",
       "      <td>0.118857</td>\n",
       "      <td>-0.130520</td>\n",
       "      <td>-0.006530</td>\n",
       "      <td>-0.125018</td>\n",
       "      <td>1.150565</td>\n",
       "      <td>...</td>\n",
       "      <td>0.048483</td>\n",
       "      <td>-0.103564</td>\n",
       "      <td>-0.152283</td>\n",
       "      <td>0.259576</td>\n",
       "      <td>-0.128978</td>\n",
       "      <td>-0.145095</td>\n",
       "      <td>-0.037680</td>\n",
       "      <td>0.060156</td>\n",
       "      <td>750</td>\n",
       "      <td>3</td>\n",
       "    </tr>\n",
       "    <tr>\n",
       "      <th>2672</th>\n",
       "      <td>-0.694980</td>\n",
       "      <td>0.116656</td>\n",
       "      <td>-0.061749</td>\n",
       "      <td>-0.028529</td>\n",
       "      <td>-0.051513</td>\n",
       "      <td>-0.063258</td>\n",
       "      <td>0.071294</td>\n",
       "      <td>0.004283</td>\n",
       "      <td>0.016378</td>\n",
       "      <td>1.991675</td>\n",
       "      <td>...</td>\n",
       "      <td>-0.069255</td>\n",
       "      <td>-0.007378</td>\n",
       "      <td>-0.018020</td>\n",
       "      <td>0.088601</td>\n",
       "      <td>0.014388</td>\n",
       "      <td>-0.141721</td>\n",
       "      <td>0.133277</td>\n",
       "      <td>0.018061</td>\n",
       "      <td>789</td>\n",
       "      <td>0</td>\n",
       "    </tr>\n",
       "    <tr>\n",
       "      <th>6071</th>\n",
       "      <td>-0.697740</td>\n",
       "      <td>0.172371</td>\n",
       "      <td>0.102460</td>\n",
       "      <td>-0.051618</td>\n",
       "      <td>-0.189875</td>\n",
       "      <td>0.002202</td>\n",
       "      <td>0.009835</td>\n",
       "      <td>0.036387</td>\n",
       "      <td>-0.003723</td>\n",
       "      <td>1.541139</td>\n",
       "      <td>...</td>\n",
       "      <td>0.023094</td>\n",
       "      <td>0.042788</td>\n",
       "      <td>-0.050962</td>\n",
       "      <td>0.174501</td>\n",
       "      <td>-0.048599</td>\n",
       "      <td>-0.094152</td>\n",
       "      <td>0.025717</td>\n",
       "      <td>0.083867</td>\n",
       "      <td>776</td>\n",
       "      <td>6</td>\n",
       "    </tr>\n",
       "    <tr>\n",
       "      <th>2405</th>\n",
       "      <td>-0.699950</td>\n",
       "      <td>0.142938</td>\n",
       "      <td>-0.127958</td>\n",
       "      <td>-0.079332</td>\n",
       "      <td>-0.096946</td>\n",
       "      <td>0.137893</td>\n",
       "      <td>-0.042101</td>\n",
       "      <td>0.010298</td>\n",
       "      <td>-0.033583</td>\n",
       "      <td>1.513242</td>\n",
       "      <td>...</td>\n",
       "      <td>-0.101476</td>\n",
       "      <td>-0.059601</td>\n",
       "      <td>-0.109659</td>\n",
       "      <td>0.052665</td>\n",
       "      <td>-0.140957</td>\n",
       "      <td>-0.224622</td>\n",
       "      <td>0.210164</td>\n",
       "      <td>0.022017</td>\n",
       "      <td>798</td>\n",
       "      <td>4</td>\n",
       "    </tr>\n",
       "    <tr>\n",
       "      <th>8685</th>\n",
       "      <td>-0.706644</td>\n",
       "      <td>0.172924</td>\n",
       "      <td>0.010476</td>\n",
       "      <td>-0.061168</td>\n",
       "      <td>-0.156598</td>\n",
       "      <td>-0.039688</td>\n",
       "      <td>0.080820</td>\n",
       "      <td>-0.012794</td>\n",
       "      <td>0.023194</td>\n",
       "      <td>1.784954</td>\n",
       "      <td>...</td>\n",
       "      <td>0.131235</td>\n",
       "      <td>0.090055</td>\n",
       "      <td>0.022559</td>\n",
       "      <td>0.066213</td>\n",
       "      <td>-0.067401</td>\n",
       "      <td>-0.103203</td>\n",
       "      <td>0.110865</td>\n",
       "      <td>-0.038141</td>\n",
       "      <td>654</td>\n",
       "      <td>2</td>\n",
       "    </tr>\n",
       "    <tr>\n",
       "      <th>...</th>\n",
       "      <td>...</td>\n",
       "      <td>...</td>\n",
       "      <td>...</td>\n",
       "      <td>...</td>\n",
       "      <td>...</td>\n",
       "      <td>...</td>\n",
       "      <td>...</td>\n",
       "      <td>...</td>\n",
       "      <td>...</td>\n",
       "      <td>...</td>\n",
       "      <td>...</td>\n",
       "      <td>...</td>\n",
       "      <td>...</td>\n",
       "      <td>...</td>\n",
       "      <td>...</td>\n",
       "      <td>...</td>\n",
       "      <td>...</td>\n",
       "      <td>...</td>\n",
       "      <td>...</td>\n",
       "      <td>...</td>\n",
       "      <td>...</td>\n",
       "    </tr>\n",
       "    <tr>\n",
       "      <th>6664</th>\n",
       "      <td>-0.703123</td>\n",
       "      <td>0.089415</td>\n",
       "      <td>-0.115443</td>\n",
       "      <td>-0.021166</td>\n",
       "      <td>-0.159254</td>\n",
       "      <td>-0.063038</td>\n",
       "      <td>0.014358</td>\n",
       "      <td>-0.075411</td>\n",
       "      <td>0.130585</td>\n",
       "      <td>1.530336</td>\n",
       "      <td>...</td>\n",
       "      <td>-0.235489</td>\n",
       "      <td>-0.076201</td>\n",
       "      <td>0.010019</td>\n",
       "      <td>0.091830</td>\n",
       "      <td>0.003160</td>\n",
       "      <td>-0.047658</td>\n",
       "      <td>0.026715</td>\n",
       "      <td>0.139009</td>\n",
       "      <td>403</td>\n",
       "      <td>4</td>\n",
       "    </tr>\n",
       "    <tr>\n",
       "      <th>8260</th>\n",
       "      <td>-0.682688</td>\n",
       "      <td>0.117404</td>\n",
       "      <td>0.005274</td>\n",
       "      <td>-0.033516</td>\n",
       "      <td>-0.074261</td>\n",
       "      <td>-0.073758</td>\n",
       "      <td>0.025916</td>\n",
       "      <td>0.006546</td>\n",
       "      <td>0.063762</td>\n",
       "      <td>1.748267</td>\n",
       "      <td>...</td>\n",
       "      <td>-0.047850</td>\n",
       "      <td>-0.015764</td>\n",
       "      <td>0.029244</td>\n",
       "      <td>0.005267</td>\n",
       "      <td>0.005856</td>\n",
       "      <td>-0.098518</td>\n",
       "      <td>0.116981</td>\n",
       "      <td>0.062416</td>\n",
       "      <td>870</td>\n",
       "      <td>3</td>\n",
       "    </tr>\n",
       "    <tr>\n",
       "      <th>4351</th>\n",
       "      <td>-0.721015</td>\n",
       "      <td>-0.048350</td>\n",
       "      <td>0.464835</td>\n",
       "      <td>0.078228</td>\n",
       "      <td>-0.147376</td>\n",
       "      <td>0.022166</td>\n",
       "      <td>-0.031392</td>\n",
       "      <td>0.361409</td>\n",
       "      <td>0.273816</td>\n",
       "      <td>2.083250</td>\n",
       "      <td>...</td>\n",
       "      <td>-0.046126</td>\n",
       "      <td>0.011173</td>\n",
       "      <td>-0.323715</td>\n",
       "      <td>0.079539</td>\n",
       "      <td>0.152581</td>\n",
       "      <td>-0.175760</td>\n",
       "      <td>0.117640</td>\n",
       "      <td>-0.217992</td>\n",
       "      <td>107</td>\n",
       "      <td>6</td>\n",
       "    </tr>\n",
       "    <tr>\n",
       "      <th>5191</th>\n",
       "      <td>-0.701456</td>\n",
       "      <td>0.239346</td>\n",
       "      <td>0.060322</td>\n",
       "      <td>-0.090363</td>\n",
       "      <td>-0.194062</td>\n",
       "      <td>-0.071167</td>\n",
       "      <td>-0.001795</td>\n",
       "      <td>0.037609</td>\n",
       "      <td>0.130520</td>\n",
       "      <td>1.939825</td>\n",
       "      <td>...</td>\n",
       "      <td>0.079053</td>\n",
       "      <td>-0.031027</td>\n",
       "      <td>0.032097</td>\n",
       "      <td>0.053145</td>\n",
       "      <td>-0.056209</td>\n",
       "      <td>-0.132920</td>\n",
       "      <td>0.001803</td>\n",
       "      <td>-0.142482</td>\n",
       "      <td>631</td>\n",
       "      <td>4</td>\n",
       "    </tr>\n",
       "    <tr>\n",
       "      <th>7300</th>\n",
       "      <td>-0.730652</td>\n",
       "      <td>0.249027</td>\n",
       "      <td>-0.148732</td>\n",
       "      <td>-0.163064</td>\n",
       "      <td>-0.182256</td>\n",
       "      <td>-0.219815</td>\n",
       "      <td>-0.009620</td>\n",
       "      <td>-0.134640</td>\n",
       "      <td>0.111831</td>\n",
       "      <td>2.187759</td>\n",
       "      <td>...</td>\n",
       "      <td>0.031453</td>\n",
       "      <td>-0.002917</td>\n",
       "      <td>0.135995</td>\n",
       "      <td>0.007770</td>\n",
       "      <td>0.085342</td>\n",
       "      <td>-0.065667</td>\n",
       "      <td>0.178505</td>\n",
       "      <td>0.010936</td>\n",
       "      <td>291</td>\n",
       "      <td>1</td>\n",
       "    </tr>\n",
       "  </tbody>\n",
       "</table>\n",
       "<p>1697 rows × 302 columns</p>\n",
       "</div>"
      ],
      "text/plain": [
       "             0         1         2         3         4         5         6  \\\n",
       "5240 -0.756906  0.199952 -0.168911 -0.045260 -0.255803  0.118857 -0.130520   \n",
       "2672 -0.694980  0.116656 -0.061749 -0.028529 -0.051513 -0.063258  0.071294   \n",
       "6071 -0.697740  0.172371  0.102460 -0.051618 -0.189875  0.002202  0.009835   \n",
       "2405 -0.699950  0.142938 -0.127958 -0.079332 -0.096946  0.137893 -0.042101   \n",
       "8685 -0.706644  0.172924  0.010476 -0.061168 -0.156598 -0.039688  0.080820   \n",
       "...        ...       ...       ...       ...       ...       ...       ...   \n",
       "6664 -0.703123  0.089415 -0.115443 -0.021166 -0.159254 -0.063038  0.014358   \n",
       "8260 -0.682688  0.117404  0.005274 -0.033516 -0.074261 -0.073758  0.025916   \n",
       "4351 -0.721015 -0.048350  0.464835  0.078228 -0.147376  0.022166 -0.031392   \n",
       "5191 -0.701456  0.239346  0.060322 -0.090363 -0.194062 -0.071167 -0.001795   \n",
       "7300 -0.730652  0.249027 -0.148732 -0.163064 -0.182256 -0.219815 -0.009620   \n",
       "\n",
       "             7         8         9  ...       292       293       294  \\\n",
       "5240 -0.006530 -0.125018  1.150565  ...  0.048483 -0.103564 -0.152283   \n",
       "2672  0.004283  0.016378  1.991675  ... -0.069255 -0.007378 -0.018020   \n",
       "6071  0.036387 -0.003723  1.541139  ...  0.023094  0.042788 -0.050962   \n",
       "2405  0.010298 -0.033583  1.513242  ... -0.101476 -0.059601 -0.109659   \n",
       "8685 -0.012794  0.023194  1.784954  ...  0.131235  0.090055  0.022559   \n",
       "...        ...       ...       ...  ...       ...       ...       ...   \n",
       "6664 -0.075411  0.130585  1.530336  ... -0.235489 -0.076201  0.010019   \n",
       "8260  0.006546  0.063762  1.748267  ... -0.047850 -0.015764  0.029244   \n",
       "4351  0.361409  0.273816  2.083250  ... -0.046126  0.011173 -0.323715   \n",
       "5191  0.037609  0.130520  1.939825  ...  0.079053 -0.031027  0.032097   \n",
       "7300 -0.134640  0.111831  2.187759  ...  0.031453 -0.002917  0.135995   \n",
       "\n",
       "           295       296       297       298       299  text_length  \\\n",
       "5240  0.259576 -0.128978 -0.145095 -0.037680  0.060156          750   \n",
       "2672  0.088601  0.014388 -0.141721  0.133277  0.018061          789   \n",
       "6071  0.174501 -0.048599 -0.094152  0.025717  0.083867          776   \n",
       "2405  0.052665 -0.140957 -0.224622  0.210164  0.022017          798   \n",
       "8685  0.066213 -0.067401 -0.103203  0.110865 -0.038141          654   \n",
       "...        ...       ...       ...       ...       ...          ...   \n",
       "6664  0.091830  0.003160 -0.047658  0.026715  0.139009          403   \n",
       "8260  0.005267  0.005856 -0.098518  0.116981  0.062416          870   \n",
       "4351  0.079539  0.152581 -0.175760  0.117640 -0.217992          107   \n",
       "5191  0.053145 -0.056209 -0.132920  0.001803 -0.142482          631   \n",
       "7300  0.007770  0.085342 -0.065667  0.178505  0.010936          291   \n",
       "\n",
       "      petition_topic  \n",
       "5240               3  \n",
       "2672               0  \n",
       "6071               6  \n",
       "2405               4  \n",
       "8685               2  \n",
       "...              ...  \n",
       "6664               4  \n",
       "8260               3  \n",
       "4351               6  \n",
       "5191               4  \n",
       "7300               1  \n",
       "\n",
       "[1697 rows x 302 columns]"
      ]
     },
     "execution_count": 163,
     "metadata": {},
     "output_type": "execute_result"
    }
   ],
   "source": [
    "df_train_new_check.drop(columns=[\"has_date\",\"has_event\",\"has_person\"])\n",
    "df_test_new_check.drop(columns=[\"has_date\",\"has_event\",\"has_person\"])"
   ]
  },
  {
   "cell_type": "code",
   "execution_count": null,
   "id": "84277b7b-0842-4d59-bd19-a1981ed2642a",
   "metadata": {
    "id": "84277b7b-0842-4d59-bd19-a1981ed2642a"
   },
   "outputs": [],
   "source": [
    "# df_train_new_check[\"has_entity\"] = mod_train_data[\"has_entity\"]\n",
    "# df_test_new_check[\"has_entity\"] = mod_test_data[\"has_entity\"]"
   ]
  },
  {
   "cell_type": "code",
   "execution_count": null,
   "id": "fcaf3f98-8227-4046-b523-ad0fe1666b98",
   "metadata": {
    "id": "fcaf3f98-8227-4046-b523-ad0fe1666b98",
    "outputId": "1f67a44b-66df-4a7b-98cd-e526c771b31e"
   },
   "outputs": [
    {
     "name": "stdout",
     "output_type": "stream",
     "text": [
      "5255    0\n",
      "5572    0\n",
      "2422    0\n",
      "3342    2\n",
      "5224    0\n",
      "       ..\n",
      "4929    2\n",
      "1701    2\n",
      "5517    3\n",
      "1451    0\n",
      "332     0\n",
      "Name: has_entity, Length: 6790, dtype: int64\n",
      "\n",
      "5240    0\n",
      "2672    0\n",
      "6071    0\n",
      "2405    0\n",
      "8685    3\n",
      "       ..\n",
      "6664    2\n",
      "8260    2\n",
      "4351    0\n",
      "5191    1\n",
      "7300    0\n",
      "Name: has_entity, Length: 1697, dtype: int32\n"
     ]
    }
   ],
   "source": [
    "lblEncoder_A = LabelEncoder()\n",
    "\n",
    "lblEncoder_A = lblEncoder_A.fit(df_train_new_check[\"has_entity\"]) # we can fit and transform all at once\n",
    "df_train_new_check[\"has_entity\"] = lblEncoder_A.transform(df_train_new_check[\"has_entity\"])\n",
    "\n",
    "print(df_train_new_check[\"has_entity\"])\n",
    "print()\n",
    "\n",
    "lblEncoder_C = LabelEncoder()\n",
    "\n",
    "lblEncoder_C = lblEncoder_C.fit(df_test_new_check[\"has_entity\"]) # we can fit and transform all at once\n",
    "df_test_new_check[\"has_entity\"] = lblEncoder_C.transform(df_test_new_check[\"has_entity\"])\n",
    "\n",
    "print(df_test_new_check[\"has_entity\"])"
   ]
  },
  {
   "cell_type": "code",
   "execution_count": null,
   "id": "71608180-1bcf-411e-a8ac-a06aa4c7309a",
   "metadata": {
    "id": "71608180-1bcf-411e-a8ac-a06aa4c7309a",
    "outputId": "c37f1ed6-aabc-4e7d-ecac-d985b4a66462"
   },
   "outputs": [
    {
     "data": {
      "text/plain": [
       "has_entity\n",
       "0    3163\n",
       "2    2285\n",
       "1     644\n",
       "3     554\n",
       "6      59\n",
       "4      43\n",
       "8      21\n",
       "7      14\n",
       "5       7\n",
       "Name: count, dtype: int64"
      ]
     },
     "execution_count": 169,
     "metadata": {},
     "output_type": "execute_result"
    }
   ],
   "source": [
    "df_train_new_check[\"has_entity\"].value_counts()"
   ]
  },
  {
   "cell_type": "code",
   "execution_count": null,
   "id": "aecddf32-17e2-4fa0-b979-2afb8d3c9663",
   "metadata": {
    "id": "aecddf32-17e2-4fa0-b979-2afb8d3c9663",
    "outputId": "a746d2ff-cb75-4808-de93-e5ac85a9c3ac"
   },
   "outputs": [
    {
     "data": {
      "text/plain": [
       "has_entity\n",
       "0    826\n",
       "2    564\n",
       "3    140\n",
       "1    134\n",
       "6     13\n",
       "7      8\n",
       "4      8\n",
       "8      3\n",
       "5      1\n",
       "Name: count, dtype: int64"
      ]
     },
     "execution_count": 170,
     "metadata": {},
     "output_type": "execute_result"
    }
   ],
   "source": [
    "df_test_new_check[\"has_entity\"].value_counts()"
   ]
  },
  {
   "cell_type": "markdown",
   "id": "9f1cfe0f-fb81-451a-bb9c-ccf92b8ada6d",
   "metadata": {
    "id": "9f1cfe0f-fb81-451a-bb9c-ccf92b8ada6d"
   },
   "source": [
    "### After labeling the has-entity labels, testing the classifer again"
   ]
  },
  {
   "cell_type": "code",
   "execution_count": null,
   "id": "eb577c31-1b97-481e-bdac-4a95d196536f",
   "metadata": {
    "editable": true,
    "id": "eb577c31-1b97-481e-bdac-4a95d196536f",
    "outputId": "19b45626-7077-4f42-e78c-ee5915a74286",
    "slideshow": {
     "slide_type": ""
    },
    "tags": []
   },
   "outputs": [
    {
     "name": "stdout",
     "output_type": "stream",
     "text": [
      "Time taken to train gridsearch: 9745.64 seconds.\n",
      "                                precision    recall  f1-score   support\n",
      "\n",
      "environment and animal welfare       0.75      0.77      0.76       195\n",
      "        health and social care       0.76      0.78      0.77       247\n",
      "   economy, labour and welfare       0.87      0.77      0.81       217\n",
      "                     education       0.89      0.82      0.85       462\n",
      "      culture, sport and media       0.77      0.84      0.80       430\n",
      "  uk government and devolution       0.71      0.50      0.59        10\n",
      "                        london       0.80      0.90      0.84       136\n",
      "\n",
      "                      accuracy                           0.81      1697\n",
      "                     macro avg       0.79      0.77      0.78      1697\n",
      "                  weighted avg       0.81      0.81      0.81      1697\n",
      "\n"
     ]
    },
    {
     "data": {
      "image/png": "[encoded data removed]",
      "text/plain": [
       "<Figure size 640x480 with 2 Axes>"
      ]
     },
     "metadata": {},
     "output_type": "display_data"
    }
   ],
   "source": [
    "from imblearn.pipeline import Pipeline as ImbPipeline\n",
    "from imblearn.over_sampling import RandomOverSampler, SMOTE\n",
    "\n",
    "bal_clf_ = ImbPipeline(\n",
    "        steps =[\n",
    "            ('resampling', RandomOverSampler(random_state=0)),\n",
    "            ('scaling', ct),\n",
    "            ('clf', MLPClassifier()),\n",
    "      ]\n",
    "    )\n",
    "\n",
    "# let's define the parameters to try\n",
    "bal_hparameters = {'clf__hidden_layer_sizes': ((200,20), (200,)),\n",
    "                'clf__alpha': (0.00001,0.0001, 0.001),\n",
    "               'clf__max_iter': [(600)],\n",
    "             }\n",
    "\n",
    "clf_search = GridSearchCV(bal_clf_, bal_hparameters, scoring= \"accuracy\", cv= 5)\n",
    "\n",
    "t0 = tt()\n",
    "_ =clf_search.fit(df_train_new_check.drop(columns=['petition_topic']), y_train)\n",
    "print(f'Time taken to train gridsearch: {tt()-t0:.2f} seconds.')\n",
    "\n",
    "# Get the best estimator for further analysis of the results using the test set\n",
    "best_clf = clf_search.best_estimator_\n",
    "\n",
    "# Compute predictions and evaluation metrics using the best estimator\n",
    "# original data\n",
    "y_pred = best_clf.predict(df_test_new_check.drop(columns=['petition_topic']))\n",
    "print(classification_report(y_test, y_pred, target_names = petition_categories))\n",
    "\n",
    "cm= ConfusionMatrixDisplay.from_estimator(best_clf, df_test_new_check.drop(columns=['petition_topic']), y_test)"
   ]
  },
  {
   "cell_type": "code",
   "execution_count": null,
   "id": "c621fc3e-9fa7-4583-a0be-d1ff4de27b9e",
   "metadata": {
    "id": "c621fc3e-9fa7-4583-a0be-d1ff4de27b9e",
    "outputId": "3193bb3d-92d9-429a-eee6-4213b8824f61"
   },
   "outputs": [
    {
     "name": "stdout",
     "output_type": "stream",
     "text": [
      "0.8102533883323512\n"
     ]
    }
   ],
   "source": [
    "print(accuracy_score(y_test,y_pred))"
   ]
  },
  {
   "cell_type": "markdown",
   "id": "09016c2c-4515-4f63-abdb-3aa81762d86b",
   "metadata": {},
   "source": [
    "Scores are again not that great"
   ]
  },
  {
   "cell_type": "markdown",
   "id": "b4007613-a76b-4899-ace7-e3e5db866537",
   "metadata": {
    "id": "b4007613-a76b-4899-ace7-e3e5db866537"
   },
   "source": [
    "## Try Logistic Regression"
   ]
  },
  {
   "cell_type": "code",
   "execution_count": 49,
   "id": "TAi4qlc13jtq",
   "metadata": {
    "id": "TAi4qlc13jtq"
   },
   "outputs": [],
   "source": [
    "import warnings\n",
    "warnings.simplefilter(\"ignore\")\n",
    "\n",
    "# extract the target\n",
    "y_train = df_train_check[\"petition_topic\"]\n",
    "y_test = df_test_check[\"petition_topic\"]\n",
    "\n",
    "petition_categories = [\"environment and animal welfare\",\"health and social care\",\"economy, labour and welfare\",\"education\",\"culture, sport and media\",\"uk government and devolution\",\"london\"]"
   ]
  },
  {
   "cell_type": "code",
   "execution_count": 48,
   "id": "06d5d0d3-afec-448c-8a49-c50cd736d87a",
   "metadata": {},
   "outputs": [
    {
     "data": {
      "text/html": [
       "<div>\n",
       "<style scoped>\n",
       "    .dataframe tbody tr th:only-of-type {\n",
       "        vertical-align: middle;\n",
       "    }\n",
       "\n",
       "    .dataframe tbody tr th {\n",
       "        vertical-align: top;\n",
       "    }\n",
       "\n",
       "    .dataframe thead th {\n",
       "        text-align: right;\n",
       "    }\n",
       "</style>\n",
       "<table border=\"1\" class=\"dataframe\">\n",
       "  <thead>\n",
       "    <tr style=\"text-align: right;\">\n",
       "      <th></th>\n",
       "      <th>has_entity</th>\n",
       "      <th>petition_topic</th>\n",
       "      <th>clean_text</th>\n",
       "      <th>text_length</th>\n",
       "    </tr>\n",
       "  </thead>\n",
       "  <tbody>\n",
       "    <tr>\n",
       "      <th>4240</th>\n",
       "      <td>1</td>\n",
       "      <td>6</td>\n",
       "      <td>find the time to take the kept animals bill th...</td>\n",
       "      <td>649</td>\n",
       "    </tr>\n",
       "    <tr>\n",
       "      <th>2212</th>\n",
       "      <td>0</td>\n",
       "      <td>3</td>\n",
       "      <td>require meat sellers to display how all meat w...</td>\n",
       "      <td>836</td>\n",
       "    </tr>\n",
       "    <tr>\n",
       "      <th>8724</th>\n",
       "      <td>6</td>\n",
       "      <td>3</td>\n",
       "      <td>only allow sale and use of fireworks on 5 nove...</td>\n",
       "      <td>552</td>\n",
       "    </tr>\n",
       "    <tr>\n",
       "      <th>8236</th>\n",
       "      <td>2</td>\n",
       "      <td>4</td>\n",
       "      <td>make covid-19 booster vaccines available to vu...</td>\n",
       "      <td>468</td>\n",
       "    </tr>\n",
       "    <tr>\n",
       "      <th>6814</th>\n",
       "      <td>2</td>\n",
       "      <td>4</td>\n",
       "      <td>exempt children under 10 from the rule of six....</td>\n",
       "      <td>412</td>\n",
       "    </tr>\n",
       "  </tbody>\n",
       "</table>\n",
       "</div>"
      ],
      "text/plain": [
       "      has_entity  petition_topic  \\\n",
       "4240           1               6   \n",
       "2212           0               3   \n",
       "8724           6               3   \n",
       "8236           2               4   \n",
       "6814           2               4   \n",
       "\n",
       "                                             clean_text  text_length  \n",
       "4240  find the time to take the kept animals bill th...          649  \n",
       "2212  require meat sellers to display how all meat w...          836  \n",
       "8724  only allow sale and use of fireworks on 5 nove...          552  \n",
       "8236  make covid-19 booster vaccines available to vu...          468  \n",
       "6814  exempt children under 10 from the rule of six....          412  "
      ]
     },
     "execution_count": 48,
     "metadata": {},
     "output_type": "execute_result"
    }
   ],
   "source": [
    "df_train_check.head()"
   ]
  },
  {
   "cell_type": "markdown",
   "id": "af2dd11b-c97d-470b-97df-32bc597e3222",
   "metadata": {},
   "source": [
    "#### creating a separate table to remove has_entity and check the model performance"
   ]
  },
  {
   "cell_type": "code",
   "execution_count": 59,
   "id": "ff6512cb-b3c7-437b-ab2d-be59c3d30d03",
   "metadata": {},
   "outputs": [],
   "source": [
    "df_train_check_without_entity = df_train_check.copy()\n",
    "df_test_check_without_entity = df_test_check.copy()"
   ]
  },
  {
   "cell_type": "code",
   "execution_count": 61,
   "id": "eb35124b-ed5e-46f3-8120-7d0ce1b9757d",
   "metadata": {},
   "outputs": [
    {
     "data": {
      "text/html": [
       "<div>\n",
       "<style scoped>\n",
       "    .dataframe tbody tr th:only-of-type {\n",
       "        vertical-align: middle;\n",
       "    }\n",
       "\n",
       "    .dataframe tbody tr th {\n",
       "        vertical-align: top;\n",
       "    }\n",
       "\n",
       "    .dataframe thead th {\n",
       "        text-align: right;\n",
       "    }\n",
       "</style>\n",
       "<table border=\"1\" class=\"dataframe\">\n",
       "  <thead>\n",
       "    <tr style=\"text-align: right;\">\n",
       "      <th></th>\n",
       "      <th>petition_topic</th>\n",
       "      <th>clean_text</th>\n",
       "      <th>text_length</th>\n",
       "    </tr>\n",
       "  </thead>\n",
       "  <tbody>\n",
       "    <tr>\n",
       "      <th>2112</th>\n",
       "      <td>3</td>\n",
       "      <td>give councils powers to tax takeaway packaging...</td>\n",
       "      <td>676</td>\n",
       "    </tr>\n",
       "    <tr>\n",
       "      <th>8343</th>\n",
       "      <td>1</td>\n",
       "      <td>change the way universal credit works for 4 we...</td>\n",
       "      <td>719</td>\n",
       "    </tr>\n",
       "    <tr>\n",
       "      <th>8407</th>\n",
       "      <td>3</td>\n",
       "      <td>introduce mandatory licensing and regulation o...</td>\n",
       "      <td>452</td>\n",
       "    </tr>\n",
       "    <tr>\n",
       "      <th>5899</th>\n",
       "      <td>0</td>\n",
       "      <td>hold a referendum on whether to end annual clo...</td>\n",
       "      <td>764</td>\n",
       "    </tr>\n",
       "    <tr>\n",
       "      <th>5580</th>\n",
       "      <td>2</td>\n",
       "      <td>give students that will take gcse's and a-leve...</td>\n",
       "      <td>273</td>\n",
       "    </tr>\n",
       "    <tr>\n",
       "      <th>...</th>\n",
       "      <td>...</td>\n",
       "      <td>...</td>\n",
       "      <td>...</td>\n",
       "    </tr>\n",
       "    <tr>\n",
       "      <th>534</th>\n",
       "      <td>4</td>\n",
       "      <td>require icon identifying alcohol as an ingredi...</td>\n",
       "      <td>586</td>\n",
       "    </tr>\n",
       "    <tr>\n",
       "      <th>3130</th>\n",
       "      <td>5</td>\n",
       "      <td>amend the 1999 gla act to remove the mayor's p...</td>\n",
       "      <td>845</td>\n",
       "    </tr>\n",
       "    <tr>\n",
       "      <th>868</th>\n",
       "      <td>2</td>\n",
       "      <td>all nurses and doctors should have there stude...</td>\n",
       "      <td>307</td>\n",
       "    </tr>\n",
       "    <tr>\n",
       "      <th>204</th>\n",
       "      <td>3</td>\n",
       "      <td>require products containing plastic to be clea...</td>\n",
       "      <td>688</td>\n",
       "    </tr>\n",
       "    <tr>\n",
       "      <th>705</th>\n",
       "      <td>4</td>\n",
       "      <td>make vape shops an essential business during l...</td>\n",
       "      <td>115</td>\n",
       "    </tr>\n",
       "  </tbody>\n",
       "</table>\n",
       "<p>1273 rows × 3 columns</p>\n",
       "</div>"
      ],
      "text/plain": [
       "      petition_topic                                         clean_text  \\\n",
       "2112               3  give councils powers to tax takeaway packaging...   \n",
       "8343               1  change the way universal credit works for 4 we...   \n",
       "8407               3  introduce mandatory licensing and regulation o...   \n",
       "5899               0  hold a referendum on whether to end annual clo...   \n",
       "5580               2  give students that will take gcse's and a-leve...   \n",
       "...              ...                                                ...   \n",
       "534                4  require icon identifying alcohol as an ingredi...   \n",
       "3130               5  amend the 1999 gla act to remove the mayor's p...   \n",
       "868                2  all nurses and doctors should have there stude...   \n",
       "204                3  require products containing plastic to be clea...   \n",
       "705                4  make vape shops an essential business during l...   \n",
       "\n",
       "      text_length  \n",
       "2112          676  \n",
       "8343          719  \n",
       "8407          452  \n",
       "5899          764  \n",
       "5580          273  \n",
       "...           ...  \n",
       "534           586  \n",
       "3130          845  \n",
       "868           307  \n",
       "204           688  \n",
       "705           115  \n",
       "\n",
       "[1273 rows x 3 columns]"
      ]
     },
     "execution_count": 61,
     "metadata": {},
     "output_type": "execute_result"
    }
   ],
   "source": [
    "df_train_check_without_entity.drop(columns =[\"has_entity\"])\n",
    "df_test_check_without_entity.drop(columns =[\"has_entity\"])"
   ]
  },
  {
   "cell_type": "markdown",
   "id": "106de074-94a6-4894-93c3-e0406a82c7d7",
   "metadata": {},
   "source": [
    "### Trying logistic Regression without the has_entity column"
   ]
  },
  {
   "cell_type": "code",
   "execution_count": 62,
   "id": "1694e2c1-df98-498d-ac57-84369486b2b5",
   "metadata": {
    "editable": true,
    "scrolled": true,
    "slideshow": {
     "slide_type": ""
    },
    "tags": []
   },
   "outputs": [
    {
     "data": {
      "text/plain": [
       "{'memory': None,\n",
       " 'steps': [('ct', ColumnTransformer(remainder='passthrough',\n",
       "                     transformers=[('vectorizer', TfidfVectorizer(), 'clean_text'),\n",
       "                                   ('scaler', StandardScaler(), ['text_length'])],\n",
       "                     verbose_feature_names_out=False)),\n",
       "  ('clf', LogisticRegression(max_iter=1000, multi_class='multinomial'))],\n",
       " 'transform_input': None,\n",
       " 'verbose': False,\n",
       " 'ct': ColumnTransformer(remainder='passthrough',\n",
       "                   transformers=[('vectorizer', TfidfVectorizer(), 'clean_text'),\n",
       "                                 ('scaler', StandardScaler(), ['text_length'])],\n",
       "                   verbose_feature_names_out=False),\n",
       " 'clf': LogisticRegression(max_iter=1000, multi_class='multinomial'),\n",
       " 'ct__force_int_remainder_cols': True,\n",
       " 'ct__n_jobs': None,\n",
       " 'ct__remainder': 'passthrough',\n",
       " 'ct__sparse_threshold': 0.3,\n",
       " 'ct__transformer_weights': None,\n",
       " 'ct__transformers': [('vectorizer', TfidfVectorizer(), 'clean_text'),\n",
       "  ('scaler', StandardScaler(), ['text_length'])],\n",
       " 'ct__verbose': False,\n",
       " 'ct__verbose_feature_names_out': False,\n",
       " 'ct__vectorizer': TfidfVectorizer(),\n",
       " 'ct__scaler': StandardScaler(),\n",
       " 'ct__vectorizer__analyzer': 'word',\n",
       " 'ct__vectorizer__binary': False,\n",
       " 'ct__vectorizer__decode_error': 'strict',\n",
       " 'ct__vectorizer__dtype': numpy.float64,\n",
       " 'ct__vectorizer__encoding': 'utf-8',\n",
       " 'ct__vectorizer__input': 'content',\n",
       " 'ct__vectorizer__lowercase': True,\n",
       " 'ct__vectorizer__max_df': 1.0,\n",
       " 'ct__vectorizer__max_features': None,\n",
       " 'ct__vectorizer__min_df': 1,\n",
       " 'ct__vectorizer__ngram_range': (1, 1),\n",
       " 'ct__vectorizer__norm': 'l2',\n",
       " 'ct__vectorizer__preprocessor': None,\n",
       " 'ct__vectorizer__smooth_idf': True,\n",
       " 'ct__vectorizer__stop_words': None,\n",
       " 'ct__vectorizer__strip_accents': None,\n",
       " 'ct__vectorizer__sublinear_tf': False,\n",
       " 'ct__vectorizer__token_pattern': '(?u)\\\\b\\\\w\\\\w+\\\\b',\n",
       " 'ct__vectorizer__tokenizer': None,\n",
       " 'ct__vectorizer__use_idf': True,\n",
       " 'ct__vectorizer__vocabulary': None,\n",
       " 'ct__scaler__copy': True,\n",
       " 'ct__scaler__with_mean': True,\n",
       " 'ct__scaler__with_std': True,\n",
       " 'clf__C': 1.0,\n",
       " 'clf__class_weight': None,\n",
       " 'clf__dual': False,\n",
       " 'clf__fit_intercept': True,\n",
       " 'clf__intercept_scaling': 1,\n",
       " 'clf__l1_ratio': None,\n",
       " 'clf__max_iter': 1000,\n",
       " 'clf__multi_class': 'multinomial',\n",
       " 'clf__n_jobs': None,\n",
       " 'clf__penalty': 'l2',\n",
       " 'clf__random_state': None,\n",
       " 'clf__solver': 'lbfgs',\n",
       " 'clf__tol': 0.0001,\n",
       " 'clf__verbose': 0,\n",
       " 'clf__warm_start': False}"
      ]
     },
     "execution_count": 62,
     "metadata": {},
     "output_type": "execute_result"
    }
   ],
   "source": [
    "from sklearn.compose import ColumnTransformer\n",
    "\n",
    "mod_ct_log = ColumnTransformer(\n",
    "    transformers= [\n",
    "\n",
    "        (\n",
    "            'vectorizer',\n",
    "             TfidfVectorizer(lowercase=True),\n",
    "             'clean_text',\n",
    "        ),\n",
    "        (\n",
    "            \"scaler\", # --> name of the transformation\n",
    "            StandardScaler(), # --> main function to apply\n",
    "            [\"text_length\"], #-->columns to apply it to (we can give more than one column at once!)\n",
    "        )\n",
    "    ],\n",
    "    remainder=\"passthrough\", #--> what to do with the non-transformed columns. passthrough=keep them\n",
    "    verbose_feature_names_out=False #--> this keeps columns names simple.\n",
    ")\n",
    "\n",
    "mod_clf_ = Pipeline(\n",
    "        steps =[\n",
    "            ('ct', mod_ct_log),\n",
    "            ('clf', LogisticRegression( multi_class='multinomial', max_iter=1000)),\n",
    "      ]\n",
    "    )\n",
    "\n",
    "mod_clf_.get_params()"
   ]
  },
  {
   "cell_type": "code",
   "execution_count": 63,
   "id": "f6a62b2e-df4c-4060-b07f-84263a40d0cc",
   "metadata": {},
   "outputs": [
    {
     "name": "stdout",
     "output_type": "stream",
     "text": [
      "TF-IDF shape: (7214, 18698)\n"
     ]
    }
   ],
   "source": [
    "# Test TfidfVectorizer alone\n",
    "tfidf = TfidfVectorizer(lowercase=True)\n",
    "tfidf_output = tfidf.fit_transform(df_train_check_without_entity['clean_text'])\n",
    "print(\"TF-IDF shape:\", tfidf_output.shape)  # Should be (5769, vocab_size)\n",
    "\n",
    "# # Test StandardScaler on embeddings\n",
    "# scaler = StandardScaler()\n",
    "# embed_output = scaler.fit_transform(df_train_new[[str(i) for i in range(300)]])\n",
    "# print(\"Embeddings shape:\", embed_output.shape)  # Should be (5769, 300)"
   ]
  },
  {
   "cell_type": "code",
   "execution_count": 64,
   "id": "95635789-e118-490c-8292-b174160327f8",
   "metadata": {},
   "outputs": [
    {
     "name": "stdout",
     "output_type": "stream",
     "text": [
      "Time taken to train gridsearch: 8372.78 seconds.\n",
      "\n",
      "                                precision    recall  f1-score   support\n",
      "\n",
      "environment and animal welfare       0.87      0.88      0.88       144\n",
      "        health and social care       0.79      0.82      0.81       169\n",
      "   economy, labour and welfare       0.86      0.89      0.88       178\n",
      "                     education       0.92      0.90      0.91       366\n",
      "      culture, sport and media       0.88      0.85      0.86       299\n",
      "  uk government and devolution       0.70      1.00      0.82         7\n",
      "                        london       0.87      0.90      0.88       110\n",
      "\n",
      "                      accuracy                           0.87      1273\n",
      "                     macro avg       0.84      0.89      0.86      1273\n",
      "                  weighted avg       0.87      0.87      0.87      1273\n",
      "\n",
      "0.8702526809322926 {'clf__C': 1.0, 'clf__class_weight': 'balanced', 'clf__penalty': 'l2', 'clf__solver': 'saga', 'ct__vectorizer__max_df': 1.0, 'ct__vectorizer__min_df': 2, 'ct__vectorizer__ngram_range': (1, 1)}\n",
      "\n",
      "0.8735271013354281\n"
     ]
    },
    {
     "data": {
      "image/png": "[encoded data removed]",
      "text/plain": [
       "<Figure size 640x480 with 2 Axes>"
      ]
     },
     "metadata": {},
     "output_type": "display_data"
    }
   ],
   "source": [
    "# let's define the parameters to try\n",
    "mod_hparameters = {\n",
    "              'ct__vectorizer__ngram_range': [(1, 1),(1, 2)],\n",
    "              'ct__vectorizer__min_df': [1,2],\n",
    "              'ct__vectorizer__max_df': [0.5,1.0],\n",
    "              'clf__C': [(1.0)],\n",
    "              'clf__class_weight': ('balanced',None),\n",
    "              'clf__penalty': ('l2','l1'),\n",
    "              'clf__solver': ['saga'],\n",
    "             }\n",
    "\n",
    "mod_clf_search = GridSearchCV(mod_clf_, mod_hparameters, scoring= \"accuracy\", cv= 5,error_score='raise')\n",
    "\n",
    "t0 = tt()\n",
    "_ =mod_clf_search.fit(df_train_check_without_entity.drop(columns=['petition_topic']), y_train)\n",
    "print(f'Time taken to train gridsearch: {tt()-t0:.2f} seconds.')\n",
    "print()\n",
    "# Get the best estimator for further analysis of the results using the test set\n",
    "mod_best_clf = mod_clf_search.best_estimator_\n",
    "\n",
    "# Compute predictions and evaluation metrics using the best estimator\n",
    "# original data\n",
    "y_pred = mod_best_clf.predict(df_test_check_without_entity.drop(columns=['petition_topic']))\n",
    "print(classification_report(y_test, y_pred, target_names = petition_categories))\n",
    "\n",
    "cm= ConfusionMatrixDisplay.from_estimator(best_clf, df_test_check_without_entity.drop(columns=['petition_topic']), y_test)\n",
    "\n",
    "print(clf_search.best_score_, clf_search.best_params_)\n",
    "print()\n",
    "print(accuracy_score(y_test,y_pred))"
   ]
  },
  {
   "cell_type": "markdown",
   "id": "ad86114f-b8fc-4471-8184-e74277dbfc82",
   "metadata": {},
   "source": [
    "Above model appears to be the best outcome I have had so far, but the precision for uk_government topic is not meeting the requirement and the model runtime is taking a long time because of the hyperparameters I have provided which does not help. so i will try to minimize the number of hyper parameters used and try to utilize the SGDClassifier in the form of a Logistic Reg model to check next."
   ]
  },
  {
   "cell_type": "markdown",
   "id": "6f487110-5962-44b7-afb8-c2ac204fcfbd",
   "metadata": {},
   "source": [
    "Also, excuse the redoing of the parameters as I had run the outcomes on multiple pynb files to test and I got confused with the parameters so I have redefined them again "
   ]
  },
  {
   "cell_type": "code",
   "execution_count": 65,
   "id": "7bba41c6-4b72-45fb-af26-d86b826223c1",
   "metadata": {},
   "outputs": [
    {
     "data": {
      "text/html": [
       "<div>\n",
       "<style scoped>\n",
       "    .dataframe tbody tr th:only-of-type {\n",
       "        vertical-align: middle;\n",
       "    }\n",
       "\n",
       "    .dataframe tbody tr th {\n",
       "        vertical-align: top;\n",
       "    }\n",
       "\n",
       "    .dataframe thead th {\n",
       "        text-align: right;\n",
       "    }\n",
       "</style>\n",
       "<table border=\"1\" class=\"dataframe\">\n",
       "  <thead>\n",
       "    <tr style=\"text-align: right;\">\n",
       "      <th></th>\n",
       "      <th>petition_ID</th>\n",
       "      <th>has_entity</th>\n",
       "      <th>relevant_department</th>\n",
       "      <th>deviation_across_regions</th>\n",
       "      <th>petition_status</th>\n",
       "      <th>petition_topic</th>\n",
       "      <th>petition_importance</th>\n",
       "      <th>petition_text</th>\n",
       "    </tr>\n",
       "  </thead>\n",
       "  <tbody>\n",
       "    <tr>\n",
       "      <th>0</th>\n",
       "      <td>607158</td>\n",
       "      <td>EVENT:NO_DATE:NO_PERSON:NO_</td>\n",
       "      <td>Department for Education</td>\n",
       "      <td>0.000137</td>\n",
       "      <td>unsuccessful</td>\n",
       "      <td>education</td>\n",
       "      <td>not_important</td>\n",
       "      <td>Ban school uniforms in English schools. I want...</td>\n",
       "    </tr>\n",
       "    <tr>\n",
       "      <th>1</th>\n",
       "      <td>590629</td>\n",
       "      <td>EVENT:NO_DATE:YES_PERSON:NO_</td>\n",
       "      <td>Department of Health and Social Care</td>\n",
       "      <td>0.002133</td>\n",
       "      <td>unsuccessful</td>\n",
       "      <td>uk government and devolution</td>\n",
       "      <td>important</td>\n",
       "      <td>Lock NHS pay rises to increases in pay for MPs...</td>\n",
       "    </tr>\n",
       "    <tr>\n",
       "      <th>2</th>\n",
       "      <td>652724</td>\n",
       "      <td>EVENT:NO_DATE:NO_PERSON:NO_</td>\n",
       "      <td>Department of Health and Social Care</td>\n",
       "      <td>0.000272</td>\n",
       "      <td>unsuccessful</td>\n",
       "      <td>health and social care</td>\n",
       "      <td>important</td>\n",
       "      <td>Require dose counters on SABA metered dose inh...</td>\n",
       "    </tr>\n",
       "    <tr>\n",
       "      <th>3</th>\n",
       "      <td>629281</td>\n",
       "      <td>EVENT:NO_DATE:NO_PERSON:NO_</td>\n",
       "      <td>HM Treasury</td>\n",
       "      <td>0.000083</td>\n",
       "      <td>unsuccessful</td>\n",
       "      <td>economy, labour and welfare</td>\n",
       "      <td>not_important</td>\n",
       "      <td>Remove the 20% VAT on private dementia day car...</td>\n",
       "    </tr>\n",
       "    <tr>\n",
       "      <th>4</th>\n",
       "      <td>301747</td>\n",
       "      <td>EVENT:NO_DATE:NO_PERSON:NO_</td>\n",
       "      <td>NaN</td>\n",
       "      <td>NaN</td>\n",
       "      <td>rejected</td>\n",
       "      <td>culture, sport and media</td>\n",
       "      <td>not_important</td>\n",
       "      <td>Make bank holidays a holiday. Make bank holida...</td>\n",
       "    </tr>\n",
       "  </tbody>\n",
       "</table>\n",
       "</div>"
      ],
      "text/plain": [
       "   petition_ID                    has_entity  \\\n",
       "0       607158   EVENT:NO_DATE:NO_PERSON:NO_   \n",
       "1       590629  EVENT:NO_DATE:YES_PERSON:NO_   \n",
       "2       652724   EVENT:NO_DATE:NO_PERSON:NO_   \n",
       "3       629281   EVENT:NO_DATE:NO_PERSON:NO_   \n",
       "4       301747   EVENT:NO_DATE:NO_PERSON:NO_   \n",
       "\n",
       "                    relevant_department  deviation_across_regions  \\\n",
       "0              Department for Education                  0.000137   \n",
       "1  Department of Health and Social Care                  0.002133   \n",
       "2  Department of Health and Social Care                  0.000272   \n",
       "3                           HM Treasury                  0.000083   \n",
       "4                                   NaN                       NaN   \n",
       "\n",
       "  petition_status                petition_topic petition_importance  \\\n",
       "0    unsuccessful                     education       not_important   \n",
       "1    unsuccessful  uk government and devolution           important   \n",
       "2    unsuccessful        health and social care           important   \n",
       "3    unsuccessful   economy, labour and welfare       not_important   \n",
       "4        rejected      culture, sport and media       not_important   \n",
       "\n",
       "                                       petition_text  \n",
       "0  Ban school uniforms in English schools. I want...  \n",
       "1  Lock NHS pay rises to increases in pay for MPs...  \n",
       "2  Require dose counters on SABA metered dose inh...  \n",
       "3  Remove the 20% VAT on private dementia day car...  \n",
       "4  Make bank holidays a holiday. Make bank holida...  "
      ]
     },
     "execution_count": 65,
     "metadata": {},
     "output_type": "execute_result"
    }
   ],
   "source": [
    "data = pd.read_csv(\"comp1804_coursework_dataset_24-25.csv\")\n",
    "data.head()"
   ]
  },
  {
   "cell_type": "code",
   "execution_count": 66,
   "id": "2bc7c3f5-4b81-49f0-b463-dbf6d6b6fafc",
   "metadata": {},
   "outputs": [
    {
     "name": "stdout",
     "output_type": "stream",
     "text": [
      "There are 378 duplicates rows.\n"
     ]
    }
   ],
   "source": [
    "duplicates_rows = data.duplicated()\n",
    "# The result is True for rows that are a duplicate, False for rows that are not a duplicate\n",
    "\n",
    "print(f'There are {duplicates_rows.sum()} duplicates rows.')\n",
    "\n",
    "# We have no duplicates here,\n",
    "# but if we had them, to remove them we'd only keep the rows that are NOT duplicates\n",
    "data = data[~duplicates_rows]"
   ]
  },
  {
   "cell_type": "code",
   "execution_count": 67,
   "id": "1b682b4a-02df-45ff-b596-14921aca7254",
   "metadata": {},
   "outputs": [
    {
     "name": "stdout",
     "output_type": "stream",
     "text": [
      "Original dataset length: 8520\n"
     ]
    }
   ],
   "source": [
    "print(f'Original dataset length: {len(data)}')"
   ]
  },
  {
   "cell_type": "code",
   "execution_count": 68,
   "id": "4bd07dbb-efb5-495f-b396-8e32a8d330c3",
   "metadata": {},
   "outputs": [],
   "source": [
    "data = data.dropna(subset=[\"petition_topic\",\"petition_text\"])"
   ]
  },
  {
   "cell_type": "code",
   "execution_count": 69,
   "id": "b434b72a-1327-48fa-8e6e-b5d07f4b0bde",
   "metadata": {},
   "outputs": [
    {
     "name": "stdout",
     "output_type": "stream",
     "text": [
      "After droping na, dataset length: 8487\n"
     ]
    }
   ],
   "source": [
    "print(f'After droping na, dataset length: {len(data)}')"
   ]
  },
  {
   "cell_type": "code",
   "execution_count": 70,
   "id": "6dffd67a-afe9-4eb1-b20c-36d7e1b33bc1",
   "metadata": {},
   "outputs": [
    {
     "data": {
      "text/plain": [
       "petition_ID                    0\n",
       "has_entity                     0\n",
       "relevant_department         1789\n",
       "deviation_across_regions    1571\n",
       "petition_status                0\n",
       "petition_topic                 0\n",
       "petition_importance         8467\n",
       "petition_text                  0\n",
       "dtype: int64"
      ]
     },
     "execution_count": 70,
     "metadata": {},
     "output_type": "execute_result"
    }
   ],
   "source": [
    "data.isnull().sum()"
   ]
  },
  {
   "cell_type": "code",
   "execution_count": 71,
   "id": "3288d230-7781-4f93-98cb-b55779438de3",
   "metadata": {},
   "outputs": [],
   "source": [
    "X= data.drop(columns=['petition_topic'])\n",
    "Y= data[\"petition_topic\"]"
   ]
  },
  {
   "cell_type": "code",
   "execution_count": 72,
   "id": "4f60a805-bfe5-4cc5-b6c5-dc08d9316f87",
   "metadata": {},
   "outputs": [],
   "source": [
    "Y = pd.DataFrame(Y)"
   ]
  },
  {
   "cell_type": "code",
   "execution_count": 73,
   "id": "9a9d8910-8954-4f33-a0a7-dd7dfec5b125",
   "metadata": {},
   "outputs": [
    {
     "data": {
      "text/html": [
       "<div>\n",
       "<style scoped>\n",
       "    .dataframe tbody tr th:only-of-type {\n",
       "        vertical-align: middle;\n",
       "    }\n",
       "\n",
       "    .dataframe tbody tr th {\n",
       "        vertical-align: top;\n",
       "    }\n",
       "\n",
       "    .dataframe thead th {\n",
       "        text-align: right;\n",
       "    }\n",
       "</style>\n",
       "<table border=\"1\" class=\"dataframe\">\n",
       "  <thead>\n",
       "    <tr style=\"text-align: right;\">\n",
       "      <th></th>\n",
       "      <th>petition_ID</th>\n",
       "      <th>has_entity</th>\n",
       "      <th>relevant_department</th>\n",
       "      <th>deviation_across_regions</th>\n",
       "      <th>petition_status</th>\n",
       "      <th>petition_importance</th>\n",
       "      <th>petition_text</th>\n",
       "    </tr>\n",
       "  </thead>\n",
       "  <tbody>\n",
       "    <tr>\n",
       "      <th>0</th>\n",
       "      <td>607158</td>\n",
       "      <td>EVENT:NO_DATE:NO_PERSON:NO_</td>\n",
       "      <td>Department for Education</td>\n",
       "      <td>0.000137</td>\n",
       "      <td>unsuccessful</td>\n",
       "      <td>not_important</td>\n",
       "      <td>Ban school uniforms in English schools. I want...</td>\n",
       "    </tr>\n",
       "    <tr>\n",
       "      <th>1</th>\n",
       "      <td>590629</td>\n",
       "      <td>EVENT:NO_DATE:YES_PERSON:NO_</td>\n",
       "      <td>Department of Health and Social Care</td>\n",
       "      <td>0.002133</td>\n",
       "      <td>unsuccessful</td>\n",
       "      <td>important</td>\n",
       "      <td>Lock NHS pay rises to increases in pay for MPs...</td>\n",
       "    </tr>\n",
       "    <tr>\n",
       "      <th>2</th>\n",
       "      <td>652724</td>\n",
       "      <td>EVENT:NO_DATE:NO_PERSON:NO_</td>\n",
       "      <td>Department of Health and Social Care</td>\n",
       "      <td>0.000272</td>\n",
       "      <td>unsuccessful</td>\n",
       "      <td>important</td>\n",
       "      <td>Require dose counters on SABA metered dose inh...</td>\n",
       "    </tr>\n",
       "    <tr>\n",
       "      <th>3</th>\n",
       "      <td>629281</td>\n",
       "      <td>EVENT:NO_DATE:NO_PERSON:NO_</td>\n",
       "      <td>HM Treasury</td>\n",
       "      <td>0.000083</td>\n",
       "      <td>unsuccessful</td>\n",
       "      <td>not_important</td>\n",
       "      <td>Remove the 20% VAT on private dementia day car...</td>\n",
       "    </tr>\n",
       "    <tr>\n",
       "      <th>4</th>\n",
       "      <td>301747</td>\n",
       "      <td>EVENT:NO_DATE:NO_PERSON:NO_</td>\n",
       "      <td>NaN</td>\n",
       "      <td>NaN</td>\n",
       "      <td>rejected</td>\n",
       "      <td>not_important</td>\n",
       "      <td>Make bank holidays a holiday. Make bank holida...</td>\n",
       "    </tr>\n",
       "  </tbody>\n",
       "</table>\n",
       "</div>"
      ],
      "text/plain": [
       "   petition_ID                    has_entity  \\\n",
       "0       607158   EVENT:NO_DATE:NO_PERSON:NO_   \n",
       "1       590629  EVENT:NO_DATE:YES_PERSON:NO_   \n",
       "2       652724   EVENT:NO_DATE:NO_PERSON:NO_   \n",
       "3       629281   EVENT:NO_DATE:NO_PERSON:NO_   \n",
       "4       301747   EVENT:NO_DATE:NO_PERSON:NO_   \n",
       "\n",
       "                    relevant_department  deviation_across_regions  \\\n",
       "0              Department for Education                  0.000137   \n",
       "1  Department of Health and Social Care                  0.002133   \n",
       "2  Department of Health and Social Care                  0.000272   \n",
       "3                           HM Treasury                  0.000083   \n",
       "4                                   NaN                       NaN   \n",
       "\n",
       "  petition_status petition_importance  \\\n",
       "0    unsuccessful       not_important   \n",
       "1    unsuccessful           important   \n",
       "2    unsuccessful           important   \n",
       "3    unsuccessful       not_important   \n",
       "4        rejected       not_important   \n",
       "\n",
       "                                       petition_text  \n",
       "0  Ban school uniforms in English schools. I want...  \n",
       "1  Lock NHS pay rises to increases in pay for MPs...  \n",
       "2  Require dose counters on SABA metered dose inh...  \n",
       "3  Remove the 20% VAT on private dementia day car...  \n",
       "4  Make bank holidays a holiday. Make bank holida...  "
      ]
     },
     "execution_count": 73,
     "metadata": {},
     "output_type": "execute_result"
    }
   ],
   "source": [
    "X.head()"
   ]
  },
  {
   "cell_type": "code",
   "execution_count": 74,
   "id": "8b9c87b6-5720-45cc-90b6-7fbf6e40ffae",
   "metadata": {},
   "outputs": [
    {
     "data": {
      "text/html": [
       "<div>\n",
       "<style scoped>\n",
       "    .dataframe tbody tr th:only-of-type {\n",
       "        vertical-align: middle;\n",
       "    }\n",
       "\n",
       "    .dataframe tbody tr th {\n",
       "        vertical-align: top;\n",
       "    }\n",
       "\n",
       "    .dataframe thead th {\n",
       "        text-align: right;\n",
       "    }\n",
       "</style>\n",
       "<table border=\"1\" class=\"dataframe\">\n",
       "  <thead>\n",
       "    <tr style=\"text-align: right;\">\n",
       "      <th></th>\n",
       "      <th>petition_topic</th>\n",
       "    </tr>\n",
       "  </thead>\n",
       "  <tbody>\n",
       "  </tbody>\n",
       "</table>\n",
       "</div>"
      ],
      "text/plain": [
       "Empty DataFrame\n",
       "Columns: [petition_topic]\n",
       "Index: []"
      ]
     },
     "execution_count": 74,
     "metadata": {},
     "output_type": "execute_result"
    }
   ],
   "source": [
    "Y[Y['petition_topic'] == True]"
   ]
  },
  {
   "cell_type": "code",
   "execution_count": 75,
   "id": "9153c99c-a86a-4655-b3fd-1a89e3dd91b7",
   "metadata": {},
   "outputs": [],
   "source": [
    "Y.loc[Y.petition_topic=='Health And Social Care','petition_topic'] = 'health and social care'\n",
    "\n",
    "Y.loc[Y.petition_topic=='Environment And Animal Welfare','petition_topic'] = 'environment and animal welfare'\n",
    "\n",
    "Y.loc[Y.petition_topic=='Economy, Labour And Welfare','petition_topic'] = 'economy, labour and welfare'\n",
    "\n",
    "Y.loc[Y.petition_topic=='Education','petition_topic'] = 'education'\n",
    "\n",
    "Y.loc[Y.petition_topic=='Culture, Sport And Media','petition_topic'] = 'culture, sport and media'\n",
    "\n",
    "Y.loc[Y.petition_topic=='Uk Government And Devolution','petition_topic'] = 'uk government and devolution'\n",
    "\n",
    "Y.loc[Y.petition_topic=='London','petition_topic'] = 'london'"
   ]
  },
  {
   "cell_type": "code",
   "execution_count": 76,
   "id": "a416f9bf-8b52-4afc-8edb-9edce540a75c",
   "metadata": {},
   "outputs": [
    {
     "data": {
      "text/plain": [
       "petition_topic\n",
       "environment and animal welfare    2297\n",
       "health and social care            2046\n",
       "economy, labour and welfare       1190\n",
       "education                         1158\n",
       "culture, sport and media          1016\n",
       "uk government and devolution       720\n",
       "london                              60\n",
       "Name: count, dtype: int64"
      ]
     },
     "execution_count": 76,
     "metadata": {},
     "output_type": "execute_result"
    }
   ],
   "source": [
    "Y.petition_topic.value_counts()"
   ]
  },
  {
   "cell_type": "code",
   "execution_count": 77,
   "id": "fc40ba93-2207-4d81-8740-eef1505f3159",
   "metadata": {},
   "outputs": [],
   "source": [
    "x_train,x_test,y_train, y_test = train_test_split(X, Y, test_size= 0.2, stratify = Y, shuffle=True)"
   ]
  },
  {
   "cell_type": "code",
   "execution_count": 78,
   "id": "75662961-998b-4091-9ec8-7487bfe6e6c7",
   "metadata": {},
   "outputs": [
    {
     "data": {
      "text/plain": [
       "(6789, 7)"
      ]
     },
     "execution_count": 78,
     "metadata": {},
     "output_type": "execute_result"
    }
   ],
   "source": [
    "x_train.shape"
   ]
  },
  {
   "cell_type": "code",
   "execution_count": 79,
   "id": "0e09fd7b-439e-41a3-b524-51f68b32865f",
   "metadata": {},
   "outputs": [
    {
     "data": {
      "text/plain": [
       "(1698, 7)"
      ]
     },
     "execution_count": 79,
     "metadata": {},
     "output_type": "execute_result"
    }
   ],
   "source": [
    "x_test.shape"
   ]
  },
  {
   "cell_type": "code",
   "execution_count": 80,
   "id": "41dc5704-e3d9-46d2-a725-02cc47e538c0",
   "metadata": {},
   "outputs": [
    {
     "data": {
      "text/plain": [
       "(6789, 1)"
      ]
     },
     "execution_count": 80,
     "metadata": {},
     "output_type": "execute_result"
    }
   ],
   "source": [
    "y_train.shape"
   ]
  },
  {
   "cell_type": "code",
   "execution_count": 82,
   "id": "f653cadb-81f0-441f-9dfe-d159527f7127",
   "metadata": {},
   "outputs": [
    {
     "data": {
      "text/plain": [
       "(1698, 1)"
      ]
     },
     "execution_count": 82,
     "metadata": {},
     "output_type": "execute_result"
    }
   ],
   "source": [
    "y_test.shape"
   ]
  },
  {
   "cell_type": "code",
   "execution_count": 83,
   "id": "871e9f90-b71a-4d4a-97f0-cfaeb09ed903",
   "metadata": {},
   "outputs": [
    {
     "name": "stdout",
     "output_type": "stream",
     "text": [
      "<class 'pandas.core.frame.DataFrame'>\n",
      "Index: 6789 entries, 1490 to 7566\n",
      "Data columns (total 7 columns):\n",
      " #   Column                    Non-Null Count  Dtype  \n",
      "---  ------                    --------------  -----  \n",
      " 0   petition_ID               6789 non-null   int64  \n",
      " 1   has_entity                6789 non-null   object \n",
      " 2   relevant_department       5340 non-null   object \n",
      " 3   deviation_across_regions  5517 non-null   float64\n",
      " 4   petition_status           6789 non-null   object \n",
      " 5   petition_importance       14 non-null     object \n",
      " 6   petition_text             6789 non-null   object \n",
      "dtypes: float64(1), int64(1), object(5)\n",
      "memory usage: 424.3+ KB\n"
     ]
    }
   ],
   "source": [
    "x_train.info()"
   ]
  },
  {
   "cell_type": "code",
   "execution_count": 85,
   "id": "e4c4ddcc-475b-43d4-b7df-da31249c28ea",
   "metadata": {},
   "outputs": [
    {
     "name": "stdout",
     "output_type": "stream",
     "text": [
      "<class 'pandas.core.frame.DataFrame'>\n",
      "Index: 1698 entries, 3872 to 1592\n",
      "Data columns (total 7 columns):\n",
      " #   Column                    Non-Null Count  Dtype  \n",
      "---  ------                    --------------  -----  \n",
      " 0   petition_ID               1698 non-null   int64  \n",
      " 1   has_entity                1698 non-null   object \n",
      " 2   relevant_department       1358 non-null   object \n",
      " 3   deviation_across_regions  1399 non-null   float64\n",
      " 4   petition_status           1698 non-null   object \n",
      " 5   petition_importance       6 non-null      object \n",
      " 6   petition_text             1698 non-null   object \n",
      "dtypes: float64(1), int64(1), object(5)\n",
      "memory usage: 106.1+ KB\n"
     ]
    }
   ],
   "source": [
    "x_test.info()"
   ]
  },
  {
   "cell_type": "code",
   "execution_count": 86,
   "id": "bd6a2de0-8e70-41be-aafd-8b2ee0362329",
   "metadata": {},
   "outputs": [
    {
     "data": {
      "text/plain": [
       "petition_ID                    0\n",
       "has_entity                     0\n",
       "relevant_department         1449\n",
       "deviation_across_regions    1272\n",
       "petition_status                0\n",
       "petition_importance         6775\n",
       "petition_text                  0\n",
       "dtype: int64"
      ]
     },
     "execution_count": 86,
     "metadata": {},
     "output_type": "execute_result"
    }
   ],
   "source": [
    "x_train.isna().sum()"
   ]
  },
  {
   "cell_type": "code",
   "execution_count": 87,
   "id": "eaf0e8af-51c3-453a-a5ad-d977633cee84",
   "metadata": {},
   "outputs": [],
   "source": [
    "x_train = x_train.drop(columns=[\"petition_ID\",\"relevant_department\",\"deviation_across_regions\",\"petition_importance\",\"petition_status\"])\n",
    "x_test= x_test.drop(columns=[\"petition_ID\",\"relevant_department\",\"deviation_across_regions\",\"petition_importance\",\"petition_status\"])"
   ]
  },
  {
   "cell_type": "code",
   "execution_count": 88,
   "id": "9d7930e6-eb38-45d7-b5ca-fe6607e13554",
   "metadata": {},
   "outputs": [
    {
     "name": "stdout",
     "output_type": "stream",
     "text": [
      "How many texts have the newline character \"\\n\"?\n",
      "train:  2614\n",
      "test:  624\n"
     ]
    }
   ],
   "source": [
    "print('How many texts have the newline character \"\\\\n\"?')\n",
    "\n",
    "print(\"train: \", x_train['petition_text'].str.contains(\"\\n\").sum())\n",
    "print(\"test: \",x_test['petition_text'].str.contains(\"\\n\").sum())"
   ]
  },
  {
   "cell_type": "code",
   "execution_count": 89,
   "id": "304d978f-623a-4f41-8697-fca987fa1c5f",
   "metadata": {},
   "outputs": [],
   "source": [
    "from cleantext import clean\n",
    "\n",
    "def clean_text(x):\n",
    "  \"\"\" Define standard cleaning procedure \"\"\"\n",
    "  return clean(x,\n",
    "    fix_unicode=True,               # fix various unicode errors\n",
    "    lower=True,                     # change all text to lowercase\n",
    "    no_line_breaks=True,           # this removes occurrences of the newline character \"\\n\"\n",
    "    no_punct=False,                 # let's NOT remove punctuations for the time being\n",
    "    no_urls=True,                  # replace all URLs with a special token (below)\n",
    "    replace_with_url=\"\",          # we decide to replace urls with nothing\n",
    "    no_emails=True,                # replace all email addresses with a special token\n",
    "    replace_with_email=\"\",        # we decide to replace emails with nothing\n",
    "    no_phone_numbers=True,         # replace all phone numbers with a special token\n",
    "    replace_with_phone_number=\"\",   # we decide to replace phone numbers with nothing\n",
    "    lang=\"en\"                       # set to 'de' for German special handling\n",
    "    )\n"
   ]
  },
  {
   "cell_type": "code",
   "execution_count": 90,
   "id": "c58ed015-b2fa-4cd8-87e2-6eec46a0490c",
   "metadata": {},
   "outputs": [],
   "source": [
    "x_train['clean_text']= x_train['petition_text'].apply(clean_text)\n",
    "x_test['clean_text']= x_test['petition_text'].apply(clean_text)"
   ]
  },
  {
   "cell_type": "code",
   "execution_count": 91,
   "id": "139a375e-71c4-4736-8a98-047150257a8c",
   "metadata": {},
   "outputs": [],
   "source": [
    "x_train['text_length'] = x_train['clean_text'].apply(len)\n",
    "x_test['text_length'] = x_test['clean_text'].apply(len)"
   ]
  },
  {
   "cell_type": "code",
   "execution_count": 92,
   "id": "df4e4024-7d7d-45e0-aa90-2d7a952ccdad",
   "metadata": {},
   "outputs": [
    {
     "data": {
      "text/html": [
       "<div>\n",
       "<style scoped>\n",
       "    .dataframe tbody tr th:only-of-type {\n",
       "        vertical-align: middle;\n",
       "    }\n",
       "\n",
       "    .dataframe tbody tr th {\n",
       "        vertical-align: top;\n",
       "    }\n",
       "\n",
       "    .dataframe thead th {\n",
       "        text-align: right;\n",
       "    }\n",
       "</style>\n",
       "<table border=\"1\" class=\"dataframe\">\n",
       "  <thead>\n",
       "    <tr style=\"text-align: right;\">\n",
       "      <th></th>\n",
       "      <th>has_entity</th>\n",
       "      <th>petition_text</th>\n",
       "      <th>clean_text</th>\n",
       "      <th>text_length</th>\n",
       "    </tr>\n",
       "  </thead>\n",
       "  <tbody>\n",
       "    <tr>\n",
       "      <th>1490</th>\n",
       "      <td>EVENT:NO_DATE:NO_PERSON:NO_</td>\n",
       "      <td>Prohibit latex gloves. To ban the use latex gl...</td>\n",
       "      <td>prohibit latex gloves. to ban the use latex gl...</td>\n",
       "      <td>791</td>\n",
       "    </tr>\n",
       "    <tr>\n",
       "      <th>8309</th>\n",
       "      <td>EVENT:NO_DATE:YES_PERSON:NO_</td>\n",
       "      <td>Require supermarkets to sell fuel at cost pric...</td>\n",
       "      <td>require supermarkets to sell fuel at cost pric...</td>\n",
       "      <td>399</td>\n",
       "    </tr>\n",
       "    <tr>\n",
       "      <th>6328</th>\n",
       "      <td>EVENT:NO_DATE:NO_PERSON:NO_</td>\n",
       "      <td>Ensure the income threshold for Pension Credit...</td>\n",
       "      <td>ensure the income threshold for pension credit...</td>\n",
       "      <td>776</td>\n",
       "    </tr>\n",
       "    <tr>\n",
       "      <th>5297</th>\n",
       "      <td>EVENT:NO_DATE:NO_PERSON:NO_</td>\n",
       "      <td>Exempt urban businesses from dog day care spac...</td>\n",
       "      <td>exempt urban businesses from dog day care spac...</td>\n",
       "      <td>883</td>\n",
       "    </tr>\n",
       "    <tr>\n",
       "      <th>7004</th>\n",
       "      <td>EVENT:NO_DATE:NO_PERSON:NO_</td>\n",
       "      <td>Remove VAT and other taxes off all baby and ch...</td>\n",
       "      <td>remove vat and other taxes off all baby and ch...</td>\n",
       "      <td>498</td>\n",
       "    </tr>\n",
       "  </tbody>\n",
       "</table>\n",
       "</div>"
      ],
      "text/plain": [
       "                        has_entity  \\\n",
       "1490   EVENT:NO_DATE:NO_PERSON:NO_   \n",
       "8309  EVENT:NO_DATE:YES_PERSON:NO_   \n",
       "6328   EVENT:NO_DATE:NO_PERSON:NO_   \n",
       "5297   EVENT:NO_DATE:NO_PERSON:NO_   \n",
       "7004   EVENT:NO_DATE:NO_PERSON:NO_   \n",
       "\n",
       "                                          petition_text  \\\n",
       "1490  Prohibit latex gloves. To ban the use latex gl...   \n",
       "8309  Require supermarkets to sell fuel at cost pric...   \n",
       "6328  Ensure the income threshold for Pension Credit...   \n",
       "5297  Exempt urban businesses from dog day care spac...   \n",
       "7004  Remove VAT and other taxes off all baby and ch...   \n",
       "\n",
       "                                             clean_text  text_length  \n",
       "1490  prohibit latex gloves. to ban the use latex gl...          791  \n",
       "8309  require supermarkets to sell fuel at cost pric...          399  \n",
       "6328  ensure the income threshold for pension credit...          776  \n",
       "5297  exempt urban businesses from dog day care spac...          883  \n",
       "7004  remove vat and other taxes off all baby and ch...          498  "
      ]
     },
     "execution_count": 92,
     "metadata": {},
     "output_type": "execute_result"
    }
   ],
   "source": [
    "x_train.head()"
   ]
  },
  {
   "cell_type": "code",
   "execution_count": 93,
   "id": "e141a467-007b-4e8a-9a1c-22f4803a6e67",
   "metadata": {},
   "outputs": [
    {
     "data": {
      "text/html": [
       "<div>\n",
       "<style scoped>\n",
       "    .dataframe tbody tr th:only-of-type {\n",
       "        vertical-align: middle;\n",
       "    }\n",
       "\n",
       "    .dataframe tbody tr th {\n",
       "        vertical-align: top;\n",
       "    }\n",
       "\n",
       "    .dataframe thead th {\n",
       "        text-align: right;\n",
       "    }\n",
       "</style>\n",
       "<table border=\"1\" class=\"dataframe\">\n",
       "  <thead>\n",
       "    <tr style=\"text-align: right;\">\n",
       "      <th></th>\n",
       "      <th>has_entity</th>\n",
       "      <th>petition_text</th>\n",
       "      <th>clean_text</th>\n",
       "      <th>text_length</th>\n",
       "    </tr>\n",
       "  </thead>\n",
       "  <tbody>\n",
       "    <tr>\n",
       "      <th>3872</th>\n",
       "      <td>EVENT:NO_DATE:NO_PERSON:NO_</td>\n",
       "      <td>Protect the clinically vulnerable, including d...</td>\n",
       "      <td>protect the clinically vulnerable, including d...</td>\n",
       "      <td>757</td>\n",
       "    </tr>\n",
       "    <tr>\n",
       "      <th>8445</th>\n",
       "      <td>EVENT:NO_DATE:NO_PERSON:NO_</td>\n",
       "      <td>Self employed worker's ask for bailout to surv...</td>\n",
       "      <td>self employed worker's ask for bailout to surv...</td>\n",
       "      <td>645</td>\n",
       "    </tr>\n",
       "    <tr>\n",
       "      <th>5000</th>\n",
       "      <td>EVENT:NO_DATE:NO_PERSON:YES_</td>\n",
       "      <td>Allow overnight fishing during lockdown.. Allo...</td>\n",
       "      <td>allow overnight fishing during lockdown.. allo...</td>\n",
       "      <td>643</td>\n",
       "    </tr>\n",
       "    <tr>\n",
       "      <th>6900</th>\n",
       "      <td>EVENT:NO_DATE:YES_PERSON:NO_</td>\n",
       "      <td>Habitat Protection - Public inquiry and reform...</td>\n",
       "      <td>habitat protection - public inquiry and reform...</td>\n",
       "      <td>742</td>\n",
       "    </tr>\n",
       "    <tr>\n",
       "      <th>696</th>\n",
       "      <td>EVENT:NO_DATE:YES_PERSON:NO_</td>\n",
       "      <td>Stop all gambling adverts on television and ra...</td>\n",
       "      <td>stop all gambling adverts on television and ra...</td>\n",
       "      <td>561</td>\n",
       "    </tr>\n",
       "  </tbody>\n",
       "</table>\n",
       "</div>"
      ],
      "text/plain": [
       "                        has_entity  \\\n",
       "3872   EVENT:NO_DATE:NO_PERSON:NO_   \n",
       "8445   EVENT:NO_DATE:NO_PERSON:NO_   \n",
       "5000  EVENT:NO_DATE:NO_PERSON:YES_   \n",
       "6900  EVENT:NO_DATE:YES_PERSON:NO_   \n",
       "696   EVENT:NO_DATE:YES_PERSON:NO_   \n",
       "\n",
       "                                          petition_text  \\\n",
       "3872  Protect the clinically vulnerable, including d...   \n",
       "8445  Self employed worker's ask for bailout to surv...   \n",
       "5000  Allow overnight fishing during lockdown.. Allo...   \n",
       "6900  Habitat Protection - Public inquiry and reform...   \n",
       "696   Stop all gambling adverts on television and ra...   \n",
       "\n",
       "                                             clean_text  text_length  \n",
       "3872  protect the clinically vulnerable, including d...          757  \n",
       "8445  self employed worker's ask for bailout to surv...          645  \n",
       "5000  allow overnight fishing during lockdown.. allo...          643  \n",
       "6900  habitat protection - public inquiry and reform...          742  \n",
       "696   stop all gambling adverts on television and ra...          561  "
      ]
     },
     "execution_count": 93,
     "metadata": {},
     "output_type": "execute_result"
    }
   ],
   "source": [
    "x_test.head()"
   ]
  },
  {
   "cell_type": "code",
   "execution_count": 94,
   "id": "9b47ef0a-1c27-44fa-a6dc-d4ad15c5f5e1",
   "metadata": {},
   "outputs": [],
   "source": [
    "import string\n",
    "EXTRA_PUNCT = string.punctuation\n",
    "\n",
    "# import Spacy\n",
    "import spacy\n",
    "# create the Spacy pipeline\n",
    "nlp = spacy.load('en_core_web_sm')\n",
    "\n",
    "def preprocess_text_with_spacy(text_):\n",
    "  \"\"\"\n",
    "  This function takes a Spacy doc and returns the list of its lemmas,\n",
    "  after removing stop words and punctuations\n",
    "  \"\"\"\n",
    "  # process document with Spacy\n",
    "  # Note that if we were to first run all the documents through Spacy\n",
    "  # (remember the nlp.pipe()) it would be faster because Spacy processes\n",
    "  # multiple documents in parallel. However we'd have to create an intermediate\n",
    "  # variable or column where to store all the Spacy objects, then process them\n",
    "  # one by one and add the results to our dataframe.\n",
    "  doc_ = nlp(text_)\n",
    "  # here we take the lemmas, and now we also want to but only keep those that are NOT stop words, only digits, or punctuation.\n",
    "  lemmas_ = [token.lemma_ for token in doc_ if not (token.is_stop or token.is_punct or token.is_digit)]\n",
    "  # remember when I said punctuation is tricky?\n",
    "  # Spacy misses some characters that we want to remove that can also be considered punctuation (= and +)\n",
    "  # Here is where we remove them\n",
    "  return [lemma for lemma in lemmas_ if lemma not in EXTRA_PUNCT]"
   ]
  },
  {
   "cell_type": "code",
   "execution_count": 95,
   "id": "4a814e95-4426-4ecf-8e5b-23152cb0b1da",
   "metadata": {},
   "outputs": [
    {
     "name": "stdout",
     "output_type": "stream",
     "text": [
      "Time elapsed is 179.37 seconds\n"
     ]
    }
   ],
   "source": [
    "from time import time as tt\n",
    "t0 = tt()\n",
    "x_train['tokenized_text'] = x_train['clean_text'].apply(preprocess_text_with_spacy)\n",
    "print(f'Time elapsed is {(tt()-t0):.2f} seconds')"
   ]
  },
  {
   "cell_type": "code",
   "execution_count": 96,
   "id": "cc270672-f68f-4c62-9dad-d93363ed4796",
   "metadata": {},
   "outputs": [
    {
     "name": "stdout",
     "output_type": "stream",
     "text": [
      "Time elapsed is 38.90 seconds\n"
     ]
    }
   ],
   "source": [
    "# tokenize test data (start from the cleaned text!)\n",
    "t0 = tt()\n",
    "x_test['tokenized_text'] = x_test['clean_text'].apply(preprocess_text_with_spacy)\n",
    "print(f'Time elapsed is {(tt()-t0):.2f} seconds')\n"
   ]
  },
  {
   "cell_type": "code",
   "execution_count": 98,
   "id": "191b11f8-7f19-4195-813d-52a73a14aa72",
   "metadata": {},
   "outputs": [
    {
     "name": "stdout",
     "output_type": "stream",
     "text": [
      "1490    4\n",
      "8309    3\n",
      "6328    1\n",
      "5297    3\n",
      "7004    1\n",
      "       ..\n",
      "7781    1\n",
      "5682    4\n",
      "8335    3\n",
      "8390    0\n",
      "7566    2\n",
      "Name: petition_topic, Length: 6789, dtype: int32\n",
      "\n",
      "3872    4\n",
      "8445    1\n",
      "5000    3\n",
      "6900    3\n",
      "696     0\n",
      "       ..\n",
      "4268    0\n",
      "7898    3\n",
      "2887    3\n",
      "8053    1\n",
      "1592    4\n",
      "Name: petition_topic, Length: 1698, dtype: int32\n"
     ]
    }
   ],
   "source": [
    "from sklearn.preprocessing import LabelEncoder\n",
    "\n",
    "lblEncoder_X = LabelEncoder()\n",
    "\n",
    "lblEncoder_X = lblEncoder_X.fit(y_train['petition_topic']) # we can fit and transform all at once\n",
    "y_train['petition_topic'] = lblEncoder_X.transform(y_train['petition_topic'])\n",
    "\n",
    "print(y_train['petition_topic'])\n",
    "print()\n",
    "lblEncoder_Y = LabelEncoder()\n",
    "\n",
    "lblEncoder_Y = lblEncoder_Y.fit(y_test['petition_topic']) # we can fit and transform all at once\n",
    "y_test['petition_topic'] = lblEncoder_Y.transform(y_test['petition_topic'])\n",
    "\n",
    "print(y_test['petition_topic'])\n"
   ]
  },
  {
   "cell_type": "code",
   "execution_count": 99,
   "id": "623ae9e6-57f2-4068-84fb-c69b6c5f7379",
   "metadata": {},
   "outputs": [
    {
     "data": {
      "text/html": [
       "<div>\n",
       "<style scoped>\n",
       "    .dataframe tbody tr th:only-of-type {\n",
       "        vertical-align: middle;\n",
       "    }\n",
       "\n",
       "    .dataframe tbody tr th {\n",
       "        vertical-align: top;\n",
       "    }\n",
       "\n",
       "    .dataframe thead th {\n",
       "        text-align: right;\n",
       "    }\n",
       "</style>\n",
       "<table border=\"1\" class=\"dataframe\">\n",
       "  <thead>\n",
       "    <tr style=\"text-align: right;\">\n",
       "      <th></th>\n",
       "      <th>has_entity</th>\n",
       "      <th>petition_text</th>\n",
       "      <th>clean_text</th>\n",
       "      <th>text_length</th>\n",
       "      <th>tokenized_text</th>\n",
       "    </tr>\n",
       "  </thead>\n",
       "  <tbody>\n",
       "    <tr>\n",
       "      <th>1490</th>\n",
       "      <td>EVENT:NO_DATE:NO_PERSON:NO_</td>\n",
       "      <td>Prohibit latex gloves. To ban the use latex gl...</td>\n",
       "      <td>prohibit latex gloves. to ban the use latex gl...</td>\n",
       "      <td>791</td>\n",
       "      <td>[prohibit, latex, glove, ban, use, latex, glov...</td>\n",
       "    </tr>\n",
       "    <tr>\n",
       "      <th>8309</th>\n",
       "      <td>EVENT:NO_DATE:YES_PERSON:NO_</td>\n",
       "      <td>Require supermarkets to sell fuel at cost pric...</td>\n",
       "      <td>require supermarkets to sell fuel at cost pric...</td>\n",
       "      <td>399</td>\n",
       "      <td>[require, supermarket, sell, fuel, cost, price...</td>\n",
       "    </tr>\n",
       "    <tr>\n",
       "      <th>6328</th>\n",
       "      <td>EVENT:NO_DATE:NO_PERSON:NO_</td>\n",
       "      <td>Ensure the income threshold for Pension Credit...</td>\n",
       "      <td>ensure the income threshold for pension credit...</td>\n",
       "      <td>776</td>\n",
       "      <td>[ensure, income, threshold, pension, credit, h...</td>\n",
       "    </tr>\n",
       "    <tr>\n",
       "      <th>5297</th>\n",
       "      <td>EVENT:NO_DATE:NO_PERSON:NO_</td>\n",
       "      <td>Exempt urban businesses from dog day care spac...</td>\n",
       "      <td>exempt urban businesses from dog day care spac...</td>\n",
       "      <td>883</td>\n",
       "      <td>[exempt, urban, business, dog, day, care, spac...</td>\n",
       "    </tr>\n",
       "    <tr>\n",
       "      <th>7004</th>\n",
       "      <td>EVENT:NO_DATE:NO_PERSON:NO_</td>\n",
       "      <td>Remove VAT and other taxes off all baby and ch...</td>\n",
       "      <td>remove vat and other taxes off all baby and ch...</td>\n",
       "      <td>498</td>\n",
       "      <td>[remove, vat, taxis, baby, child, safety, prod...</td>\n",
       "    </tr>\n",
       "  </tbody>\n",
       "</table>\n",
       "</div>"
      ],
      "text/plain": [
       "                        has_entity  \\\n",
       "1490   EVENT:NO_DATE:NO_PERSON:NO_   \n",
       "8309  EVENT:NO_DATE:YES_PERSON:NO_   \n",
       "6328   EVENT:NO_DATE:NO_PERSON:NO_   \n",
       "5297   EVENT:NO_DATE:NO_PERSON:NO_   \n",
       "7004   EVENT:NO_DATE:NO_PERSON:NO_   \n",
       "\n",
       "                                          petition_text  \\\n",
       "1490  Prohibit latex gloves. To ban the use latex gl...   \n",
       "8309  Require supermarkets to sell fuel at cost pric...   \n",
       "6328  Ensure the income threshold for Pension Credit...   \n",
       "5297  Exempt urban businesses from dog day care spac...   \n",
       "7004  Remove VAT and other taxes off all baby and ch...   \n",
       "\n",
       "                                             clean_text  text_length  \\\n",
       "1490  prohibit latex gloves. to ban the use latex gl...          791   \n",
       "8309  require supermarkets to sell fuel at cost pric...          399   \n",
       "6328  ensure the income threshold for pension credit...          776   \n",
       "5297  exempt urban businesses from dog day care spac...          883   \n",
       "7004  remove vat and other taxes off all baby and ch...          498   \n",
       "\n",
       "                                         tokenized_text  \n",
       "1490  [prohibit, latex, glove, ban, use, latex, glov...  \n",
       "8309  [require, supermarket, sell, fuel, cost, price...  \n",
       "6328  [ensure, income, threshold, pension, credit, h...  \n",
       "5297  [exempt, urban, business, dog, day, care, spac...  \n",
       "7004  [remove, vat, taxis, baby, child, safety, prod...  "
      ]
     },
     "execution_count": 99,
     "metadata": {},
     "output_type": "execute_result"
    }
   ],
   "source": [
    "x_train.head()"
   ]
  },
  {
   "cell_type": "code",
   "execution_count": 102,
   "id": "59e7f953-b358-4c4b-a9e6-f1974fa86c22",
   "metadata": {},
   "outputs": [],
   "source": [
    "x_train=x_train.drop(columns=[\"has_entity\"])\n",
    "x_test=x_test.drop(columns=[\"has_entity\"])"
   ]
  },
  {
   "cell_type": "code",
   "execution_count": 103,
   "id": "9f61ae13-6e70-49b7-8c7c-4f6d80fa45d0",
   "metadata": {},
   "outputs": [],
   "source": [
    "import warnings\n",
    "warnings.simplefilter(\"ignore\")\n",
    "\n",
    "petition_categories = [\"environment and animal welfare\",\"health and social care\",\"economy, labour and welfare\",\"education\",\"culture, sport and media\",\"uk government and devolution\",\"london\"]"
   ]
  },
  {
   "cell_type": "code",
   "execution_count": 104,
   "id": "0fbc1574-4565-47c2-92e3-f405fc36800c",
   "metadata": {},
   "outputs": [],
   "source": [
    "# create custom class to add to the pipeline\n",
    "from sklearn.base import TransformerMixin\n",
    "class DenseTransformer(TransformerMixin):\n",
    "    ''' Pipeline step to transform a sparse matrix into a dense one '''\n",
    "    def fit(self, X, y=None, **fit_params):\n",
    "        return self\n",
    "\n",
    "    def transform(self, X, y=None, **fit_params):\n",
    "        return X.toarray()\n",
    "    "
   ]
  },
  {
   "cell_type": "code",
   "execution_count": 119,
   "id": "962947fe-6489-4e07-86c9-84b5b16e2d59",
   "metadata": {},
   "outputs": [
    {
     "data": {
      "text/plain": [
       "{'memory': None,\n",
       " 'steps': [('vectorizer', TfidfVectorizer(lowercase=False,\n",
       "                   preprocessor=<function <lambda> at 0x0000027055629940>,\n",
       "                   tokenizer=<function <lambda> at 0x000002705562AFC0>)),\n",
       "  ('to_dense', <__main__.DenseTransformer at 0x270442804a0>),\n",
       "  ('classifier', SGDClassifier())],\n",
       " 'transform_input': None,\n",
       " 'verbose': False,\n",
       " 'vectorizer': TfidfVectorizer(lowercase=False,\n",
       "                 preprocessor=<function <lambda> at 0x0000027055629940>,\n",
       "                 tokenizer=<function <lambda> at 0x000002705562AFC0>),\n",
       " 'to_dense': <__main__.DenseTransformer at 0x270442804a0>,\n",
       " 'classifier': SGDClassifier(),\n",
       " 'vectorizer__analyzer': 'word',\n",
       " 'vectorizer__binary': False,\n",
       " 'vectorizer__decode_error': 'strict',\n",
       " 'vectorizer__dtype': numpy.float64,\n",
       " 'vectorizer__encoding': 'utf-8',\n",
       " 'vectorizer__input': 'content',\n",
       " 'vectorizer__lowercase': False,\n",
       " 'vectorizer__max_df': 1.0,\n",
       " 'vectorizer__max_features': None,\n",
       " 'vectorizer__min_df': 1,\n",
       " 'vectorizer__ngram_range': (1, 1),\n",
       " 'vectorizer__norm': 'l2',\n",
       " 'vectorizer__preprocessor': <function __main__.<lambda>(x)>,\n",
       " 'vectorizer__smooth_idf': True,\n",
       " 'vectorizer__stop_words': None,\n",
       " 'vectorizer__strip_accents': None,\n",
       " 'vectorizer__sublinear_tf': False,\n",
       " 'vectorizer__token_pattern': '(?u)\\\\b\\\\w\\\\w+\\\\b',\n",
       " 'vectorizer__tokenizer': <function __main__.<lambda>(x)>,\n",
       " 'vectorizer__use_idf': True,\n",
       " 'vectorizer__vocabulary': None,\n",
       " 'classifier__alpha': 0.0001,\n",
       " 'classifier__average': False,\n",
       " 'classifier__class_weight': None,\n",
       " 'classifier__early_stopping': False,\n",
       " 'classifier__epsilon': 0.1,\n",
       " 'classifier__eta0': 0.0,\n",
       " 'classifier__fit_intercept': True,\n",
       " 'classifier__l1_ratio': 0.15,\n",
       " 'classifier__learning_rate': 'optimal',\n",
       " 'classifier__loss': 'hinge',\n",
       " 'classifier__max_iter': 1000,\n",
       " 'classifier__n_iter_no_change': 5,\n",
       " 'classifier__n_jobs': None,\n",
       " 'classifier__penalty': 'l2',\n",
       " 'classifier__power_t': 0.5,\n",
       " 'classifier__random_state': None,\n",
       " 'classifier__shuffle': True,\n",
       " 'classifier__tol': 0.001,\n",
       " 'classifier__validation_fraction': 0.1,\n",
       " 'classifier__verbose': 0,\n",
       " 'classifier__warm_start': False}"
      ]
     },
     "execution_count": 119,
     "metadata": {},
     "output_type": "execute_result"
    }
   ],
   "source": [
    "clf_ = Pipeline(\n",
    "        steps =[\n",
    "                ('vectorizer', TfidfVectorizer(lowercase=False, tokenizer=lambda x: x, preprocessor=lambda x: x)),\n",
    "                ('to_dense', DenseTransformer()), #If you want, you can see the error message you can get if you remove this step - you'll also have to use a different classifier, like RandomForestClassifier\n",
    "              ('classifier', SGDClassifier()),\n",
    "      ]\n",
    "    )\n",
    "\n",
    "clf_.get_params()"
   ]
  },
  {
   "cell_type": "code",
   "execution_count": 120,
   "id": "eff3edf2-3fad-48ca-bdbb-d78a53755cac",
   "metadata": {},
   "outputs": [],
   "source": [
    "# let's define the parameters to try\n",
    "hparameters = {\n",
    "              'vectorizer__ngram_range': [(1,1),(1, 2)],\n",
    "              'vectorizer__max_features': [2000,25000],\n",
    "              'classifier__penalty': [('l2')],\n",
    "              'classifier__alpha': [0.0001],\n",
    "             }\n",
    "\n",
    "clf_search = GridSearchCV(clf_, hparameters, scoring= \"accuracy\")\n",
    "\n"
   ]
  },
  {
   "cell_type": "code",
   "execution_count": 121,
   "id": "244ee505-e77f-43e7-8095-68e0fc0ee3fd",
   "metadata": {
    "editable": true,
    "slideshow": {
     "slide_type": ""
    },
    "tags": []
   },
   "outputs": [
    {
     "name": "stdout",
     "output_type": "stream",
     "text": [
      "Time taken to train gridsearch: 294.13 seconds.\n",
      "\n"
     ]
    }
   ],
   "source": [
    "t0 = tt()\n",
    "_ =clf_search.fit(x_train.tokenized_text, y_train)\n",
    "print(f'Time taken to train gridsearch: {tt()-t0:.2f} seconds.')\n",
    "print()\n",
    "# Get the best estimator for further analysis of the results using the test set\n",
    "best_clf = clf_search.best_estimator_\n",
    "\n"
   ]
  },
  {
   "cell_type": "code",
   "execution_count": 123,
   "id": "fd58ebb4-0a9b-403a-8827-84e40a1944c1",
   "metadata": {},
   "outputs": [
    {
     "name": "stdout",
     "output_type": "stream",
     "text": [
      "                                precision    recall  f1-score   support\n",
      "\n",
      "environment and animal welfare       0.90      0.88      0.89       203\n",
      "        health and social care       0.85      0.91      0.88       238\n",
      "   economy, labour and welfare       0.91      0.86      0.88       232\n",
      "                     education       0.95      0.93      0.94       460\n",
      "      culture, sport and media       0.87      0.91      0.89       409\n",
      "  uk government and devolution       1.00      0.42      0.59        12\n",
      "                        london       0.83      0.82      0.83       144\n",
      "\n",
      "                      accuracy                           0.90      1698\n",
      "                     macro avg       0.90      0.82      0.84      1698\n",
      "                  weighted avg       0.90      0.90      0.90      1698\n",
      "\n",
      "0.8932090518481054 {'classifier__alpha': 0.0001, 'classifier__penalty': 'l2', 'vectorizer__max_features': 25000, 'vectorizer__ngram_range': (1, 2)}\n",
      "\n",
      "0.8957597173144877\n"
     ]
    },
    {
     "data": {
      "image/png": "[encoded data removed]",
      "text/plain": [
       "<Figure size 640x480 with 2 Axes>"
      ]
     },
     "metadata": {},
     "output_type": "display_data"
    }
   ],
   "source": [
    "# Compute predictions and evaluation metrics using the best estimator\n",
    "# original data\n",
    "y_pred = best_clf.predict(x_test.tokenized_text)\n",
    "print(classification_report(y_test, y_pred, target_names = petition_categories))\n",
    "\n",
    "cm= ConfusionMatrixDisplay.from_estimator(best_clf, x_test.tokenized_text, y_test)\n",
    "\n",
    "print(clf_search.best_score_, clf_search.best_params_)\n",
    "print()\n",
    "print(accuracy_score(y_test,y_pred))"
   ]
  },
  {
   "cell_type": "code",
   "execution_count": 134,
   "id": "bc859c35-f90d-4f65-a8a1-10702fc049a2",
   "metadata": {},
   "outputs": [],
   "source": [
    "from sklearn.metrics import f1_score, precision_score,  recall_score"
   ]
  },
  {
   "cell_type": "code",
   "execution_count": 136,
   "id": "0a7e7d95-5e32-4398-b094-562c4dd226d3",
   "metadata": {},
   "outputs": [
    {
     "data": {
      "text/plain": [
       "0.8952531199733798"
      ]
     },
     "execution_count": 136,
     "metadata": {},
     "output_type": "execute_result"
    }
   ],
   "source": [
    "f1_score(y_test,y_pred,average='weighted')"
   ]
  },
  {
   "cell_type": "code",
   "execution_count": 137,
   "id": "71f59f7a-e97a-40fc-8896-41f424b45e73",
   "metadata": {},
   "outputs": [
    {
     "data": {
      "text/plain": [
       "0.8971875958872196"
      ]
     },
     "execution_count": 137,
     "metadata": {},
     "output_type": "execute_result"
    }
   ],
   "source": [
    "precision_score(y_test,y_pred,average='weighted')"
   ]
  },
  {
   "cell_type": "code",
   "execution_count": 138,
   "id": "161343d3-3c4d-4257-bd6f-20c12cd59761",
   "metadata": {},
   "outputs": [
    {
     "data": {
      "text/plain": [
       "0.8957597173144877"
      ]
     },
     "execution_count": 138,
     "metadata": {},
     "output_type": "execute_result"
    }
   ],
   "source": [
    "recall_score(y_test,y_pred,average='weighted')"
   ]
  },
  {
   "cell_type": "markdown",
   "id": "e83ce4ba-ccf7-4567-94c9-b792be232363",
   "metadata": {},
   "source": [
    "# Task 2"
   ]
  },
  {
   "cell_type": "markdown",
   "id": "33c3166f-dc66-44ac-b3d8-882d4a92bdea",
   "metadata": {},
   "source": [
    "Task obj: However, they do not have any labels for this task outside of the first few rows of the dataset. So, they want you to build a prototype by first labelling a subset of the data (they give an optional suggestion of 80 data points), and then build a machine learning algorithm to predict these labels from the text and any other feature that may be relevant"
   ]
  },
  {
   "cell_type": "code",
   "execution_count": 85,
   "id": "4d977100-6f7b-4d52-90ea-bb3fd8d81e02",
   "metadata": {},
   "outputs": [],
   "source": [
    "updated_data = pd.read_csv(\"updated_comp1804_coursework_dataset_24-25.csv\")"
   ]
  },
  {
   "cell_type": "code",
   "execution_count": 86,
   "id": "98f44547-6cf9-4ad2-999e-3cc44e01da4d",
   "metadata": {},
   "outputs": [
    {
     "data": {
      "text/html": [
       "<div>\n",
       "<style scoped>\n",
       "    .dataframe tbody tr th:only-of-type {\n",
       "        vertical-align: middle;\n",
       "    }\n",
       "\n",
       "    .dataframe tbody tr th {\n",
       "        vertical-align: top;\n",
       "    }\n",
       "\n",
       "    .dataframe thead th {\n",
       "        text-align: right;\n",
       "    }\n",
       "</style>\n",
       "<table border=\"1\" class=\"dataframe\">\n",
       "  <thead>\n",
       "    <tr style=\"text-align: right;\">\n",
       "      <th></th>\n",
       "      <th>petition_ID</th>\n",
       "      <th>has_entity</th>\n",
       "      <th>relevant_department</th>\n",
       "      <th>deviation_across_regions</th>\n",
       "      <th>petition_status</th>\n",
       "      <th>petition_topic</th>\n",
       "      <th>petition_importance</th>\n",
       "      <th>petition_text</th>\n",
       "    </tr>\n",
       "  </thead>\n",
       "  <tbody>\n",
       "    <tr>\n",
       "      <th>0</th>\n",
       "      <td>607158</td>\n",
       "      <td>EVENT:NO_DATE:NO_PERSON:NO_</td>\n",
       "      <td>Department for Education</td>\n",
       "      <td>0.000137</td>\n",
       "      <td>unsuccessful</td>\n",
       "      <td>education</td>\n",
       "      <td>not_important</td>\n",
       "      <td>Ban school uniforms in English schools. I want...</td>\n",
       "    </tr>\n",
       "    <tr>\n",
       "      <th>1</th>\n",
       "      <td>590629</td>\n",
       "      <td>EVENT:NO_DATE:YES_PERSON:NO_</td>\n",
       "      <td>Department of Health and Social Care</td>\n",
       "      <td>0.002133</td>\n",
       "      <td>unsuccessful</td>\n",
       "      <td>uk government and devolution</td>\n",
       "      <td>important</td>\n",
       "      <td>Lock NHS pay rises to increases in pay for MPs...</td>\n",
       "    </tr>\n",
       "    <tr>\n",
       "      <th>2</th>\n",
       "      <td>652724</td>\n",
       "      <td>EVENT:NO_DATE:NO_PERSON:NO_</td>\n",
       "      <td>Department of Health and Social Care</td>\n",
       "      <td>0.000272</td>\n",
       "      <td>unsuccessful</td>\n",
       "      <td>health and social care</td>\n",
       "      <td>important</td>\n",
       "      <td>Require dose counters on SABA metered dose inh...</td>\n",
       "    </tr>\n",
       "    <tr>\n",
       "      <th>3</th>\n",
       "      <td>629281</td>\n",
       "      <td>EVENT:NO_DATE:NO_PERSON:NO_</td>\n",
       "      <td>HM Treasury</td>\n",
       "      <td>0.000083</td>\n",
       "      <td>unsuccessful</td>\n",
       "      <td>economy, labour and welfare</td>\n",
       "      <td>not_important</td>\n",
       "      <td>Remove the 20% VAT on private dementia day car...</td>\n",
       "    </tr>\n",
       "    <tr>\n",
       "      <th>4</th>\n",
       "      <td>301747</td>\n",
       "      <td>EVENT:NO_DATE:NO_PERSON:NO_</td>\n",
       "      <td>NaN</td>\n",
       "      <td>NaN</td>\n",
       "      <td>rejected</td>\n",
       "      <td>culture, sport and media</td>\n",
       "      <td>not_important</td>\n",
       "      <td>Make bank holidays a holiday. Make bank holida...</td>\n",
       "    </tr>\n",
       "    <tr>\n",
       "      <th>...</th>\n",
       "      <td>...</td>\n",
       "      <td>...</td>\n",
       "      <td>...</td>\n",
       "      <td>...</td>\n",
       "      <td>...</td>\n",
       "      <td>...</td>\n",
       "      <td>...</td>\n",
       "      <td>...</td>\n",
       "    </tr>\n",
       "    <tr>\n",
       "      <th>8893</th>\n",
       "      <td>569251</td>\n",
       "      <td>EVENT:NO_DATE:NO_PERSON:YES_</td>\n",
       "      <td>Department of Health and Social Care</td>\n",
       "      <td>0.000109</td>\n",
       "      <td>unsuccessful</td>\n",
       "      <td>health and social care</td>\n",
       "      <td>NaN</td>\n",
       "      <td>Fund free meals for NHS frontline workers whil...</td>\n",
       "    </tr>\n",
       "    <tr>\n",
       "      <th>8894</th>\n",
       "      <td>616956</td>\n",
       "      <td>EVENT:NO_DATE:YES_PERSON:YES_</td>\n",
       "      <td>HM Treasury</td>\n",
       "      <td>0.000051</td>\n",
       "      <td>unsuccessful</td>\n",
       "      <td>environment and animal welfare</td>\n",
       "      <td>NaN</td>\n",
       "      <td>Cap profit fuel forecourt operators can make o...</td>\n",
       "    </tr>\n",
       "    <tr>\n",
       "      <th>8895</th>\n",
       "      <td>302075</td>\n",
       "      <td>data missing</td>\n",
       "      <td>NaN</td>\n",
       "      <td>NaN</td>\n",
       "      <td>rejected</td>\n",
       "      <td>culture, sport and media</td>\n",
       "      <td>NaN</td>\n",
       "      <td>Coronavirus. Re-introduce free TV license for ...</td>\n",
       "    </tr>\n",
       "    <tr>\n",
       "      <th>8896</th>\n",
       "      <td>326309</td>\n",
       "      <td>EVENT:NO_DATE:NO_PERSON:NO_</td>\n",
       "      <td>Department for Digital, Culture, Media and Sport</td>\n",
       "      <td>0.000077</td>\n",
       "      <td>unsuccessful</td>\n",
       "      <td>culture, sport and media</td>\n",
       "      <td>NaN</td>\n",
       "      <td>Restrict the share size of individuals and com...</td>\n",
       "    </tr>\n",
       "    <tr>\n",
       "      <th>8897</th>\n",
       "      <td>323999</td>\n",
       "      <td>EVENT:NO_DATE:NO_PERSON:NO_</td>\n",
       "      <td>Department of Health and Social Care</td>\n",
       "      <td>0.000429</td>\n",
       "      <td>unsuccessful</td>\n",
       "      <td>health and social care</td>\n",
       "      <td>NaN</td>\n",
       "      <td>Require the NHS to provide single-sex psychiat...</td>\n",
       "    </tr>\n",
       "  </tbody>\n",
       "</table>\n",
       "<p>8898 rows × 8 columns</p>\n",
       "</div>"
      ],
      "text/plain": [
       "      petition_ID                     has_entity  \\\n",
       "0          607158    EVENT:NO_DATE:NO_PERSON:NO_   \n",
       "1          590629   EVENT:NO_DATE:YES_PERSON:NO_   \n",
       "2          652724    EVENT:NO_DATE:NO_PERSON:NO_   \n",
       "3          629281    EVENT:NO_DATE:NO_PERSON:NO_   \n",
       "4          301747    EVENT:NO_DATE:NO_PERSON:NO_   \n",
       "...           ...                            ...   \n",
       "8893       569251   EVENT:NO_DATE:NO_PERSON:YES_   \n",
       "8894       616956  EVENT:NO_DATE:YES_PERSON:YES_   \n",
       "8895       302075                   data missing   \n",
       "8896       326309    EVENT:NO_DATE:NO_PERSON:NO_   \n",
       "8897       323999    EVENT:NO_DATE:NO_PERSON:NO_   \n",
       "\n",
       "                                   relevant_department  \\\n",
       "0                             Department for Education   \n",
       "1                 Department of Health and Social Care   \n",
       "2                 Department of Health and Social Care   \n",
       "3                                          HM Treasury   \n",
       "4                                                  NaN   \n",
       "...                                                ...   \n",
       "8893              Department of Health and Social Care   \n",
       "8894                                       HM Treasury   \n",
       "8895                                               NaN   \n",
       "8896  Department for Digital, Culture, Media and Sport   \n",
       "8897              Department of Health and Social Care   \n",
       "\n",
       "      deviation_across_regions petition_status  \\\n",
       "0                     0.000137    unsuccessful   \n",
       "1                     0.002133    unsuccessful   \n",
       "2                     0.000272    unsuccessful   \n",
       "3                     0.000083    unsuccessful   \n",
       "4                          NaN        rejected   \n",
       "...                        ...             ...   \n",
       "8893                  0.000109    unsuccessful   \n",
       "8894                  0.000051    unsuccessful   \n",
       "8895                       NaN        rejected   \n",
       "8896                  0.000077    unsuccessful   \n",
       "8897                  0.000429    unsuccessful   \n",
       "\n",
       "                      petition_topic petition_importance  \\\n",
       "0                          education       not_important   \n",
       "1       uk government and devolution           important   \n",
       "2             health and social care           important   \n",
       "3        economy, labour and welfare       not_important   \n",
       "4           culture, sport and media       not_important   \n",
       "...                              ...                 ...   \n",
       "8893          health and social care                 NaN   \n",
       "8894  environment and animal welfare                 NaN   \n",
       "8895        culture, sport and media                 NaN   \n",
       "8896        culture, sport and media                 NaN   \n",
       "8897          health and social care                 NaN   \n",
       "\n",
       "                                          petition_text  \n",
       "0     Ban school uniforms in English schools. I want...  \n",
       "1     Lock NHS pay rises to increases in pay for MPs...  \n",
       "2     Require dose counters on SABA metered dose inh...  \n",
       "3     Remove the 20% VAT on private dementia day car...  \n",
       "4     Make bank holidays a holiday. Make bank holida...  \n",
       "...                                                 ...  \n",
       "8893  Fund free meals for NHS frontline workers whil...  \n",
       "8894  Cap profit fuel forecourt operators can make o...  \n",
       "8895  Coronavirus. Re-introduce free TV license for ...  \n",
       "8896  Restrict the share size of individuals and com...  \n",
       "8897  Require the NHS to provide single-sex psychiat...  \n",
       "\n",
       "[8898 rows x 8 columns]"
      ]
     },
     "execution_count": 86,
     "metadata": {},
     "output_type": "execute_result"
    }
   ],
   "source": [
    "updated_data"
   ]
  },
  {
   "cell_type": "markdown",
   "id": "17e314b0-46ad-4536-94af-14a8cdae16c9",
   "metadata": {},
   "source": [
    "#### perform cleaning and encoding"
   ]
  },
  {
   "cell_type": "code",
   "execution_count": 87,
   "id": "8d73cd7f-6ca0-4710-9c65-768014d9c998",
   "metadata": {},
   "outputs": [
    {
     "name": "stdout",
     "output_type": "stream",
     "text": [
      "There are 374 duplicates rows.\n"
     ]
    }
   ],
   "source": [
    "duplicates_rows = updated_data.duplicated()\n",
    "# The result is True for rows that are a duplicate, False for rows that are not a duplicate\n",
    "\n",
    "print(f'There are {duplicates_rows.sum()} duplicates rows.')\n",
    "\n",
    "updated_data = updated_data[~duplicates_rows]"
   ]
  },
  {
   "cell_type": "code",
   "execution_count": 88,
   "id": "de0db503-7163-4067-b257-afc46db705f2",
   "metadata": {},
   "outputs": [
    {
     "name": "stdout",
     "output_type": "stream",
     "text": [
      "<class 'pandas.core.frame.DataFrame'>\n",
      "Index: 8524 entries, 0 to 8897\n",
      "Data columns (total 8 columns):\n",
      " #   Column                    Non-Null Count  Dtype  \n",
      "---  ------                    --------------  -----  \n",
      " 0   petition_ID               8524 non-null   int64  \n",
      " 1   has_entity                8524 non-null   object \n",
      " 2   relevant_department       6728 non-null   object \n",
      " 3   deviation_across_regions  6947 non-null   float64\n",
      " 4   petition_status           8524 non-null   object \n",
      " 5   petition_topic            8493 non-null   object \n",
      " 6   petition_importance       100 non-null    object \n",
      " 7   petition_text             8522 non-null   object \n",
      "dtypes: float64(1), int64(1), object(6)\n",
      "memory usage: 599.3+ KB\n"
     ]
    }
   ],
   "source": [
    "updated_data.info()"
   ]
  },
  {
   "cell_type": "code",
   "execution_count": 89,
   "id": "63bc9d02-8087-4fb9-8183-66756ff93b8c",
   "metadata": {},
   "outputs": [],
   "source": [
    "from sklearn.impute import SimpleImputer\n",
    "\n",
    "imptr= SimpleImputer(missing_values= np.nan, strategy='mean')"
   ]
  },
  {
   "cell_type": "code",
   "execution_count": 103,
   "id": "97333238-f166-4660-8619-b5a3fbb47216",
   "metadata": {},
   "outputs": [],
   "source": [
    "import warnings\n",
    "warnings.simplefilter(\"ignore\")"
   ]
  },
  {
   "cell_type": "code",
   "execution_count": 90,
   "id": "67a671c5-866f-4741-8afc-d6b0160cb069",
   "metadata": {},
   "outputs": [
    {
     "name": "stderr",
     "output_type": "stream",
     "text": [
      "C:\\Users\\Ganesh\\AppData\\Local\\Temp\\ipykernel_2352\\561240359.py:1: SettingWithCopyWarning: \n",
      "A value is trying to be set on a copy of a slice from a DataFrame.\n",
      "Try using .loc[row_indexer,col_indexer] = value instead\n",
      "\n",
      "See the caveats in the documentation: https://pandas.pydata.org/pandas-docs/stable/user_guide/indexing.html#returning-a-view-versus-a-copy\n",
      "  updated_data[\"deviation_across_regions\"] = imptr.fit_transform(updated_data[[\"deviation_across_regions\"]])\n"
     ]
    }
   ],
   "source": [
    "updated_data[\"deviation_across_regions\"] = imptr.fit_transform(updated_data[[\"deviation_across_regions\"]])"
   ]
  },
  {
   "cell_type": "code",
   "execution_count": 91,
   "id": "d41ee7b3-1fba-428d-8426-d98fe3180a77",
   "metadata": {},
   "outputs": [
    {
     "name": "stderr",
     "output_type": "stream",
     "text": [
      "C:\\Users\\Ganesh\\AppData\\Local\\Temp\\ipykernel_2352\\2813636530.py:1: SettingWithCopyWarning: \n",
      "A value is trying to be set on a copy of a slice from a DataFrame.\n",
      "Try using .loc[row_indexer,col_indexer] = value instead\n",
      "\n",
      "See the caveats in the documentation: https://pandas.pydata.org/pandas-docs/stable/user_guide/indexing.html#returning-a-view-versus-a-copy\n",
      "  updated_data[\"relevant_department\"] = updated_data[\"relevant_department\"].fillna(\"UNKNOWN\")\n"
     ]
    }
   ],
   "source": [
    "updated_data[\"relevant_department\"] = updated_data[\"relevant_department\"].fillna(\"UNKNOWN\")"
   ]
  },
  {
   "cell_type": "code",
   "execution_count": 92,
   "id": "2a3b55aa-60ea-4e14-97f4-586ba6e080db",
   "metadata": {},
   "outputs": [],
   "source": [
    "updated_data = updated_data.drop(columns=[\"petition_ID\",\"petition_status\",\"petition_topic\"])"
   ]
  },
  {
   "cell_type": "markdown",
   "id": "2a282735-917a-4815-8226-4effc31adefe",
   "metadata": {},
   "source": [
    "Lets utilize has_entity in this section as it might have an effect on the overall which can be checked"
   ]
  },
  {
   "cell_type": "code",
   "execution_count": 93,
   "id": "ae234569-12bd-4e89-87ca-26c6764fa618",
   "metadata": {},
   "outputs": [],
   "source": [
    "def ent_conv_func(df):\n",
    "    df['has_entity'] = df['has_entity'].fillna('EVENT:NO_DATE:NO_PERSON:NO_')\n",
    "    df['has_entity'] = df['has_entity'].replace('data missing', 'EVENT:NO_DATE:NO_PERSON:NO_')\n",
    "    df['has_event'] = df['has_entity'].apply(lambda x: 1 if 'EVENT:YES' in x else 0)\n",
    "    df['has_date'] = df['has_entity'].apply(lambda x: 1 if 'YES_DATE' in x else 0)\n",
    "    df['has_person'] = df['has_entity'].apply(lambda x: 1 if 'YES_PERSON' in x else 0)\n",
    "    df.drop(columns=['has_entity'], inplace=True)\n",
    "    return df"
   ]
  },
  {
   "cell_type": "code",
   "execution_count": 94,
   "id": "3cc971d9-9f0e-4fc4-806b-95f3432a4400",
   "metadata": {},
   "outputs": [],
   "source": [
    "updated_data = ent_conv_func(updated_data)"
   ]
  },
  {
   "cell_type": "code",
   "execution_count": 95,
   "id": "7dcf3556-2b18-4d81-b0f1-7a29abc0096b",
   "metadata": {},
   "outputs": [],
   "source": [
    "from cleantext import clean\n",
    "\n",
    "def clean_text(x):\n",
    "  \"\"\" Define standard cleaning procedure \"\"\"\n",
    "  return clean(x,\n",
    "    fix_unicode=True,               # fix various unicode errors\n",
    "    lower=True,                     # change all text to lowercase\n",
    "    no_line_breaks=True,           # this removes occurrences of the newline character \"\\n\"\n",
    "    no_punct=False,                 # let's NOT remove punctuations for the time being\n",
    "    no_urls=True,                  # replace all URLs with a special token (below)\n",
    "    replace_with_url=\"\",          # we decide to replace urls with nothing\n",
    "    no_emails=True,                # replace all email addresses with a special token\n",
    "    replace_with_email=\"\",        # we decide to replace emails with nothing\n",
    "    no_phone_numbers=True,         # replace all phone numbers with a special token\n",
    "    replace_with_phone_number=\"\",   # we decide to replace phone numbers with nothing\n",
    "    lang=\"en\"                       # set to 'de' for German special handling\n",
    "    )"
   ]
  },
  {
   "cell_type": "code",
   "execution_count": 96,
   "id": "725943b1-e130-4a92-b3e3-0623cbfd0f93",
   "metadata": {},
   "outputs": [],
   "source": [
    "updated_data['petition_text']= updated_data['petition_text'].apply(clean_text)"
   ]
  },
  {
   "cell_type": "code",
   "execution_count": 97,
   "id": "57fc20c7-8869-4542-90ea-1761a58b6957",
   "metadata": {},
   "outputs": [],
   "source": [
    "import string\n",
    "EXTRA_PUNCT = string.punctuation\n",
    "\n",
    "# import Spacy\n",
    "import spacy\n",
    "# create the Spacy pipeline\n",
    "nlp = spacy.load('en_core_web_sm')\n",
    "\n",
    "def preprocess_text_with_spacy(text_):\n",
    "  \"\"\"\n",
    "  This function takes a Spacy doc and returns the list of its lemmas,\n",
    "  after removing stop words and punctuations\n",
    "  \"\"\"\n",
    "  # process document with Spacy\n",
    "  # Note that if we were to first run all the documents through Spacy\n",
    "  # (remember the nlp.pipe()) it would be faster because Spacy processes\n",
    "  # multiple documents in parallel. However we'd have to create an intermediate\n",
    "  # variable or column where to store all the Spacy objects, then process them\n",
    "  # one by one and add the results to our dataframe.\n",
    "  doc_ = nlp(text_)\n",
    "  # here we take the lemmas, and now we also want to but only keep those that are NOT stop words, only digits, or punctuation.\n",
    "  lemmas_ = [token.lemma_ for token in doc_ if not (token.is_stop or token.is_punct or token.is_digit)]\n",
    "  # remember when I said punctuation is tricky?\n",
    "  # Spacy misses some characters that we want to remove that can also be considered punctuation (= and +)\n",
    "  # Here is where we remove them\n",
    "  return [lemma for lemma in lemmas_ if lemma not in EXTRA_PUNCT]"
   ]
  },
  {
   "cell_type": "code",
   "execution_count": 98,
   "id": "f42466df-16a7-4445-a53b-d4a1c284563f",
   "metadata": {},
   "outputs": [
    {
     "name": "stdout",
     "output_type": "stream",
     "text": [
      "Time elapsed is 195.48 seconds\n"
     ]
    }
   ],
   "source": [
    "from time import time as tt\n",
    "t0 = tt()\n",
    "updated_data['petition_text'] = updated_data['petition_text'].apply(preprocess_text_with_spacy)\n",
    "print(f'Time elapsed is {(tt()-t0):.2f} seconds')"
   ]
  },
  {
   "cell_type": "markdown",
   "id": "17333641-aaa1-40c3-a0d3-b8108771728f",
   "metadata": {},
   "source": [
    "### Lets store only the labelled data into labelled for our Supervised model"
   ]
  },
  {
   "cell_type": "code",
   "execution_count": 133,
   "id": "5dbdf9f8-5ddd-47ef-9cbf-2673b952ef9c",
   "metadata": {},
   "outputs": [],
   "source": [
    "labelled_data = updated_data[updated_data['petition_importance'].notna()].copy()"
   ]
  },
  {
   "cell_type": "code",
   "execution_count": 120,
   "id": "7d2f336c-3d81-4bc5-9454-2df37585fd7e",
   "metadata": {},
   "outputs": [
    {
     "data": {
      "text/html": [
       "<div>\n",
       "<style scoped>\n",
       "    .dataframe tbody tr th:only-of-type {\n",
       "        vertical-align: middle;\n",
       "    }\n",
       "\n",
       "    .dataframe tbody tr th {\n",
       "        vertical-align: top;\n",
       "    }\n",
       "\n",
       "    .dataframe thead th {\n",
       "        text-align: right;\n",
       "    }\n",
       "</style>\n",
       "<table border=\"1\" class=\"dataframe\">\n",
       "  <thead>\n",
       "    <tr style=\"text-align: right;\">\n",
       "      <th></th>\n",
       "      <th>relevant_department</th>\n",
       "      <th>deviation_across_regions</th>\n",
       "      <th>petition_importance</th>\n",
       "      <th>petition_text</th>\n",
       "      <th>has_event</th>\n",
       "      <th>has_date</th>\n",
       "      <th>has_person</th>\n",
       "    </tr>\n",
       "  </thead>\n",
       "  <tbody>\n",
       "    <tr>\n",
       "      <th>0</th>\n",
       "      <td>Department for Education</td>\n",
       "      <td>0.000137</td>\n",
       "      <td>not_important</td>\n",
       "      <td>[ban, school, uniform, english, school, want, ...</td>\n",
       "      <td>0</td>\n",
       "      <td>0</td>\n",
       "      <td>0</td>\n",
       "    </tr>\n",
       "    <tr>\n",
       "      <th>1</th>\n",
       "      <td>Department of Health and Social Care</td>\n",
       "      <td>0.002133</td>\n",
       "      <td>important</td>\n",
       "      <td>[lock, nhs, pay, rise, increase, pay, mp, back...</td>\n",
       "      <td>0</td>\n",
       "      <td>0</td>\n",
       "      <td>1</td>\n",
       "    </tr>\n",
       "    <tr>\n",
       "      <th>2</th>\n",
       "      <td>Department of Health and Social Care</td>\n",
       "      <td>0.000272</td>\n",
       "      <td>important</td>\n",
       "      <td>[require, dose, counter, saba, meter, dose, in...</td>\n",
       "      <td>0</td>\n",
       "      <td>0</td>\n",
       "      <td>0</td>\n",
       "    </tr>\n",
       "    <tr>\n",
       "      <th>3</th>\n",
       "      <td>HM Treasury</td>\n",
       "      <td>0.000083</td>\n",
       "      <td>not_important</td>\n",
       "      <td>[remove, vat, private, dementia, day, care, ce...</td>\n",
       "      <td>0</td>\n",
       "      <td>0</td>\n",
       "      <td>0</td>\n",
       "    </tr>\n",
       "    <tr>\n",
       "      <th>4</th>\n",
       "      <td>UNKNOWN</td>\n",
       "      <td>0.001095</td>\n",
       "      <td>not_important</td>\n",
       "      <td>[bank, holiday, holiday, bank, holiday, holida...</td>\n",
       "      <td>0</td>\n",
       "      <td>0</td>\n",
       "      <td>0</td>\n",
       "    </tr>\n",
       "    <tr>\n",
       "      <th>...</th>\n",
       "      <td>...</td>\n",
       "      <td>...</td>\n",
       "      <td>...</td>\n",
       "      <td>...</td>\n",
       "      <td>...</td>\n",
       "      <td>...</td>\n",
       "      <td>...</td>\n",
       "    </tr>\n",
       "    <tr>\n",
       "      <th>95</th>\n",
       "      <td>HM Treasury</td>\n",
       "      <td>0.000014</td>\n",
       "      <td>important</td>\n",
       "      <td>[suspend, personal, taxation, general, electio...</td>\n",
       "      <td>0</td>\n",
       "      <td>0</td>\n",
       "      <td>0</td>\n",
       "    </tr>\n",
       "    <tr>\n",
       "      <th>96</th>\n",
       "      <td>Department of Health and Social Care</td>\n",
       "      <td>0.027554</td>\n",
       "      <td>important</td>\n",
       "      <td>[increase, dedicated, funding, childhood, canc...</td>\n",
       "      <td>0</td>\n",
       "      <td>0</td>\n",
       "      <td>1</td>\n",
       "    </tr>\n",
       "    <tr>\n",
       "      <th>97</th>\n",
       "      <td>Department for Education</td>\n",
       "      <td>0.000024</td>\n",
       "      <td>not_important</td>\n",
       "      <td>[require, school, friday, half, day, change, t...</td>\n",
       "      <td>0</td>\n",
       "      <td>0</td>\n",
       "      <td>1</td>\n",
       "    </tr>\n",
       "    <tr>\n",
       "      <th>98</th>\n",
       "      <td>Department for Environment, Food and Rural Aff...</td>\n",
       "      <td>0.000117</td>\n",
       "      <td>important</td>\n",
       "      <td>[create, public, database, register, vet, find...</td>\n",
       "      <td>0</td>\n",
       "      <td>0</td>\n",
       "      <td>0</td>\n",
       "    </tr>\n",
       "    <tr>\n",
       "      <th>99</th>\n",
       "      <td>Department for Business, Energy and Industrial...</td>\n",
       "      <td>0.000028</td>\n",
       "      <td>important</td>\n",
       "      <td>[require, business, turn, non, emergency, ligh...</td>\n",
       "      <td>0</td>\n",
       "      <td>0</td>\n",
       "      <td>1</td>\n",
       "    </tr>\n",
       "  </tbody>\n",
       "</table>\n",
       "<p>100 rows × 7 columns</p>\n",
       "</div>"
      ],
      "text/plain": [
       "                                  relevant_department  \\\n",
       "0                            Department for Education   \n",
       "1                Department of Health and Social Care   \n",
       "2                Department of Health and Social Care   \n",
       "3                                         HM Treasury   \n",
       "4                                             UNKNOWN   \n",
       "..                                                ...   \n",
       "95                                        HM Treasury   \n",
       "96               Department of Health and Social Care   \n",
       "97                           Department for Education   \n",
       "98  Department for Environment, Food and Rural Aff...   \n",
       "99  Department for Business, Energy and Industrial...   \n",
       "\n",
       "    deviation_across_regions petition_importance  \\\n",
       "0                   0.000137       not_important   \n",
       "1                   0.002133           important   \n",
       "2                   0.000272           important   \n",
       "3                   0.000083       not_important   \n",
       "4                   0.001095       not_important   \n",
       "..                       ...                 ...   \n",
       "95                  0.000014           important   \n",
       "96                  0.027554           important   \n",
       "97                  0.000024       not_important   \n",
       "98                  0.000117           important   \n",
       "99                  0.000028           important   \n",
       "\n",
       "                                        petition_text  has_event  has_date  \\\n",
       "0   [ban, school, uniform, english, school, want, ...          0         0   \n",
       "1   [lock, nhs, pay, rise, increase, pay, mp, back...          0         0   \n",
       "2   [require, dose, counter, saba, meter, dose, in...          0         0   \n",
       "3   [remove, vat, private, dementia, day, care, ce...          0         0   \n",
       "4   [bank, holiday, holiday, bank, holiday, holida...          0         0   \n",
       "..                                                ...        ...       ...   \n",
       "95  [suspend, personal, taxation, general, electio...          0         0   \n",
       "96  [increase, dedicated, funding, childhood, canc...          0         0   \n",
       "97  [require, school, friday, half, day, change, t...          0         0   \n",
       "98  [create, public, database, register, vet, find...          0         0   \n",
       "99  [require, business, turn, non, emergency, ligh...          0         0   \n",
       "\n",
       "    has_person  \n",
       "0            0  \n",
       "1            1  \n",
       "2            0  \n",
       "3            0  \n",
       "4            0  \n",
       "..         ...  \n",
       "95           0  \n",
       "96           1  \n",
       "97           1  \n",
       "98           0  \n",
       "99           1  \n",
       "\n",
       "[100 rows x 7 columns]"
      ]
     },
     "execution_count": 120,
     "metadata": {},
     "output_type": "execute_result"
    }
   ],
   "source": [
    "labelled_data"
   ]
  },
  {
   "cell_type": "markdown",
   "id": "2bfe6878-ea7d-4ad7-9292-d66d072acb6f",
   "metadata": {},
   "source": [
    "Lets encode the target labels"
   ]
  },
  {
   "cell_type": "code",
   "execution_count": 130,
   "id": "cb5cae5a-6f6e-4889-b42f-0a534307718c",
   "metadata": {},
   "outputs": [],
   "source": [
    "le = LabelEncoder()"
   ]
  },
  {
   "cell_type": "code",
   "execution_count": 131,
   "id": "031b8d10-6dcc-4d4a-9a9e-147f092c8029",
   "metadata": {},
   "outputs": [],
   "source": [
    "le_petition= le.fit_transform(labelled_data[[\"petition_importance\"]])"
   ]
  },
  {
   "cell_type": "code",
   "execution_count": 132,
   "id": "53fce22a-7786-401f-b3c7-fec947d67e42",
   "metadata": {},
   "outputs": [
    {
     "data": {
      "text/html": [
       "<div>\n",
       "<style scoped>\n",
       "    .dataframe tbody tr th:only-of-type {\n",
       "        vertical-align: middle;\n",
       "    }\n",
       "\n",
       "    .dataframe tbody tr th {\n",
       "        vertical-align: top;\n",
       "    }\n",
       "\n",
       "    .dataframe thead th {\n",
       "        text-align: right;\n",
       "    }\n",
       "</style>\n",
       "<table border=\"1\" class=\"dataframe\">\n",
       "  <thead>\n",
       "    <tr style=\"text-align: right;\">\n",
       "      <th></th>\n",
       "      <th>relevant_department</th>\n",
       "      <th>deviation_across_regions</th>\n",
       "      <th>petition_importance</th>\n",
       "      <th>petition_text</th>\n",
       "      <th>has_event</th>\n",
       "      <th>has_date</th>\n",
       "      <th>has_person</th>\n",
       "    </tr>\n",
       "  </thead>\n",
       "  <tbody>\n",
       "    <tr>\n",
       "      <th>0</th>\n",
       "      <td>Department for Education</td>\n",
       "      <td>0.000137</td>\n",
       "      <td>1</td>\n",
       "      <td>[ban, school, uniform, english, school, want, ...</td>\n",
       "      <td>0</td>\n",
       "      <td>0</td>\n",
       "      <td>0</td>\n",
       "    </tr>\n",
       "    <tr>\n",
       "      <th>1</th>\n",
       "      <td>Department of Health and Social Care</td>\n",
       "      <td>0.002133</td>\n",
       "      <td>0</td>\n",
       "      <td>[lock, nhs, pay, rise, increase, pay, mp, back...</td>\n",
       "      <td>0</td>\n",
       "      <td>0</td>\n",
       "      <td>1</td>\n",
       "    </tr>\n",
       "    <tr>\n",
       "      <th>2</th>\n",
       "      <td>Department of Health and Social Care</td>\n",
       "      <td>0.000272</td>\n",
       "      <td>0</td>\n",
       "      <td>[require, dose, counter, saba, meter, dose, in...</td>\n",
       "      <td>0</td>\n",
       "      <td>0</td>\n",
       "      <td>0</td>\n",
       "    </tr>\n",
       "    <tr>\n",
       "      <th>3</th>\n",
       "      <td>HM Treasury</td>\n",
       "      <td>0.000083</td>\n",
       "      <td>1</td>\n",
       "      <td>[remove, vat, private, dementia, day, care, ce...</td>\n",
       "      <td>0</td>\n",
       "      <td>0</td>\n",
       "      <td>0</td>\n",
       "    </tr>\n",
       "    <tr>\n",
       "      <th>4</th>\n",
       "      <td>UNKNOWN</td>\n",
       "      <td>0.001095</td>\n",
       "      <td>1</td>\n",
       "      <td>[bank, holiday, holiday, bank, holiday, holida...</td>\n",
       "      <td>0</td>\n",
       "      <td>0</td>\n",
       "      <td>0</td>\n",
       "    </tr>\n",
       "  </tbody>\n",
       "</table>\n",
       "</div>"
      ],
      "text/plain": [
       "                    relevant_department  deviation_across_regions  \\\n",
       "0              Department for Education                  0.000137   \n",
       "1  Department of Health and Social Care                  0.002133   \n",
       "2  Department of Health and Social Care                  0.000272   \n",
       "3                           HM Treasury                  0.000083   \n",
       "4                               UNKNOWN                  0.001095   \n",
       "\n",
       "   petition_importance                                      petition_text  \\\n",
       "0                    1  [ban, school, uniform, english, school, want, ...   \n",
       "1                    0  [lock, nhs, pay, rise, increase, pay, mp, back...   \n",
       "2                    0  [require, dose, counter, saba, meter, dose, in...   \n",
       "3                    1  [remove, vat, private, dementia, day, care, ce...   \n",
       "4                    1  [bank, holiday, holiday, bank, holiday, holida...   \n",
       "\n",
       "   has_event  has_date  has_person  \n",
       "0          0         0           0  \n",
       "1          0         0           1  \n",
       "2          0         0           0  \n",
       "3          0         0           0  \n",
       "4          0         0           0  "
      ]
     },
     "execution_count": 132,
     "metadata": {},
     "output_type": "execute_result"
    }
   ],
   "source": [
    "labelled_data[\"petition_importance\"] =le_petition\n",
    "labelled_data.head()"
   ]
  },
  {
   "cell_type": "markdown",
   "id": "48364d15-37e2-4ffa-9837-2f11395cd9b5",
   "metadata": {},
   "source": [
    "We want important as 1, but label encoder chooses its classes alphabetically so its reversing the values"
   ]
  },
  {
   "cell_type": "code",
   "execution_count": 134,
   "id": "a55a9c70-af01-4515-8ed0-950526c9794f",
   "metadata": {},
   "outputs": [],
   "source": [
    "labelled_data['petition_importance'] = labelled_data['petition_importance'].map({\n",
    "    'important': 1,\n",
    "    'not_important': 0\n",
    "})"
   ]
  },
  {
   "cell_type": "code",
   "execution_count": 135,
   "id": "bd52a89d-4e76-4580-8196-6115fb3de34d",
   "metadata": {},
   "outputs": [
    {
     "data": {
      "text/html": [
       "<div>\n",
       "<style scoped>\n",
       "    .dataframe tbody tr th:only-of-type {\n",
       "        vertical-align: middle;\n",
       "    }\n",
       "\n",
       "    .dataframe tbody tr th {\n",
       "        vertical-align: top;\n",
       "    }\n",
       "\n",
       "    .dataframe thead th {\n",
       "        text-align: right;\n",
       "    }\n",
       "</style>\n",
       "<table border=\"1\" class=\"dataframe\">\n",
       "  <thead>\n",
       "    <tr style=\"text-align: right;\">\n",
       "      <th></th>\n",
       "      <th>relevant_department</th>\n",
       "      <th>deviation_across_regions</th>\n",
       "      <th>petition_importance</th>\n",
       "      <th>petition_text</th>\n",
       "      <th>has_event</th>\n",
       "      <th>has_date</th>\n",
       "      <th>has_person</th>\n",
       "    </tr>\n",
       "  </thead>\n",
       "  <tbody>\n",
       "    <tr>\n",
       "      <th>0</th>\n",
       "      <td>Department for Education</td>\n",
       "      <td>0.000137</td>\n",
       "      <td>0</td>\n",
       "      <td>[ban, school, uniform, english, school, want, ...</td>\n",
       "      <td>0</td>\n",
       "      <td>0</td>\n",
       "      <td>0</td>\n",
       "    </tr>\n",
       "    <tr>\n",
       "      <th>1</th>\n",
       "      <td>Department of Health and Social Care</td>\n",
       "      <td>0.002133</td>\n",
       "      <td>1</td>\n",
       "      <td>[lock, nhs, pay, rise, increase, pay, mp, back...</td>\n",
       "      <td>0</td>\n",
       "      <td>0</td>\n",
       "      <td>1</td>\n",
       "    </tr>\n",
       "    <tr>\n",
       "      <th>2</th>\n",
       "      <td>Department of Health and Social Care</td>\n",
       "      <td>0.000272</td>\n",
       "      <td>1</td>\n",
       "      <td>[require, dose, counter, saba, meter, dose, in...</td>\n",
       "      <td>0</td>\n",
       "      <td>0</td>\n",
       "      <td>0</td>\n",
       "    </tr>\n",
       "    <tr>\n",
       "      <th>3</th>\n",
       "      <td>HM Treasury</td>\n",
       "      <td>0.000083</td>\n",
       "      <td>0</td>\n",
       "      <td>[remove, vat, private, dementia, day, care, ce...</td>\n",
       "      <td>0</td>\n",
       "      <td>0</td>\n",
       "      <td>0</td>\n",
       "    </tr>\n",
       "    <tr>\n",
       "      <th>4</th>\n",
       "      <td>UNKNOWN</td>\n",
       "      <td>0.001095</td>\n",
       "      <td>0</td>\n",
       "      <td>[bank, holiday, holiday, bank, holiday, holida...</td>\n",
       "      <td>0</td>\n",
       "      <td>0</td>\n",
       "      <td>0</td>\n",
       "    </tr>\n",
       "    <tr>\n",
       "      <th>...</th>\n",
       "      <td>...</td>\n",
       "      <td>...</td>\n",
       "      <td>...</td>\n",
       "      <td>...</td>\n",
       "      <td>...</td>\n",
       "      <td>...</td>\n",
       "      <td>...</td>\n",
       "    </tr>\n",
       "    <tr>\n",
       "      <th>95</th>\n",
       "      <td>HM Treasury</td>\n",
       "      <td>0.000014</td>\n",
       "      <td>1</td>\n",
       "      <td>[suspend, personal, taxation, general, electio...</td>\n",
       "      <td>0</td>\n",
       "      <td>0</td>\n",
       "      <td>0</td>\n",
       "    </tr>\n",
       "    <tr>\n",
       "      <th>96</th>\n",
       "      <td>Department of Health and Social Care</td>\n",
       "      <td>0.027554</td>\n",
       "      <td>1</td>\n",
       "      <td>[increase, dedicated, funding, childhood, canc...</td>\n",
       "      <td>0</td>\n",
       "      <td>0</td>\n",
       "      <td>1</td>\n",
       "    </tr>\n",
       "    <tr>\n",
       "      <th>97</th>\n",
       "      <td>Department for Education</td>\n",
       "      <td>0.000024</td>\n",
       "      <td>0</td>\n",
       "      <td>[require, school, friday, half, day, change, t...</td>\n",
       "      <td>0</td>\n",
       "      <td>0</td>\n",
       "      <td>1</td>\n",
       "    </tr>\n",
       "    <tr>\n",
       "      <th>98</th>\n",
       "      <td>Department for Environment, Food and Rural Aff...</td>\n",
       "      <td>0.000117</td>\n",
       "      <td>1</td>\n",
       "      <td>[create, public, database, register, vet, find...</td>\n",
       "      <td>0</td>\n",
       "      <td>0</td>\n",
       "      <td>0</td>\n",
       "    </tr>\n",
       "    <tr>\n",
       "      <th>99</th>\n",
       "      <td>Department for Business, Energy and Industrial...</td>\n",
       "      <td>0.000028</td>\n",
       "      <td>1</td>\n",
       "      <td>[require, business, turn, non, emergency, ligh...</td>\n",
       "      <td>0</td>\n",
       "      <td>0</td>\n",
       "      <td>1</td>\n",
       "    </tr>\n",
       "  </tbody>\n",
       "</table>\n",
       "<p>100 rows × 7 columns</p>\n",
       "</div>"
      ],
      "text/plain": [
       "                                  relevant_department  \\\n",
       "0                            Department for Education   \n",
       "1                Department of Health and Social Care   \n",
       "2                Department of Health and Social Care   \n",
       "3                                         HM Treasury   \n",
       "4                                             UNKNOWN   \n",
       "..                                                ...   \n",
       "95                                        HM Treasury   \n",
       "96               Department of Health and Social Care   \n",
       "97                           Department for Education   \n",
       "98  Department for Environment, Food and Rural Aff...   \n",
       "99  Department for Business, Energy and Industrial...   \n",
       "\n",
       "    deviation_across_regions  petition_importance  \\\n",
       "0                   0.000137                    0   \n",
       "1                   0.002133                    1   \n",
       "2                   0.000272                    1   \n",
       "3                   0.000083                    0   \n",
       "4                   0.001095                    0   \n",
       "..                       ...                  ...   \n",
       "95                  0.000014                    1   \n",
       "96                  0.027554                    1   \n",
       "97                  0.000024                    0   \n",
       "98                  0.000117                    1   \n",
       "99                  0.000028                    1   \n",
       "\n",
       "                                        petition_text  has_event  has_date  \\\n",
       "0   [ban, school, uniform, english, school, want, ...          0         0   \n",
       "1   [lock, nhs, pay, rise, increase, pay, mp, back...          0         0   \n",
       "2   [require, dose, counter, saba, meter, dose, in...          0         0   \n",
       "3   [remove, vat, private, dementia, day, care, ce...          0         0   \n",
       "4   [bank, holiday, holiday, bank, holiday, holida...          0         0   \n",
       "..                                                ...        ...       ...   \n",
       "95  [suspend, personal, taxation, general, electio...          0         0   \n",
       "96  [increase, dedicated, funding, childhood, canc...          0         0   \n",
       "97  [require, school, friday, half, day, change, t...          0         0   \n",
       "98  [create, public, database, register, vet, find...          0         0   \n",
       "99  [require, business, turn, non, emergency, ligh...          0         0   \n",
       "\n",
       "    has_person  \n",
       "0            0  \n",
       "1            1  \n",
       "2            0  \n",
       "3            0  \n",
       "4            0  \n",
       "..         ...  \n",
       "95           0  \n",
       "96           1  \n",
       "97           1  \n",
       "98           0  \n",
       "99           1  \n",
       "\n",
       "[100 rows x 7 columns]"
      ]
     },
     "execution_count": 135,
     "metadata": {},
     "output_type": "execute_result"
    }
   ],
   "source": [
    "labelled_data"
   ]
  },
  {
   "cell_type": "markdown",
   "id": "e155e6cb-0d8f-47aa-a8d0-b70327b3d4b9",
   "metadata": {},
   "source": [
    "Train and test split"
   ]
  },
  {
   "cell_type": "code",
   "execution_count": 136,
   "id": "1b966f8e-e184-43fa-95e5-fe52cd84523f",
   "metadata": {},
   "outputs": [],
   "source": [
    "X = labelled_data.drop(columns=['petition_importance'])\n",
    "Y = labelled_data['petition_importance'] "
   ]
  },
  {
   "cell_type": "code",
   "execution_count": 137,
   "id": "ffc4cf97-3fd5-45e5-8c5b-2ad7083374b2",
   "metadata": {},
   "outputs": [
    {
     "data": {
      "text/plain": [
       "petition_importance\n",
       "1    51\n",
       "0    49\n",
       "Name: count, dtype: int64"
      ]
     },
     "execution_count": 137,
     "metadata": {},
     "output_type": "execute_result"
    }
   ],
   "source": [
    "Y.value_counts()"
   ]
  },
  {
   "cell_type": "markdown",
   "id": "e0aca804-2437-4974-a1ae-958ce6695b76",
   "metadata": {},
   "source": [
    "its pretty balanced, regardless lets choose to stratify based on Y"
   ]
  },
  {
   "cell_type": "code",
   "execution_count": 138,
   "id": "f23bc02b-83cc-4e4d-af34-6100552510e7",
   "metadata": {},
   "outputs": [],
   "source": [
    "x_train, x_test, y_train, y_test = train_test_split(X,Y,test_size=0.2,stratify=Y,random_state=0)"
   ]
  },
  {
   "cell_type": "code",
   "execution_count": 139,
   "id": "9b752462-da40-4d5a-915c-25983b3de7ee",
   "metadata": {},
   "outputs": [
    {
     "data": {
      "text/plain": [
       "(80, 6)"
      ]
     },
     "execution_count": 139,
     "metadata": {},
     "output_type": "execute_result"
    }
   ],
   "source": [
    "x_train.shape"
   ]
  },
  {
   "cell_type": "code",
   "execution_count": 140,
   "id": "0fb0cae3-2e6e-4f48-b5a3-9d547b72d19d",
   "metadata": {},
   "outputs": [
    {
     "data": {
      "text/plain": [
       "(80,)"
      ]
     },
     "execution_count": 140,
     "metadata": {},
     "output_type": "execute_result"
    }
   ],
   "source": [
    "y_train.shape"
   ]
  },
  {
   "cell_type": "code",
   "execution_count": 141,
   "id": "1334f0c3-cfde-4bd0-89cb-53e35da08a1d",
   "metadata": {},
   "outputs": [
    {
     "name": "stdout",
     "output_type": "stream",
     "text": [
      "['summer', 'clock', 'forwards', 'leave', 'need', 'day', 'age', 'farmer', 'work', 'powerful', 'light', 'tractor', 'people', 'use', 'torch', 'need', 'health', 'boost', 'able', 'travel', 'home', 'know', 'outside', 'people', 'good', 'health', 'reliance', 'electricity', 'evening']\n"
     ]
    }
   ],
   "source": [
    "print(x_train['petition_text'].iloc[0])"
   ]
  },
  {
   "cell_type": "markdown",
   "id": "dd713c94-c9c8-4602-8d01-d86a8bb9e5af",
   "metadata": {},
   "source": [
    " Had to google this error and it says the the CT is converting the input into a 2D DF instead of a list which the TFIDF is expecting so we have to define a flatting function similar to the dense function"
   ]
  },
  {
   "cell_type": "code",
   "execution_count": 145,
   "id": "09aec4e6-dc7a-416e-bf74-83507a670e00",
   "metadata": {},
   "outputs": [],
   "source": [
    "from sklearn.base import BaseEstimator, TransformerMixin\n",
    "\n",
    "class TextFlattener(BaseEstimator, TransformerMixin):\n",
    "    def fit(self, X, y=None): \n",
    "        return self\n",
    "    def transform(self, X, y=None): \n",
    "        return X.to_numpy().ravel()\n",
    "\n",
    "\n",
    "class DenseTransformer(TransformerMixin):\n",
    "    ''' Pipeline step to transform a sparse matrix into a dense one '''\n",
    "    def fit(self, X, y=None, **fit_params):\n",
    "        return self\n",
    "\n",
    "    def transform(self, X, y=None, **fit_params):\n",
    "        return X.toarray()"
   ]
  },
  {
   "cell_type": "markdown",
   "id": "cb03bbde-9bbc-4918-8a54-71639a776acb",
   "metadata": {},
   "source": [
    "#### lets define the pipeline"
   ]
  },
  {
   "cell_type": "code",
   "execution_count": 146,
   "id": "32aabd6d-6307-4629-9802-5116bc1262e8",
   "metadata": {},
   "outputs": [],
   "source": [
    "from sklearn.compose import ColumnTransformer\n",
    "\n",
    "ct_log = ColumnTransformer(\n",
    "    transformers= [\n",
    "        (\n",
    "            'vectorizer',\n",
    "            Pipeline(\n",
    "                steps =[\n",
    "                        ('to_unravel', TextFlattener()),\n",
    "                        ('tfidf', TfidfVectorizer(lowercase=False, tokenizer=lambda x: x, preprocessor=lambda x: x)),\n",
    "                        ('to_dense', DenseTransformer())\n",
    "                       ]),\n",
    "             ['petition_text']\n",
    "        ),\n",
    "        (\n",
    "            'ohe',\n",
    "             OneHotEncoder(handle_unknown='ignore'),\n",
    "             ['relevant_department']\n",
    "        ),             \n",
    "    ],\n",
    "    remainder=\"passthrough\", \n",
    "    verbose_feature_names_out=False #--> this keeps columns names simple.\n",
    ")"
   ]
  },
  {
   "cell_type": "code",
   "execution_count": 147,
   "id": "8e186d5d-0155-433a-8a42-83265a3d6141",
   "metadata": {
    "scrolled": true
   },
   "outputs": [
    {
     "data": {
      "text/plain": [
       "{'memory': None,\n",
       " 'steps': [('ct', ColumnTransformer(remainder='passthrough',\n",
       "                     transformers=[('vectorizer',\n",
       "                                    Pipeline(steps=[('to_unravel',\n",
       "                                                     TextFlattener()),\n",
       "                                                    ('tfidf',\n",
       "                                                     TfidfVectorizer(lowercase=False,\n",
       "                                                                     preprocessor=<function <lambda> at 0x000001B496449C60>,\n",
       "                                                                     tokenizer=<function <lambda> at 0x000001B496449800>)),\n",
       "                                                    ('to_dense',\n",
       "                                                     <__main__.DenseTransformer object at 0x000001B49644CD70>)]),\n",
       "                                    ['petition_text']),\n",
       "                                   ('ohe', OneHotEncoder(handle_unknown='ignore'),\n",
       "                                    ['relevant_department'])],\n",
       "                     verbose_feature_names_out=False)),\n",
       "  ('classifier', SGDClassifier())],\n",
       " 'transform_input': None,\n",
       " 'verbose': False,\n",
       " 'ct': ColumnTransformer(remainder='passthrough',\n",
       "                   transformers=[('vectorizer',\n",
       "                                  Pipeline(steps=[('to_unravel',\n",
       "                                                   TextFlattener()),\n",
       "                                                  ('tfidf',\n",
       "                                                   TfidfVectorizer(lowercase=False,\n",
       "                                                                   preprocessor=<function <lambda> at 0x000001B496449C60>,\n",
       "                                                                   tokenizer=<function <lambda> at 0x000001B496449800>)),\n",
       "                                                  ('to_dense',\n",
       "                                                   <__main__.DenseTransformer object at 0x000001B49644CD70>)]),\n",
       "                                  ['petition_text']),\n",
       "                                 ('ohe', OneHotEncoder(handle_unknown='ignore'),\n",
       "                                  ['relevant_department'])],\n",
       "                   verbose_feature_names_out=False),\n",
       " 'classifier': SGDClassifier(),\n",
       " 'ct__force_int_remainder_cols': True,\n",
       " 'ct__n_jobs': None,\n",
       " 'ct__remainder': 'passthrough',\n",
       " 'ct__sparse_threshold': 0.3,\n",
       " 'ct__transformer_weights': None,\n",
       " 'ct__transformers': [('vectorizer',\n",
       "   Pipeline(steps=[('to_unravel', TextFlattener()),\n",
       "                   ('tfidf',\n",
       "                    TfidfVectorizer(lowercase=False,\n",
       "                                    preprocessor=<function <lambda> at 0x000001B496449C60>,\n",
       "                                    tokenizer=<function <lambda> at 0x000001B496449800>)),\n",
       "                   ('to_dense',\n",
       "                    <__main__.DenseTransformer object at 0x000001B49644CD70>)]),\n",
       "   ['petition_text']),\n",
       "  ('ohe', OneHotEncoder(handle_unknown='ignore'), ['relevant_department'])],\n",
       " 'ct__verbose': False,\n",
       " 'ct__verbose_feature_names_out': False,\n",
       " 'ct__vectorizer': Pipeline(steps=[('to_unravel', TextFlattener()),\n",
       "                 ('tfidf',\n",
       "                  TfidfVectorizer(lowercase=False,\n",
       "                                  preprocessor=<function <lambda> at 0x000001B496449C60>,\n",
       "                                  tokenizer=<function <lambda> at 0x000001B496449800>)),\n",
       "                 ('to_dense',\n",
       "                  <__main__.DenseTransformer object at 0x000001B49644CD70>)]),\n",
       " 'ct__ohe': OneHotEncoder(handle_unknown='ignore'),\n",
       " 'ct__vectorizer__memory': None,\n",
       " 'ct__vectorizer__steps': [('to_unravel', TextFlattener()),\n",
       "  ('tfidf',\n",
       "   TfidfVectorizer(lowercase=False,\n",
       "                   preprocessor=<function <lambda> at 0x000001B496449C60>,\n",
       "                   tokenizer=<function <lambda> at 0x000001B496449800>)),\n",
       "  ('to_dense', <__main__.DenseTransformer at 0x1b49644cd70>)],\n",
       " 'ct__vectorizer__transform_input': None,\n",
       " 'ct__vectorizer__verbose': False,\n",
       " 'ct__vectorizer__to_unravel': TextFlattener(),\n",
       " 'ct__vectorizer__tfidf': TfidfVectorizer(lowercase=False,\n",
       "                 preprocessor=<function <lambda> at 0x000001B496449C60>,\n",
       "                 tokenizer=<function <lambda> at 0x000001B496449800>),\n",
       " 'ct__vectorizer__to_dense': <__main__.DenseTransformer at 0x1b49644cd70>,\n",
       " 'ct__vectorizer__tfidf__analyzer': 'word',\n",
       " 'ct__vectorizer__tfidf__binary': False,\n",
       " 'ct__vectorizer__tfidf__decode_error': 'strict',\n",
       " 'ct__vectorizer__tfidf__dtype': numpy.float64,\n",
       " 'ct__vectorizer__tfidf__encoding': 'utf-8',\n",
       " 'ct__vectorizer__tfidf__input': 'content',\n",
       " 'ct__vectorizer__tfidf__lowercase': False,\n",
       " 'ct__vectorizer__tfidf__max_df': 1.0,\n",
       " 'ct__vectorizer__tfidf__max_features': None,\n",
       " 'ct__vectorizer__tfidf__min_df': 1,\n",
       " 'ct__vectorizer__tfidf__ngram_range': (1, 1),\n",
       " 'ct__vectorizer__tfidf__norm': 'l2',\n",
       " 'ct__vectorizer__tfidf__preprocessor': <function __main__.<lambda>(x)>,\n",
       " 'ct__vectorizer__tfidf__smooth_idf': True,\n",
       " 'ct__vectorizer__tfidf__stop_words': None,\n",
       " 'ct__vectorizer__tfidf__strip_accents': None,\n",
       " 'ct__vectorizer__tfidf__sublinear_tf': False,\n",
       " 'ct__vectorizer__tfidf__token_pattern': '(?u)\\\\b\\\\w\\\\w+\\\\b',\n",
       " 'ct__vectorizer__tfidf__tokenizer': <function __main__.<lambda>(x)>,\n",
       " 'ct__vectorizer__tfidf__use_idf': True,\n",
       " 'ct__vectorizer__tfidf__vocabulary': None,\n",
       " 'ct__ohe__categories': 'auto',\n",
       " 'ct__ohe__drop': None,\n",
       " 'ct__ohe__dtype': numpy.float64,\n",
       " 'ct__ohe__feature_name_combiner': 'concat',\n",
       " 'ct__ohe__handle_unknown': 'ignore',\n",
       " 'ct__ohe__max_categories': None,\n",
       " 'ct__ohe__min_frequency': None,\n",
       " 'ct__ohe__sparse_output': True,\n",
       " 'classifier__alpha': 0.0001,\n",
       " 'classifier__average': False,\n",
       " 'classifier__class_weight': None,\n",
       " 'classifier__early_stopping': False,\n",
       " 'classifier__epsilon': 0.1,\n",
       " 'classifier__eta0': 0.0,\n",
       " 'classifier__fit_intercept': True,\n",
       " 'classifier__l1_ratio': 0.15,\n",
       " 'classifier__learning_rate': 'optimal',\n",
       " 'classifier__loss': 'hinge',\n",
       " 'classifier__max_iter': 1000,\n",
       " 'classifier__n_iter_no_change': 5,\n",
       " 'classifier__n_jobs': None,\n",
       " 'classifier__penalty': 'l2',\n",
       " 'classifier__power_t': 0.5,\n",
       " 'classifier__random_state': None,\n",
       " 'classifier__shuffle': True,\n",
       " 'classifier__tol': 0.001,\n",
       " 'classifier__validation_fraction': 0.1,\n",
       " 'classifier__verbose': 0,\n",
       " 'classifier__warm_start': False}"
      ]
     },
     "execution_count": 147,
     "metadata": {},
     "output_type": "execute_result"
    }
   ],
   "source": [
    "clf_ = Pipeline(\n",
    "        steps =[\n",
    "                ('ct', ct_log),\n",
    "              ('classifier', SGDClassifier()),\n",
    "      ]\n",
    "    )\n",
    "\n",
    "clf_.get_params()"
   ]
  },
  {
   "cell_type": "code",
   "execution_count": 148,
   "id": "179ff8cf-67b4-4332-ba12-065baf3e4870",
   "metadata": {},
   "outputs": [],
   "source": [
    "hparameters = {\n",
    "              'ct__vectorizer__tfidf__ngram_range': [(1,1),(1, 2)],\n",
    "              'ct__vectorizer__tfidf__max_features': [2000,25000],\n",
    "              'classifier__penalty': ['l2','l1'],\n",
    "              'classifier__alpha': [0.0001],\n",
    "             }\n",
    "\n",
    "clf_search = GridSearchCV(clf_, hparameters, scoring= \"accuracy\",cv=5,error_score='raise')\n",
    "\n"
   ]
  },
  {
   "cell_type": "code",
   "execution_count": 162,
   "id": "5a880384-5438-497f-9c97-cbc4af9dc057",
   "metadata": {},
   "outputs": [
    {
     "name": "stdout",
     "output_type": "stream",
     "text": [
      "Time taken to train gridsearch: 1.05 seconds.\n",
      "\n"
     ]
    }
   ],
   "source": [
    "t0 = tt()\n",
    "_ =clf_search.fit(x_train, y_train)\n",
    "print(f'Time taken to train gridsearch: {tt()-t0:.2f} seconds.')\n",
    "print()\n",
    "# Get the best estimator for further analysis of the results using the test set\n",
    "best_clf = clf_search.best_estimator_\n",
    "\n"
   ]
  },
  {
   "cell_type": "code",
   "execution_count": 163,
   "id": "24990c55-82e5-4a33-87a6-6fc9bb54dc8e",
   "metadata": {},
   "outputs": [
    {
     "name": "stdout",
     "output_type": "stream",
     "text": [
      "               precision    recall  f1-score   support\n",
      "\n",
      "    Important       0.64      0.70      0.67        10\n",
      "Non-Important       0.67      0.60      0.63        10\n",
      "\n",
      "     accuracy                           0.65        20\n",
      "    macro avg       0.65      0.65      0.65        20\n",
      " weighted avg       0.65      0.65      0.65        20\n",
      "\n",
      "0.6625 {'classifier__alpha': 0.0001, 'classifier__penalty': 'l2', 'ct__vectorizer__tfidf__max_features': 2000, 'ct__vectorizer__tfidf__ngram_range': (1, 2)}\n",
      "\n",
      "0.65\n"
     ]
    },
    {
     "data": {
      "image/png": "[encoded data removed]",
      "text/plain": [
       "<Figure size 640x480 with 2 Axes>"
      ]
     },
     "metadata": {},
     "output_type": "display_data"
    }
   ],
   "source": [
    "y_pred = best_clf.predict(x_test)\n",
    "print(classification_report(y_test, y_pred, target_names = [\"Important\",\"Non-Important\"]))\n",
    "\n",
    "cm= ConfusionMatrixDisplay.from_estimator(best_clf, x_test, y_test)\n",
    "\n",
    "print(clf_search.best_score_, clf_search.best_params_)\n",
    "print()\n",
    "print(accuracy_score(y_test,y_pred))"
   ]
  },
  {
   "cell_type": "code",
   "execution_count": 173,
   "id": "10fb37fb-d4af-48df-b4d3-f99485752e58",
   "metadata": {
    "editable": true,
    "slideshow": {
     "slide_type": ""
    },
    "tags": []
   },
   "outputs": [
    {
     "name": "stdout",
     "output_type": "stream",
     "text": [
      "               precision    recall  f1-score   support\n",
      "\n",
      "    Important       0.45      0.50      0.48        10\n",
      "Non-Important       0.44      0.40      0.42        10\n",
      "\n",
      "     accuracy                           0.45        20\n",
      "    macro avg       0.45      0.45      0.45        20\n",
      " weighted avg       0.45      0.45      0.45        20\n",
      "\n"
     ]
    },
    {
     "data": {
      "image/png": "[encoded data removed]",
      "text/plain": [
       "<Figure size 640x480 with 2 Axes>"
      ]
     },
     "metadata": {},
     "output_type": "display_data"
    }
   ],
   "source": [
    "from sklearn.dummy import DummyClassifier\n",
    "trivial_clf = DummyClassifier(strategy=\"uniform\")\n",
    "trivial_clf.fit(x_train, y_train)\n",
    "\n",
    "y_trivial = trivial_clf.predict(x_test)\n",
    "print(classification_report(y_test, y_trivial, target_names = [\"Important\",\"Non-Important\"]))\n",
    "\n",
    "cm= ConfusionMatrixDisplay.from_estimator(trivial_clf, x_test, y_test)\n"
   ]
  },
  {
   "cell_type": "code",
   "execution_count": 174,
   "id": "82719e3f-41e9-4b40-b151-1f066d657a82",
   "metadata": {},
   "outputs": [
    {
     "data": {
      "text/html": [
       "<div>\n",
       "<style scoped>\n",
       "    .dataframe tbody tr th:only-of-type {\n",
       "        vertical-align: middle;\n",
       "    }\n",
       "\n",
       "    .dataframe tbody tr th {\n",
       "        vertical-align: top;\n",
       "    }\n",
       "\n",
       "    .dataframe thead th {\n",
       "        text-align: right;\n",
       "    }\n",
       "</style>\n",
       "<table border=\"1\" class=\"dataframe\">\n",
       "  <thead>\n",
       "    <tr style=\"text-align: right;\">\n",
       "      <th></th>\n",
       "      <th>relevant_department</th>\n",
       "      <th>deviation_across_regions</th>\n",
       "      <th>petition_importance</th>\n",
       "      <th>petition_text</th>\n",
       "      <th>has_event</th>\n",
       "      <th>has_date</th>\n",
       "      <th>has_person</th>\n",
       "    </tr>\n",
       "  </thead>\n",
       "  <tbody>\n",
       "    <tr>\n",
       "      <th>100</th>\n",
       "      <td>Department for Education</td>\n",
       "      <td>0.000110</td>\n",
       "      <td>NaN</td>\n",
       "      <td>[ban, mandatory, uniform, state, school, europ...</td>\n",
       "      <td>0</td>\n",
       "      <td>0</td>\n",
       "      <td>0</td>\n",
       "    </tr>\n",
       "    <tr>\n",
       "      <th>101</th>\n",
       "      <td>Department for Education</td>\n",
       "      <td>0.000378</td>\n",
       "      <td>NaN</td>\n",
       "      <td>[support, gcse, level, exam, impact, covid-19,...</td>\n",
       "      <td>0</td>\n",
       "      <td>0</td>\n",
       "      <td>1</td>\n",
       "    </tr>\n",
       "    <tr>\n",
       "      <th>102</th>\n",
       "      <td>Department for Education</td>\n",
       "      <td>0.000142</td>\n",
       "      <td>NaN</td>\n",
       "      <td>[reform, assessment, english, gcse, believe, c...</td>\n",
       "      <td>0</td>\n",
       "      <td>0</td>\n",
       "      <td>0</td>\n",
       "    </tr>\n",
       "    <tr>\n",
       "      <th>103</th>\n",
       "      <td>Department for Education</td>\n",
       "      <td>0.011228</td>\n",
       "      <td>NaN</td>\n",
       "      <td>[increase, funding, early, year, setting, beli...</td>\n",
       "      <td>0</td>\n",
       "      <td>0</td>\n",
       "      <td>1</td>\n",
       "    </tr>\n",
       "    <tr>\n",
       "      <th>104</th>\n",
       "      <td>Department for Environment, Food and Rural Aff...</td>\n",
       "      <td>0.000059</td>\n",
       "      <td>NaN</td>\n",
       "      <td>[introduce, legal, minimum, requirement, hamst...</td>\n",
       "      <td>0</td>\n",
       "      <td>0</td>\n",
       "      <td>0</td>\n",
       "    </tr>\n",
       "  </tbody>\n",
       "</table>\n",
       "</div>"
      ],
      "text/plain": [
       "                                   relevant_department  \\\n",
       "100                           Department for Education   \n",
       "101                           Department for Education   \n",
       "102                           Department for Education   \n",
       "103                           Department for Education   \n",
       "104  Department for Environment, Food and Rural Aff...   \n",
       "\n",
       "     deviation_across_regions petition_importance  \\\n",
       "100                  0.000110                 NaN   \n",
       "101                  0.000378                 NaN   \n",
       "102                  0.000142                 NaN   \n",
       "103                  0.011228                 NaN   \n",
       "104                  0.000059                 NaN   \n",
       "\n",
       "                                         petition_text  has_event  has_date  \\\n",
       "100  [ban, mandatory, uniform, state, school, europ...          0         0   \n",
       "101  [support, gcse, level, exam, impact, covid-19,...          0         0   \n",
       "102  [reform, assessment, english, gcse, believe, c...          0         0   \n",
       "103  [increase, funding, early, year, setting, beli...          0         0   \n",
       "104  [introduce, legal, minimum, requirement, hamst...          0         0   \n",
       "\n",
       "     has_person  \n",
       "100           0  \n",
       "101           1  \n",
       "102           0  \n",
       "103           1  \n",
       "104           0  "
      ]
     },
     "execution_count": 174,
     "metadata": {},
     "output_type": "execute_result"
    }
   ],
   "source": [
    "unlabeled_data = updated_data[updated_data[\"petition_importance\"].isna()]\n",
    "unlabeled_data.head()"
   ]
  },
  {
   "cell_type": "code",
   "execution_count": 175,
   "id": "1a907107-ca88-48d7-ba28-7d6af84745b9",
   "metadata": {},
   "outputs": [
    {
     "data": {
      "text/html": [
       "<div>\n",
       "<style scoped>\n",
       "    .dataframe tbody tr th:only-of-type {\n",
       "        vertical-align: middle;\n",
       "    }\n",
       "\n",
       "    .dataframe tbody tr th {\n",
       "        vertical-align: top;\n",
       "    }\n",
       "\n",
       "    .dataframe thead th {\n",
       "        text-align: right;\n",
       "    }\n",
       "</style>\n",
       "<table border=\"1\" class=\"dataframe\">\n",
       "  <thead>\n",
       "    <tr style=\"text-align: right;\">\n",
       "      <th></th>\n",
       "      <th>relevant_department</th>\n",
       "      <th>deviation_across_regions</th>\n",
       "      <th>petition_text</th>\n",
       "      <th>has_event</th>\n",
       "      <th>has_date</th>\n",
       "      <th>has_person</th>\n",
       "    </tr>\n",
       "  </thead>\n",
       "  <tbody>\n",
       "    <tr>\n",
       "      <th>100</th>\n",
       "      <td>Department for Education</td>\n",
       "      <td>0.000110</td>\n",
       "      <td>[ban, mandatory, uniform, state, school, europ...</td>\n",
       "      <td>0</td>\n",
       "      <td>0</td>\n",
       "      <td>0</td>\n",
       "    </tr>\n",
       "    <tr>\n",
       "      <th>101</th>\n",
       "      <td>Department for Education</td>\n",
       "      <td>0.000378</td>\n",
       "      <td>[support, gcse, level, exam, impact, covid-19,...</td>\n",
       "      <td>0</td>\n",
       "      <td>0</td>\n",
       "      <td>1</td>\n",
       "    </tr>\n",
       "    <tr>\n",
       "      <th>102</th>\n",
       "      <td>Department for Education</td>\n",
       "      <td>0.000142</td>\n",
       "      <td>[reform, assessment, english, gcse, believe, c...</td>\n",
       "      <td>0</td>\n",
       "      <td>0</td>\n",
       "      <td>0</td>\n",
       "    </tr>\n",
       "    <tr>\n",
       "      <th>103</th>\n",
       "      <td>Department for Education</td>\n",
       "      <td>0.011228</td>\n",
       "      <td>[increase, funding, early, year, setting, beli...</td>\n",
       "      <td>0</td>\n",
       "      <td>0</td>\n",
       "      <td>1</td>\n",
       "    </tr>\n",
       "    <tr>\n",
       "      <th>104</th>\n",
       "      <td>Department for Environment, Food and Rural Aff...</td>\n",
       "      <td>0.000059</td>\n",
       "      <td>[introduce, legal, minimum, requirement, hamst...</td>\n",
       "      <td>0</td>\n",
       "      <td>0</td>\n",
       "      <td>0</td>\n",
       "    </tr>\n",
       "  </tbody>\n",
       "</table>\n",
       "</div>"
      ],
      "text/plain": [
       "                                   relevant_department  \\\n",
       "100                           Department for Education   \n",
       "101                           Department for Education   \n",
       "102                           Department for Education   \n",
       "103                           Department for Education   \n",
       "104  Department for Environment, Food and Rural Aff...   \n",
       "\n",
       "     deviation_across_regions  \\\n",
       "100                  0.000110   \n",
       "101                  0.000378   \n",
       "102                  0.000142   \n",
       "103                  0.011228   \n",
       "104                  0.000059   \n",
       "\n",
       "                                         petition_text  has_event  has_date  \\\n",
       "100  [ban, mandatory, uniform, state, school, europ...          0         0   \n",
       "101  [support, gcse, level, exam, impact, covid-19,...          0         0   \n",
       "102  [reform, assessment, english, gcse, believe, c...          0         0   \n",
       "103  [increase, funding, early, year, setting, beli...          0         0   \n",
       "104  [introduce, legal, minimum, requirement, hamst...          0         0   \n",
       "\n",
       "     has_person  \n",
       "100           0  \n",
       "101           1  \n",
       "102           0  \n",
       "103           1  \n",
       "104           0  "
      ]
     },
     "execution_count": 175,
     "metadata": {},
     "output_type": "execute_result"
    }
   ],
   "source": [
    "unlabeled_data = unlabeled_data.drop(columns=\"petition_importance\")\n",
    "unlabeled_data.head()"
   ]
  },
  {
   "cell_type": "markdown",
   "id": "a92faabe-05c0-4b9a-96b9-5a355c9c3e82",
   "metadata": {},
   "source": [
    "#### by the logic of supervised learning the best_clf model should be trained on the 80 records passed to predict on the other missing records"
   ]
  },
  {
   "cell_type": "code",
   "execution_count": 215,
   "id": "a39baf21-3f7a-4ef4-9b64-a2c645c94baf",
   "metadata": {},
   "outputs": [],
   "source": [
    "updated_data[\"Predicted Importance (Supervised Learning)\"] = best_clf.predict(updated_data)\n",
    "\n"
   ]
  },
  {
   "cell_type": "code",
   "execution_count": 230,
   "id": "88b09edb-fbb8-4b49-b73c-b06393439940",
   "metadata": {},
   "outputs": [],
   "source": [
    "data[\"Predicted Importance (Supervised Learning)\"] = updated_data[\"Predicted Importance (Supervised Learning)\"]"
   ]
  },
  {
   "cell_type": "code",
   "execution_count": 231,
   "id": "2d4c3b2e-5b60-4084-b7d4-8ded7fdf79f1",
   "metadata": {},
   "outputs": [],
   "source": [
    "data.to_csv(\"Predicted_Importance_Dataset.csv\")"
   ]
  }
 ],
 "metadata": {
  "accelerator": "GPU",
  "colab": {
   "collapsed_sections": [
    "6ae43cdd-13d7-42e8-8419-514c206b9e6c",
    "13e27907-e7f6-4c3b-9ca4-a87e5094260c"
   ],
   "gpuType": "T4",
   "provenance": []
  },
  "kernelspec": {
   "display_name": "Python 3 (ipykernel)",
   "language": "python",
   "name": "python3"
  },
  "language_info": {
   "codemirror_mode": {
    "name": "ipython",
    "version": 3
   },
   "file_extension": ".py",
   "mimetype": "text/x-python",
   "name": "python",
   "nbconvert_exporter": "python",
   "pygments_lexer": "ipython3",
   "version": "3.12.7"
  }
 },
 "nbformat": 4,
 "nbformat_minor": 5
}
